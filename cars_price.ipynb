{
  "nbformat": 4,
  "nbformat_minor": 0,
  "metadata": {
    "colab": {
      "provenance": [],
      "collapsed_sections": [],
      "include_colab_link": true
    },
    "kernelspec": {
      "name": "python3",
      "display_name": "Python 3"
    },
    "language_info": {
      "name": "python"
    }
  },
  "cells": [
    {
      "cell_type": "markdown",
      "metadata": {
        "id": "view-in-github",
        "colab_type": "text"
      },
      "source": [
        "<a href=\"https://colab.research.google.com/github/Ganeshprasannamax/Car_Price/blob/main/cars_price.ipynb\" target=\"_parent\"><img src=\"https://colab.research.google.com/assets/colab-badge.svg\" alt=\"Open In Colab\"/></a>"
      ]
    },
    {
      "cell_type": "code",
      "execution_count": 1,
      "metadata": {
        "id": "q0H1X-upeqlm"
      },
      "outputs": [],
      "source": [
        "import pandas as pd\n",
        "import numpy as np"
      ]
    },
    {
      "cell_type": "code",
      "source": [
        "# loading the data\n",
        "data = pd.read_csv('cars_price.csv')"
      ],
      "metadata": {
        "id": "Jnx2DFzv0kEq"
      },
      "execution_count": 4,
      "outputs": []
    },
    {
      "cell_type": "code",
      "source": [
        "data.head(10)"
      ],
      "metadata": {
        "id": "1WJKVwVJ1TAE",
        "outputId": "b591ceb5-b2f3-404e-93ad-7b0ae99eac28",
        "colab": {
          "base_uri": "https://localhost:8080/",
          "height": 523
        }
      },
      "execution_count": 5,
      "outputs": [
        {
          "output_type": "execute_result",
          "data": {
            "text/plain": [
              "   symboling normalized-losses         make fuel-type aspiration num-of-doors  \\\n",
              "0          3                 ?  alfa-romero       gas        std          two   \n",
              "1          3                 ?  alfa-romero       gas        std          two   \n",
              "2          1                 ?  alfa-romero       gas        std          two   \n",
              "3          2               164         audi       gas        std         four   \n",
              "4          2               164         audi       gas        std         four   \n",
              "5          2                 ?         audi       gas        std          two   \n",
              "6          1               158         audi       gas        std         four   \n",
              "7          1                 ?         audi       gas        std         four   \n",
              "8          1               158         audi       gas      turbo         four   \n",
              "9          0                 ?         audi       gas      turbo          two   \n",
              "\n",
              "    body-style drive-wheels engine-location  wheel-base  ...  engine-size  \\\n",
              "0  convertible          rwd           front        88.6  ...          130   \n",
              "1  convertible          rwd           front        88.6  ...          130   \n",
              "2    hatchback          rwd           front        94.5  ...          152   \n",
              "3        sedan          fwd           front        99.8  ...          109   \n",
              "4        sedan          4wd           front        99.4  ...          136   \n",
              "5        sedan          fwd           front        99.8  ...          136   \n",
              "6        sedan          fwd           front       105.8  ...          136   \n",
              "7        wagon          fwd           front       105.8  ...          136   \n",
              "8        sedan          fwd           front       105.8  ...          131   \n",
              "9    hatchback          4wd           front        99.5  ...          131   \n",
              "\n",
              "   fuel-system  bore  stroke compression-ratio horsepower  peak-rpm city-mpg  \\\n",
              "0         mpfi  3.47    2.68               9.0        111      5000       21   \n",
              "1         mpfi  3.47    2.68               9.0        111      5000       21   \n",
              "2         mpfi  2.68    3.47               9.0        154      5000       19   \n",
              "3         mpfi  3.19     3.4              10.0        102      5500       24   \n",
              "4         mpfi  3.19     3.4               8.0        115      5500       18   \n",
              "5         mpfi  3.19     3.4               8.5        110      5500       19   \n",
              "6         mpfi  3.19     3.4               8.5        110      5500       19   \n",
              "7         mpfi  3.19     3.4               8.5        110      5500       19   \n",
              "8         mpfi  3.13     3.4               8.3        140      5500       17   \n",
              "9         mpfi  3.13     3.4               7.0        160      5500       16   \n",
              "\n",
              "  highway-mpg  price  \n",
              "0          27  13495  \n",
              "1          27  16500  \n",
              "2          26  16500  \n",
              "3          30  13950  \n",
              "4          22  17450  \n",
              "5          25  15250  \n",
              "6          25  17710  \n",
              "7          25  18920  \n",
              "8          20  23875  \n",
              "9          22      ?  \n",
              "\n",
              "[10 rows x 26 columns]"
            ],
            "text/html": [
              "\n",
              "  <div id=\"df-0c906731-9283-4e78-9fb3-6065c055a9a0\">\n",
              "    <div class=\"colab-df-container\">\n",
              "      <div>\n",
              "<style scoped>\n",
              "    .dataframe tbody tr th:only-of-type {\n",
              "        vertical-align: middle;\n",
              "    }\n",
              "\n",
              "    .dataframe tbody tr th {\n",
              "        vertical-align: top;\n",
              "    }\n",
              "\n",
              "    .dataframe thead th {\n",
              "        text-align: right;\n",
              "    }\n",
              "</style>\n",
              "<table border=\"1\" class=\"dataframe\">\n",
              "  <thead>\n",
              "    <tr style=\"text-align: right;\">\n",
              "      <th></th>\n",
              "      <th>symboling</th>\n",
              "      <th>normalized-losses</th>\n",
              "      <th>make</th>\n",
              "      <th>fuel-type</th>\n",
              "      <th>aspiration</th>\n",
              "      <th>num-of-doors</th>\n",
              "      <th>body-style</th>\n",
              "      <th>drive-wheels</th>\n",
              "      <th>engine-location</th>\n",
              "      <th>wheel-base</th>\n",
              "      <th>...</th>\n",
              "      <th>engine-size</th>\n",
              "      <th>fuel-system</th>\n",
              "      <th>bore</th>\n",
              "      <th>stroke</th>\n",
              "      <th>compression-ratio</th>\n",
              "      <th>horsepower</th>\n",
              "      <th>peak-rpm</th>\n",
              "      <th>city-mpg</th>\n",
              "      <th>highway-mpg</th>\n",
              "      <th>price</th>\n",
              "    </tr>\n",
              "  </thead>\n",
              "  <tbody>\n",
              "    <tr>\n",
              "      <th>0</th>\n",
              "      <td>3</td>\n",
              "      <td>?</td>\n",
              "      <td>alfa-romero</td>\n",
              "      <td>gas</td>\n",
              "      <td>std</td>\n",
              "      <td>two</td>\n",
              "      <td>convertible</td>\n",
              "      <td>rwd</td>\n",
              "      <td>front</td>\n",
              "      <td>88.6</td>\n",
              "      <td>...</td>\n",
              "      <td>130</td>\n",
              "      <td>mpfi</td>\n",
              "      <td>3.47</td>\n",
              "      <td>2.68</td>\n",
              "      <td>9.0</td>\n",
              "      <td>111</td>\n",
              "      <td>5000</td>\n",
              "      <td>21</td>\n",
              "      <td>27</td>\n",
              "      <td>13495</td>\n",
              "    </tr>\n",
              "    <tr>\n",
              "      <th>1</th>\n",
              "      <td>3</td>\n",
              "      <td>?</td>\n",
              "      <td>alfa-romero</td>\n",
              "      <td>gas</td>\n",
              "      <td>std</td>\n",
              "      <td>two</td>\n",
              "      <td>convertible</td>\n",
              "      <td>rwd</td>\n",
              "      <td>front</td>\n",
              "      <td>88.6</td>\n",
              "      <td>...</td>\n",
              "      <td>130</td>\n",
              "      <td>mpfi</td>\n",
              "      <td>3.47</td>\n",
              "      <td>2.68</td>\n",
              "      <td>9.0</td>\n",
              "      <td>111</td>\n",
              "      <td>5000</td>\n",
              "      <td>21</td>\n",
              "      <td>27</td>\n",
              "      <td>16500</td>\n",
              "    </tr>\n",
              "    <tr>\n",
              "      <th>2</th>\n",
              "      <td>1</td>\n",
              "      <td>?</td>\n",
              "      <td>alfa-romero</td>\n",
              "      <td>gas</td>\n",
              "      <td>std</td>\n",
              "      <td>two</td>\n",
              "      <td>hatchback</td>\n",
              "      <td>rwd</td>\n",
              "      <td>front</td>\n",
              "      <td>94.5</td>\n",
              "      <td>...</td>\n",
              "      <td>152</td>\n",
              "      <td>mpfi</td>\n",
              "      <td>2.68</td>\n",
              "      <td>3.47</td>\n",
              "      <td>9.0</td>\n",
              "      <td>154</td>\n",
              "      <td>5000</td>\n",
              "      <td>19</td>\n",
              "      <td>26</td>\n",
              "      <td>16500</td>\n",
              "    </tr>\n",
              "    <tr>\n",
              "      <th>3</th>\n",
              "      <td>2</td>\n",
              "      <td>164</td>\n",
              "      <td>audi</td>\n",
              "      <td>gas</td>\n",
              "      <td>std</td>\n",
              "      <td>four</td>\n",
              "      <td>sedan</td>\n",
              "      <td>fwd</td>\n",
              "      <td>front</td>\n",
              "      <td>99.8</td>\n",
              "      <td>...</td>\n",
              "      <td>109</td>\n",
              "      <td>mpfi</td>\n",
              "      <td>3.19</td>\n",
              "      <td>3.4</td>\n",
              "      <td>10.0</td>\n",
              "      <td>102</td>\n",
              "      <td>5500</td>\n",
              "      <td>24</td>\n",
              "      <td>30</td>\n",
              "      <td>13950</td>\n",
              "    </tr>\n",
              "    <tr>\n",
              "      <th>4</th>\n",
              "      <td>2</td>\n",
              "      <td>164</td>\n",
              "      <td>audi</td>\n",
              "      <td>gas</td>\n",
              "      <td>std</td>\n",
              "      <td>four</td>\n",
              "      <td>sedan</td>\n",
              "      <td>4wd</td>\n",
              "      <td>front</td>\n",
              "      <td>99.4</td>\n",
              "      <td>...</td>\n",
              "      <td>136</td>\n",
              "      <td>mpfi</td>\n",
              "      <td>3.19</td>\n",
              "      <td>3.4</td>\n",
              "      <td>8.0</td>\n",
              "      <td>115</td>\n",
              "      <td>5500</td>\n",
              "      <td>18</td>\n",
              "      <td>22</td>\n",
              "      <td>17450</td>\n",
              "    </tr>\n",
              "    <tr>\n",
              "      <th>5</th>\n",
              "      <td>2</td>\n",
              "      <td>?</td>\n",
              "      <td>audi</td>\n",
              "      <td>gas</td>\n",
              "      <td>std</td>\n",
              "      <td>two</td>\n",
              "      <td>sedan</td>\n",
              "      <td>fwd</td>\n",
              "      <td>front</td>\n",
              "      <td>99.8</td>\n",
              "      <td>...</td>\n",
              "      <td>136</td>\n",
              "      <td>mpfi</td>\n",
              "      <td>3.19</td>\n",
              "      <td>3.4</td>\n",
              "      <td>8.5</td>\n",
              "      <td>110</td>\n",
              "      <td>5500</td>\n",
              "      <td>19</td>\n",
              "      <td>25</td>\n",
              "      <td>15250</td>\n",
              "    </tr>\n",
              "    <tr>\n",
              "      <th>6</th>\n",
              "      <td>1</td>\n",
              "      <td>158</td>\n",
              "      <td>audi</td>\n",
              "      <td>gas</td>\n",
              "      <td>std</td>\n",
              "      <td>four</td>\n",
              "      <td>sedan</td>\n",
              "      <td>fwd</td>\n",
              "      <td>front</td>\n",
              "      <td>105.8</td>\n",
              "      <td>...</td>\n",
              "      <td>136</td>\n",
              "      <td>mpfi</td>\n",
              "      <td>3.19</td>\n",
              "      <td>3.4</td>\n",
              "      <td>8.5</td>\n",
              "      <td>110</td>\n",
              "      <td>5500</td>\n",
              "      <td>19</td>\n",
              "      <td>25</td>\n",
              "      <td>17710</td>\n",
              "    </tr>\n",
              "    <tr>\n",
              "      <th>7</th>\n",
              "      <td>1</td>\n",
              "      <td>?</td>\n",
              "      <td>audi</td>\n",
              "      <td>gas</td>\n",
              "      <td>std</td>\n",
              "      <td>four</td>\n",
              "      <td>wagon</td>\n",
              "      <td>fwd</td>\n",
              "      <td>front</td>\n",
              "      <td>105.8</td>\n",
              "      <td>...</td>\n",
              "      <td>136</td>\n",
              "      <td>mpfi</td>\n",
              "      <td>3.19</td>\n",
              "      <td>3.4</td>\n",
              "      <td>8.5</td>\n",
              "      <td>110</td>\n",
              "      <td>5500</td>\n",
              "      <td>19</td>\n",
              "      <td>25</td>\n",
              "      <td>18920</td>\n",
              "    </tr>\n",
              "    <tr>\n",
              "      <th>8</th>\n",
              "      <td>1</td>\n",
              "      <td>158</td>\n",
              "      <td>audi</td>\n",
              "      <td>gas</td>\n",
              "      <td>turbo</td>\n",
              "      <td>four</td>\n",
              "      <td>sedan</td>\n",
              "      <td>fwd</td>\n",
              "      <td>front</td>\n",
              "      <td>105.8</td>\n",
              "      <td>...</td>\n",
              "      <td>131</td>\n",
              "      <td>mpfi</td>\n",
              "      <td>3.13</td>\n",
              "      <td>3.4</td>\n",
              "      <td>8.3</td>\n",
              "      <td>140</td>\n",
              "      <td>5500</td>\n",
              "      <td>17</td>\n",
              "      <td>20</td>\n",
              "      <td>23875</td>\n",
              "    </tr>\n",
              "    <tr>\n",
              "      <th>9</th>\n",
              "      <td>0</td>\n",
              "      <td>?</td>\n",
              "      <td>audi</td>\n",
              "      <td>gas</td>\n",
              "      <td>turbo</td>\n",
              "      <td>two</td>\n",
              "      <td>hatchback</td>\n",
              "      <td>4wd</td>\n",
              "      <td>front</td>\n",
              "      <td>99.5</td>\n",
              "      <td>...</td>\n",
              "      <td>131</td>\n",
              "      <td>mpfi</td>\n",
              "      <td>3.13</td>\n",
              "      <td>3.4</td>\n",
              "      <td>7.0</td>\n",
              "      <td>160</td>\n",
              "      <td>5500</td>\n",
              "      <td>16</td>\n",
              "      <td>22</td>\n",
              "      <td>?</td>\n",
              "    </tr>\n",
              "  </tbody>\n",
              "</table>\n",
              "<p>10 rows × 26 columns</p>\n",
              "</div>\n",
              "      <button class=\"colab-df-convert\" onclick=\"convertToInteractive('df-0c906731-9283-4e78-9fb3-6065c055a9a0')\"\n",
              "              title=\"Convert this dataframe to an interactive table.\"\n",
              "              style=\"display:none;\">\n",
              "        \n",
              "  <svg xmlns=\"http://www.w3.org/2000/svg\" height=\"24px\"viewBox=\"0 0 24 24\"\n",
              "       width=\"24px\">\n",
              "    <path d=\"M0 0h24v24H0V0z\" fill=\"none\"/>\n",
              "    <path d=\"M18.56 5.44l.94 2.06.94-2.06 2.06-.94-2.06-.94-.94-2.06-.94 2.06-2.06.94zm-11 1L8.5 8.5l.94-2.06 2.06-.94-2.06-.94L8.5 2.5l-.94 2.06-2.06.94zm10 10l.94 2.06.94-2.06 2.06-.94-2.06-.94-.94-2.06-.94 2.06-2.06.94z\"/><path d=\"M17.41 7.96l-1.37-1.37c-.4-.4-.92-.59-1.43-.59-.52 0-1.04.2-1.43.59L10.3 9.45l-7.72 7.72c-.78.78-.78 2.05 0 2.83L4 21.41c.39.39.9.59 1.41.59.51 0 1.02-.2 1.41-.59l7.78-7.78 2.81-2.81c.8-.78.8-2.07 0-2.86zM5.41 20L4 18.59l7.72-7.72 1.47 1.35L5.41 20z\"/>\n",
              "  </svg>\n",
              "      </button>\n",
              "      \n",
              "  <style>\n",
              "    .colab-df-container {\n",
              "      display:flex;\n",
              "      flex-wrap:wrap;\n",
              "      gap: 12px;\n",
              "    }\n",
              "\n",
              "    .colab-df-convert {\n",
              "      background-color: #E8F0FE;\n",
              "      border: none;\n",
              "      border-radius: 50%;\n",
              "      cursor: pointer;\n",
              "      display: none;\n",
              "      fill: #1967D2;\n",
              "      height: 32px;\n",
              "      padding: 0 0 0 0;\n",
              "      width: 32px;\n",
              "    }\n",
              "\n",
              "    .colab-df-convert:hover {\n",
              "      background-color: #E2EBFA;\n",
              "      box-shadow: 0px 1px 2px rgba(60, 64, 67, 0.3), 0px 1px 3px 1px rgba(60, 64, 67, 0.15);\n",
              "      fill: #174EA6;\n",
              "    }\n",
              "\n",
              "    [theme=dark] .colab-df-convert {\n",
              "      background-color: #3B4455;\n",
              "      fill: #D2E3FC;\n",
              "    }\n",
              "\n",
              "    [theme=dark] .colab-df-convert:hover {\n",
              "      background-color: #434B5C;\n",
              "      box-shadow: 0px 1px 3px 1px rgba(0, 0, 0, 0.15);\n",
              "      filter: drop-shadow(0px 1px 2px rgba(0, 0, 0, 0.3));\n",
              "      fill: #FFFFFF;\n",
              "    }\n",
              "  </style>\n",
              "\n",
              "      <script>\n",
              "        const buttonEl =\n",
              "          document.querySelector('#df-0c906731-9283-4e78-9fb3-6065c055a9a0 button.colab-df-convert');\n",
              "        buttonEl.style.display =\n",
              "          google.colab.kernel.accessAllowed ? 'block' : 'none';\n",
              "\n",
              "        async function convertToInteractive(key) {\n",
              "          const element = document.querySelector('#df-0c906731-9283-4e78-9fb3-6065c055a9a0');\n",
              "          const dataTable =\n",
              "            await google.colab.kernel.invokeFunction('convertToInteractive',\n",
              "                                                     [key], {});\n",
              "          if (!dataTable) return;\n",
              "\n",
              "          const docLinkHtml = 'Like what you see? Visit the ' +\n",
              "            '<a target=\"_blank\" href=https://colab.research.google.com/notebooks/data_table.ipynb>data table notebook</a>'\n",
              "            + ' to learn more about interactive tables.';\n",
              "          element.innerHTML = '';\n",
              "          dataTable['output_type'] = 'display_data';\n",
              "          await google.colab.output.renderOutput(dataTable, element);\n",
              "          const docLink = document.createElement('div');\n",
              "          docLink.innerHTML = docLinkHtml;\n",
              "          element.appendChild(docLink);\n",
              "        }\n",
              "      </script>\n",
              "    </div>\n",
              "  </div>\n",
              "  "
            ]
          },
          "metadata": {},
          "execution_count": 5
        }
      ]
    },
    {
      "cell_type": "code",
      "source": [
        "data.shape"
      ],
      "metadata": {
        "colab": {
          "base_uri": "https://localhost:8080/"
        },
        "id": "o_wQfNNc8Nxb",
        "outputId": "abeb9ef7-f28a-4070-9055-21ab9ddd2a90"
      },
      "execution_count": 6,
      "outputs": [
        {
          "output_type": "execute_result",
          "data": {
            "text/plain": [
              "(205, 26)"
            ]
          },
          "metadata": {},
          "execution_count": 6
        }
      ]
    },
    {
      "cell_type": "code",
      "source": [
        "data.describe()"
      ],
      "metadata": {
        "colab": {
          "base_uri": "https://localhost:8080/",
          "height": 300
        },
        "id": "Uk0cYPvlDICo",
        "outputId": "cf8d422d-335d-40a0-d2c3-838cd8556e25"
      },
      "execution_count": 7,
      "outputs": [
        {
          "output_type": "execute_result",
          "data": {
            "text/plain": [
              "        symboling  wheel-base      length       width      height  \\\n",
              "count  205.000000  205.000000  205.000000  205.000000  205.000000   \n",
              "mean     0.834146   98.756585  174.049268   65.907805   53.724878   \n",
              "std      1.245307    6.021776   12.337289    2.145204    2.443522   \n",
              "min     -2.000000   86.600000  141.100000   60.300000   47.800000   \n",
              "25%      0.000000   94.500000  166.300000   64.100000   52.000000   \n",
              "50%      1.000000   97.000000  173.200000   65.500000   54.100000   \n",
              "75%      2.000000  102.400000  183.100000   66.900000   55.500000   \n",
              "max      3.000000  120.900000  208.100000   72.300000   59.800000   \n",
              "\n",
              "       curb-weight  engine-size  compression-ratio    city-mpg  highway-mpg  \n",
              "count   205.000000   205.000000         205.000000  205.000000   205.000000  \n",
              "mean   2555.565854   126.907317          10.142537   25.219512    30.751220  \n",
              "std     520.680204    41.642693           3.972040    6.542142     6.886443  \n",
              "min    1488.000000    61.000000           7.000000   13.000000    16.000000  \n",
              "25%    2145.000000    97.000000           8.600000   19.000000    25.000000  \n",
              "50%    2414.000000   120.000000           9.000000   24.000000    30.000000  \n",
              "75%    2935.000000   141.000000           9.400000   30.000000    34.000000  \n",
              "max    4066.000000   326.000000          23.000000   49.000000    54.000000  "
            ],
            "text/html": [
              "\n",
              "  <div id=\"df-365d1f9d-9c32-45cd-a888-0bec580f2570\">\n",
              "    <div class=\"colab-df-container\">\n",
              "      <div>\n",
              "<style scoped>\n",
              "    .dataframe tbody tr th:only-of-type {\n",
              "        vertical-align: middle;\n",
              "    }\n",
              "\n",
              "    .dataframe tbody tr th {\n",
              "        vertical-align: top;\n",
              "    }\n",
              "\n",
              "    .dataframe thead th {\n",
              "        text-align: right;\n",
              "    }\n",
              "</style>\n",
              "<table border=\"1\" class=\"dataframe\">\n",
              "  <thead>\n",
              "    <tr style=\"text-align: right;\">\n",
              "      <th></th>\n",
              "      <th>symboling</th>\n",
              "      <th>wheel-base</th>\n",
              "      <th>length</th>\n",
              "      <th>width</th>\n",
              "      <th>height</th>\n",
              "      <th>curb-weight</th>\n",
              "      <th>engine-size</th>\n",
              "      <th>compression-ratio</th>\n",
              "      <th>city-mpg</th>\n",
              "      <th>highway-mpg</th>\n",
              "    </tr>\n",
              "  </thead>\n",
              "  <tbody>\n",
              "    <tr>\n",
              "      <th>count</th>\n",
              "      <td>205.000000</td>\n",
              "      <td>205.000000</td>\n",
              "      <td>205.000000</td>\n",
              "      <td>205.000000</td>\n",
              "      <td>205.000000</td>\n",
              "      <td>205.000000</td>\n",
              "      <td>205.000000</td>\n",
              "      <td>205.000000</td>\n",
              "      <td>205.000000</td>\n",
              "      <td>205.000000</td>\n",
              "    </tr>\n",
              "    <tr>\n",
              "      <th>mean</th>\n",
              "      <td>0.834146</td>\n",
              "      <td>98.756585</td>\n",
              "      <td>174.049268</td>\n",
              "      <td>65.907805</td>\n",
              "      <td>53.724878</td>\n",
              "      <td>2555.565854</td>\n",
              "      <td>126.907317</td>\n",
              "      <td>10.142537</td>\n",
              "      <td>25.219512</td>\n",
              "      <td>30.751220</td>\n",
              "    </tr>\n",
              "    <tr>\n",
              "      <th>std</th>\n",
              "      <td>1.245307</td>\n",
              "      <td>6.021776</td>\n",
              "      <td>12.337289</td>\n",
              "      <td>2.145204</td>\n",
              "      <td>2.443522</td>\n",
              "      <td>520.680204</td>\n",
              "      <td>41.642693</td>\n",
              "      <td>3.972040</td>\n",
              "      <td>6.542142</td>\n",
              "      <td>6.886443</td>\n",
              "    </tr>\n",
              "    <tr>\n",
              "      <th>min</th>\n",
              "      <td>-2.000000</td>\n",
              "      <td>86.600000</td>\n",
              "      <td>141.100000</td>\n",
              "      <td>60.300000</td>\n",
              "      <td>47.800000</td>\n",
              "      <td>1488.000000</td>\n",
              "      <td>61.000000</td>\n",
              "      <td>7.000000</td>\n",
              "      <td>13.000000</td>\n",
              "      <td>16.000000</td>\n",
              "    </tr>\n",
              "    <tr>\n",
              "      <th>25%</th>\n",
              "      <td>0.000000</td>\n",
              "      <td>94.500000</td>\n",
              "      <td>166.300000</td>\n",
              "      <td>64.100000</td>\n",
              "      <td>52.000000</td>\n",
              "      <td>2145.000000</td>\n",
              "      <td>97.000000</td>\n",
              "      <td>8.600000</td>\n",
              "      <td>19.000000</td>\n",
              "      <td>25.000000</td>\n",
              "    </tr>\n",
              "    <tr>\n",
              "      <th>50%</th>\n",
              "      <td>1.000000</td>\n",
              "      <td>97.000000</td>\n",
              "      <td>173.200000</td>\n",
              "      <td>65.500000</td>\n",
              "      <td>54.100000</td>\n",
              "      <td>2414.000000</td>\n",
              "      <td>120.000000</td>\n",
              "      <td>9.000000</td>\n",
              "      <td>24.000000</td>\n",
              "      <td>30.000000</td>\n",
              "    </tr>\n",
              "    <tr>\n",
              "      <th>75%</th>\n",
              "      <td>2.000000</td>\n",
              "      <td>102.400000</td>\n",
              "      <td>183.100000</td>\n",
              "      <td>66.900000</td>\n",
              "      <td>55.500000</td>\n",
              "      <td>2935.000000</td>\n",
              "      <td>141.000000</td>\n",
              "      <td>9.400000</td>\n",
              "      <td>30.000000</td>\n",
              "      <td>34.000000</td>\n",
              "    </tr>\n",
              "    <tr>\n",
              "      <th>max</th>\n",
              "      <td>3.000000</td>\n",
              "      <td>120.900000</td>\n",
              "      <td>208.100000</td>\n",
              "      <td>72.300000</td>\n",
              "      <td>59.800000</td>\n",
              "      <td>4066.000000</td>\n",
              "      <td>326.000000</td>\n",
              "      <td>23.000000</td>\n",
              "      <td>49.000000</td>\n",
              "      <td>54.000000</td>\n",
              "    </tr>\n",
              "  </tbody>\n",
              "</table>\n",
              "</div>\n",
              "      <button class=\"colab-df-convert\" onclick=\"convertToInteractive('df-365d1f9d-9c32-45cd-a888-0bec580f2570')\"\n",
              "              title=\"Convert this dataframe to an interactive table.\"\n",
              "              style=\"display:none;\">\n",
              "        \n",
              "  <svg xmlns=\"http://www.w3.org/2000/svg\" height=\"24px\"viewBox=\"0 0 24 24\"\n",
              "       width=\"24px\">\n",
              "    <path d=\"M0 0h24v24H0V0z\" fill=\"none\"/>\n",
              "    <path d=\"M18.56 5.44l.94 2.06.94-2.06 2.06-.94-2.06-.94-.94-2.06-.94 2.06-2.06.94zm-11 1L8.5 8.5l.94-2.06 2.06-.94-2.06-.94L8.5 2.5l-.94 2.06-2.06.94zm10 10l.94 2.06.94-2.06 2.06-.94-2.06-.94-.94-2.06-.94 2.06-2.06.94z\"/><path d=\"M17.41 7.96l-1.37-1.37c-.4-.4-.92-.59-1.43-.59-.52 0-1.04.2-1.43.59L10.3 9.45l-7.72 7.72c-.78.78-.78 2.05 0 2.83L4 21.41c.39.39.9.59 1.41.59.51 0 1.02-.2 1.41-.59l7.78-7.78 2.81-2.81c.8-.78.8-2.07 0-2.86zM5.41 20L4 18.59l7.72-7.72 1.47 1.35L5.41 20z\"/>\n",
              "  </svg>\n",
              "      </button>\n",
              "      \n",
              "  <style>\n",
              "    .colab-df-container {\n",
              "      display:flex;\n",
              "      flex-wrap:wrap;\n",
              "      gap: 12px;\n",
              "    }\n",
              "\n",
              "    .colab-df-convert {\n",
              "      background-color: #E8F0FE;\n",
              "      border: none;\n",
              "      border-radius: 50%;\n",
              "      cursor: pointer;\n",
              "      display: none;\n",
              "      fill: #1967D2;\n",
              "      height: 32px;\n",
              "      padding: 0 0 0 0;\n",
              "      width: 32px;\n",
              "    }\n",
              "\n",
              "    .colab-df-convert:hover {\n",
              "      background-color: #E2EBFA;\n",
              "      box-shadow: 0px 1px 2px rgba(60, 64, 67, 0.3), 0px 1px 3px 1px rgba(60, 64, 67, 0.15);\n",
              "      fill: #174EA6;\n",
              "    }\n",
              "\n",
              "    [theme=dark] .colab-df-convert {\n",
              "      background-color: #3B4455;\n",
              "      fill: #D2E3FC;\n",
              "    }\n",
              "\n",
              "    [theme=dark] .colab-df-convert:hover {\n",
              "      background-color: #434B5C;\n",
              "      box-shadow: 0px 1px 3px 1px rgba(0, 0, 0, 0.15);\n",
              "      filter: drop-shadow(0px 1px 2px rgba(0, 0, 0, 0.3));\n",
              "      fill: #FFFFFF;\n",
              "    }\n",
              "  </style>\n",
              "\n",
              "      <script>\n",
              "        const buttonEl =\n",
              "          document.querySelector('#df-365d1f9d-9c32-45cd-a888-0bec580f2570 button.colab-df-convert');\n",
              "        buttonEl.style.display =\n",
              "          google.colab.kernel.accessAllowed ? 'block' : 'none';\n",
              "\n",
              "        async function convertToInteractive(key) {\n",
              "          const element = document.querySelector('#df-365d1f9d-9c32-45cd-a888-0bec580f2570');\n",
              "          const dataTable =\n",
              "            await google.colab.kernel.invokeFunction('convertToInteractive',\n",
              "                                                     [key], {});\n",
              "          if (!dataTable) return;\n",
              "\n",
              "          const docLinkHtml = 'Like what you see? Visit the ' +\n",
              "            '<a target=\"_blank\" href=https://colab.research.google.com/notebooks/data_table.ipynb>data table notebook</a>'\n",
              "            + ' to learn more about interactive tables.';\n",
              "          element.innerHTML = '';\n",
              "          dataTable['output_type'] = 'display_data';\n",
              "          await google.colab.output.renderOutput(dataTable, element);\n",
              "          const docLink = document.createElement('div');\n",
              "          docLink.innerHTML = docLinkHtml;\n",
              "          element.appendChild(docLink);\n",
              "        }\n",
              "      </script>\n",
              "    </div>\n",
              "  </div>\n",
              "  "
            ]
          },
          "metadata": {},
          "execution_count": 7
        }
      ]
    },
    {
      "cell_type": "code",
      "source": [
        "data.info()"
      ],
      "metadata": {
        "colab": {
          "base_uri": "https://localhost:8080/"
        },
        "id": "DXz9IFap8SCw",
        "outputId": "bc5523ae-d77e-4817-cc93-17961e66cdb5"
      },
      "execution_count": 8,
      "outputs": [
        {
          "output_type": "stream",
          "name": "stdout",
          "text": [
            "<class 'pandas.core.frame.DataFrame'>\n",
            "RangeIndex: 205 entries, 0 to 204\n",
            "Data columns (total 26 columns):\n",
            " #   Column             Non-Null Count  Dtype  \n",
            "---  ------             --------------  -----  \n",
            " 0   symboling          205 non-null    int64  \n",
            " 1   normalized-losses  205 non-null    object \n",
            " 2   make               205 non-null    object \n",
            " 3   fuel-type          205 non-null    object \n",
            " 4   aspiration         205 non-null    object \n",
            " 5   num-of-doors       205 non-null    object \n",
            " 6   body-style         205 non-null    object \n",
            " 7   drive-wheels       205 non-null    object \n",
            " 8   engine-location    205 non-null    object \n",
            " 9   wheel-base         205 non-null    float64\n",
            " 10  length             205 non-null    float64\n",
            " 11  width              205 non-null    float64\n",
            " 12  height             205 non-null    float64\n",
            " 13  curb-weight        205 non-null    int64  \n",
            " 14  engine-type        205 non-null    object \n",
            " 15  num-of-cylinders   205 non-null    object \n",
            " 16  engine-size        205 non-null    int64  \n",
            " 17  fuel-system        205 non-null    object \n",
            " 18  bore               205 non-null    object \n",
            " 19  stroke             205 non-null    object \n",
            " 20  compression-ratio  205 non-null    float64\n",
            " 21  horsepower         205 non-null    object \n",
            " 22  peak-rpm           205 non-null    object \n",
            " 23  city-mpg           205 non-null    int64  \n",
            " 24  highway-mpg        205 non-null    int64  \n",
            " 25  price              205 non-null    object \n",
            "dtypes: float64(5), int64(5), object(16)\n",
            "memory usage: 41.8+ KB\n"
          ]
        }
      ]
    },
    {
      "cell_type": "code",
      "source": [
        "cols = data.columns\n",
        "cols"
      ],
      "metadata": {
        "colab": {
          "base_uri": "https://localhost:8080/"
        },
        "id": "jbFBYMoQDXRR",
        "outputId": "245d84e8-c6c7-4ab0-fdc4-3c38b442c876"
      },
      "execution_count": 9,
      "outputs": [
        {
          "output_type": "execute_result",
          "data": {
            "text/plain": [
              "Index(['symboling', 'normalized-losses', 'make', 'fuel-type', 'aspiration',\n",
              "       'num-of-doors', 'body-style', 'drive-wheels', 'engine-location',\n",
              "       'wheel-base', 'length', 'width', 'height', 'curb-weight', 'engine-type',\n",
              "       'num-of-cylinders', 'engine-size', 'fuel-system', 'bore', 'stroke',\n",
              "       'compression-ratio', 'horsepower', 'peak-rpm', 'city-mpg',\n",
              "       'highway-mpg', 'price'],\n",
              "      dtype='object')"
            ]
          },
          "metadata": {},
          "execution_count": 9
        }
      ]
    },
    {
      "cell_type": "code",
      "source": [
        "for col in cols:\n",
        "  print(col, data[col].nunique())"
      ],
      "metadata": {
        "colab": {
          "base_uri": "https://localhost:8080/"
        },
        "id": "k4eP5k30Dd6o",
        "outputId": "743056fd-7580-44ed-b426-0572b5788fa2"
      },
      "execution_count": 10,
      "outputs": [
        {
          "output_type": "stream",
          "name": "stdout",
          "text": [
            "symboling 6\n",
            "normalized-losses 52\n",
            "make 22\n",
            "fuel-type 2\n",
            "aspiration 2\n",
            "num-of-doors 3\n",
            "body-style 5\n",
            "drive-wheels 3\n",
            "engine-location 2\n",
            "wheel-base 53\n",
            "length 75\n",
            "width 44\n",
            "height 49\n",
            "curb-weight 171\n",
            "engine-type 7\n",
            "num-of-cylinders 7\n",
            "engine-size 44\n",
            "fuel-system 8\n",
            "bore 39\n",
            "stroke 37\n",
            "compression-ratio 32\n",
            "horsepower 60\n",
            "peak-rpm 24\n",
            "city-mpg 29\n",
            "highway-mpg 30\n",
            "price 187\n"
          ]
        }
      ]
    },
    {
      "cell_type": "code",
      "source": [
        "# we will seperate target feature\n",
        "X = data.iloc[:, :-1]\n",
        "y = data.iloc[:, -1]"
      ],
      "metadata": {
        "id": "4H8BRItx8yHU"
      },
      "execution_count": 11,
      "outputs": []
    },
    {
      "cell_type": "code",
      "source": [
        "X.head()"
      ],
      "metadata": {
        "colab": {
          "base_uri": "https://localhost:8080/",
          "height": 366
        },
        "id": "e7V4DVHj9CLM",
        "outputId": "d19f0ede-064f-4f6c-8a22-2758a6a62b01"
      },
      "execution_count": 12,
      "outputs": [
        {
          "output_type": "execute_result",
          "data": {
            "text/plain": [
              "   symboling normalized-losses         make fuel-type aspiration num-of-doors  \\\n",
              "0          3                 ?  alfa-romero       gas        std          two   \n",
              "1          3                 ?  alfa-romero       gas        std          two   \n",
              "2          1                 ?  alfa-romero       gas        std          two   \n",
              "3          2               164         audi       gas        std         four   \n",
              "4          2               164         audi       gas        std         four   \n",
              "\n",
              "    body-style drive-wheels engine-location  wheel-base  ...  \\\n",
              "0  convertible          rwd           front        88.6  ...   \n",
              "1  convertible          rwd           front        88.6  ...   \n",
              "2    hatchback          rwd           front        94.5  ...   \n",
              "3        sedan          fwd           front        99.8  ...   \n",
              "4        sedan          4wd           front        99.4  ...   \n",
              "\n",
              "   num-of-cylinders  engine-size  fuel-system  bore stroke compression-ratio  \\\n",
              "0              four          130         mpfi  3.47   2.68               9.0   \n",
              "1              four          130         mpfi  3.47   2.68               9.0   \n",
              "2               six          152         mpfi  2.68   3.47               9.0   \n",
              "3              four          109         mpfi  3.19    3.4              10.0   \n",
              "4              five          136         mpfi  3.19    3.4               8.0   \n",
              "\n",
              "   horsepower peak-rpm city-mpg highway-mpg  \n",
              "0         111     5000       21          27  \n",
              "1         111     5000       21          27  \n",
              "2         154     5000       19          26  \n",
              "3         102     5500       24          30  \n",
              "4         115     5500       18          22  \n",
              "\n",
              "[5 rows x 25 columns]"
            ],
            "text/html": [
              "\n",
              "  <div id=\"df-a8057f3c-4e30-490d-8966-76d067ca571d\">\n",
              "    <div class=\"colab-df-container\">\n",
              "      <div>\n",
              "<style scoped>\n",
              "    .dataframe tbody tr th:only-of-type {\n",
              "        vertical-align: middle;\n",
              "    }\n",
              "\n",
              "    .dataframe tbody tr th {\n",
              "        vertical-align: top;\n",
              "    }\n",
              "\n",
              "    .dataframe thead th {\n",
              "        text-align: right;\n",
              "    }\n",
              "</style>\n",
              "<table border=\"1\" class=\"dataframe\">\n",
              "  <thead>\n",
              "    <tr style=\"text-align: right;\">\n",
              "      <th></th>\n",
              "      <th>symboling</th>\n",
              "      <th>normalized-losses</th>\n",
              "      <th>make</th>\n",
              "      <th>fuel-type</th>\n",
              "      <th>aspiration</th>\n",
              "      <th>num-of-doors</th>\n",
              "      <th>body-style</th>\n",
              "      <th>drive-wheels</th>\n",
              "      <th>engine-location</th>\n",
              "      <th>wheel-base</th>\n",
              "      <th>...</th>\n",
              "      <th>num-of-cylinders</th>\n",
              "      <th>engine-size</th>\n",
              "      <th>fuel-system</th>\n",
              "      <th>bore</th>\n",
              "      <th>stroke</th>\n",
              "      <th>compression-ratio</th>\n",
              "      <th>horsepower</th>\n",
              "      <th>peak-rpm</th>\n",
              "      <th>city-mpg</th>\n",
              "      <th>highway-mpg</th>\n",
              "    </tr>\n",
              "  </thead>\n",
              "  <tbody>\n",
              "    <tr>\n",
              "      <th>0</th>\n",
              "      <td>3</td>\n",
              "      <td>?</td>\n",
              "      <td>alfa-romero</td>\n",
              "      <td>gas</td>\n",
              "      <td>std</td>\n",
              "      <td>two</td>\n",
              "      <td>convertible</td>\n",
              "      <td>rwd</td>\n",
              "      <td>front</td>\n",
              "      <td>88.6</td>\n",
              "      <td>...</td>\n",
              "      <td>four</td>\n",
              "      <td>130</td>\n",
              "      <td>mpfi</td>\n",
              "      <td>3.47</td>\n",
              "      <td>2.68</td>\n",
              "      <td>9.0</td>\n",
              "      <td>111</td>\n",
              "      <td>5000</td>\n",
              "      <td>21</td>\n",
              "      <td>27</td>\n",
              "    </tr>\n",
              "    <tr>\n",
              "      <th>1</th>\n",
              "      <td>3</td>\n",
              "      <td>?</td>\n",
              "      <td>alfa-romero</td>\n",
              "      <td>gas</td>\n",
              "      <td>std</td>\n",
              "      <td>two</td>\n",
              "      <td>convertible</td>\n",
              "      <td>rwd</td>\n",
              "      <td>front</td>\n",
              "      <td>88.6</td>\n",
              "      <td>...</td>\n",
              "      <td>four</td>\n",
              "      <td>130</td>\n",
              "      <td>mpfi</td>\n",
              "      <td>3.47</td>\n",
              "      <td>2.68</td>\n",
              "      <td>9.0</td>\n",
              "      <td>111</td>\n",
              "      <td>5000</td>\n",
              "      <td>21</td>\n",
              "      <td>27</td>\n",
              "    </tr>\n",
              "    <tr>\n",
              "      <th>2</th>\n",
              "      <td>1</td>\n",
              "      <td>?</td>\n",
              "      <td>alfa-romero</td>\n",
              "      <td>gas</td>\n",
              "      <td>std</td>\n",
              "      <td>two</td>\n",
              "      <td>hatchback</td>\n",
              "      <td>rwd</td>\n",
              "      <td>front</td>\n",
              "      <td>94.5</td>\n",
              "      <td>...</td>\n",
              "      <td>six</td>\n",
              "      <td>152</td>\n",
              "      <td>mpfi</td>\n",
              "      <td>2.68</td>\n",
              "      <td>3.47</td>\n",
              "      <td>9.0</td>\n",
              "      <td>154</td>\n",
              "      <td>5000</td>\n",
              "      <td>19</td>\n",
              "      <td>26</td>\n",
              "    </tr>\n",
              "    <tr>\n",
              "      <th>3</th>\n",
              "      <td>2</td>\n",
              "      <td>164</td>\n",
              "      <td>audi</td>\n",
              "      <td>gas</td>\n",
              "      <td>std</td>\n",
              "      <td>four</td>\n",
              "      <td>sedan</td>\n",
              "      <td>fwd</td>\n",
              "      <td>front</td>\n",
              "      <td>99.8</td>\n",
              "      <td>...</td>\n",
              "      <td>four</td>\n",
              "      <td>109</td>\n",
              "      <td>mpfi</td>\n",
              "      <td>3.19</td>\n",
              "      <td>3.4</td>\n",
              "      <td>10.0</td>\n",
              "      <td>102</td>\n",
              "      <td>5500</td>\n",
              "      <td>24</td>\n",
              "      <td>30</td>\n",
              "    </tr>\n",
              "    <tr>\n",
              "      <th>4</th>\n",
              "      <td>2</td>\n",
              "      <td>164</td>\n",
              "      <td>audi</td>\n",
              "      <td>gas</td>\n",
              "      <td>std</td>\n",
              "      <td>four</td>\n",
              "      <td>sedan</td>\n",
              "      <td>4wd</td>\n",
              "      <td>front</td>\n",
              "      <td>99.4</td>\n",
              "      <td>...</td>\n",
              "      <td>five</td>\n",
              "      <td>136</td>\n",
              "      <td>mpfi</td>\n",
              "      <td>3.19</td>\n",
              "      <td>3.4</td>\n",
              "      <td>8.0</td>\n",
              "      <td>115</td>\n",
              "      <td>5500</td>\n",
              "      <td>18</td>\n",
              "      <td>22</td>\n",
              "    </tr>\n",
              "  </tbody>\n",
              "</table>\n",
              "<p>5 rows × 25 columns</p>\n",
              "</div>\n",
              "      <button class=\"colab-df-convert\" onclick=\"convertToInteractive('df-a8057f3c-4e30-490d-8966-76d067ca571d')\"\n",
              "              title=\"Convert this dataframe to an interactive table.\"\n",
              "              style=\"display:none;\">\n",
              "        \n",
              "  <svg xmlns=\"http://www.w3.org/2000/svg\" height=\"24px\"viewBox=\"0 0 24 24\"\n",
              "       width=\"24px\">\n",
              "    <path d=\"M0 0h24v24H0V0z\" fill=\"none\"/>\n",
              "    <path d=\"M18.56 5.44l.94 2.06.94-2.06 2.06-.94-2.06-.94-.94-2.06-.94 2.06-2.06.94zm-11 1L8.5 8.5l.94-2.06 2.06-.94-2.06-.94L8.5 2.5l-.94 2.06-2.06.94zm10 10l.94 2.06.94-2.06 2.06-.94-2.06-.94-.94-2.06-.94 2.06-2.06.94z\"/><path d=\"M17.41 7.96l-1.37-1.37c-.4-.4-.92-.59-1.43-.59-.52 0-1.04.2-1.43.59L10.3 9.45l-7.72 7.72c-.78.78-.78 2.05 0 2.83L4 21.41c.39.39.9.59 1.41.59.51 0 1.02-.2 1.41-.59l7.78-7.78 2.81-2.81c.8-.78.8-2.07 0-2.86zM5.41 20L4 18.59l7.72-7.72 1.47 1.35L5.41 20z\"/>\n",
              "  </svg>\n",
              "      </button>\n",
              "      \n",
              "  <style>\n",
              "    .colab-df-container {\n",
              "      display:flex;\n",
              "      flex-wrap:wrap;\n",
              "      gap: 12px;\n",
              "    }\n",
              "\n",
              "    .colab-df-convert {\n",
              "      background-color: #E8F0FE;\n",
              "      border: none;\n",
              "      border-radius: 50%;\n",
              "      cursor: pointer;\n",
              "      display: none;\n",
              "      fill: #1967D2;\n",
              "      height: 32px;\n",
              "      padding: 0 0 0 0;\n",
              "      width: 32px;\n",
              "    }\n",
              "\n",
              "    .colab-df-convert:hover {\n",
              "      background-color: #E2EBFA;\n",
              "      box-shadow: 0px 1px 2px rgba(60, 64, 67, 0.3), 0px 1px 3px 1px rgba(60, 64, 67, 0.15);\n",
              "      fill: #174EA6;\n",
              "    }\n",
              "\n",
              "    [theme=dark] .colab-df-convert {\n",
              "      background-color: #3B4455;\n",
              "      fill: #D2E3FC;\n",
              "    }\n",
              "\n",
              "    [theme=dark] .colab-df-convert:hover {\n",
              "      background-color: #434B5C;\n",
              "      box-shadow: 0px 1px 3px 1px rgba(0, 0, 0, 0.15);\n",
              "      filter: drop-shadow(0px 1px 2px rgba(0, 0, 0, 0.3));\n",
              "      fill: #FFFFFF;\n",
              "    }\n",
              "  </style>\n",
              "\n",
              "      <script>\n",
              "        const buttonEl =\n",
              "          document.querySelector('#df-a8057f3c-4e30-490d-8966-76d067ca571d button.colab-df-convert');\n",
              "        buttonEl.style.display =\n",
              "          google.colab.kernel.accessAllowed ? 'block' : 'none';\n",
              "\n",
              "        async function convertToInteractive(key) {\n",
              "          const element = document.querySelector('#df-a8057f3c-4e30-490d-8966-76d067ca571d');\n",
              "          const dataTable =\n",
              "            await google.colab.kernel.invokeFunction('convertToInteractive',\n",
              "                                                     [key], {});\n",
              "          if (!dataTable) return;\n",
              "\n",
              "          const docLinkHtml = 'Like what you see? Visit the ' +\n",
              "            '<a target=\"_blank\" href=https://colab.research.google.com/notebooks/data_table.ipynb>data table notebook</a>'\n",
              "            + ' to learn more about interactive tables.';\n",
              "          element.innerHTML = '';\n",
              "          dataTable['output_type'] = 'display_data';\n",
              "          await google.colab.output.renderOutput(dataTable, element);\n",
              "          const docLink = document.createElement('div');\n",
              "          docLink.innerHTML = docLinkHtml;\n",
              "          element.appendChild(docLink);\n",
              "        }\n",
              "      </script>\n",
              "    </div>\n",
              "  </div>\n",
              "  "
            ]
          },
          "metadata": {},
          "execution_count": 12
        }
      ]
    },
    {
      "cell_type": "code",
      "source": [
        "y.head()"
      ],
      "metadata": {
        "colab": {
          "base_uri": "https://localhost:8080/"
        },
        "id": "lxDG1vaD9G3M",
        "outputId": "5197cda9-ff0e-43e2-9479-dabf4f786d3a"
      },
      "execution_count": 13,
      "outputs": [
        {
          "output_type": "execute_result",
          "data": {
            "text/plain": [
              "0    13495\n",
              "1    16500\n",
              "2    16500\n",
              "3    13950\n",
              "4    17450\n",
              "Name: price, dtype: object"
            ]
          },
          "metadata": {},
          "execution_count": 13
        }
      ]
    },
    {
      "cell_type": "code",
      "source": [
        "X.shape"
      ],
      "metadata": {
        "colab": {
          "base_uri": "https://localhost:8080/"
        },
        "id": "BXvOJYTq9KtZ",
        "outputId": "c8c71bbf-2654-4fc5-9b62-0f29a43663d8"
      },
      "execution_count": 14,
      "outputs": [
        {
          "output_type": "execute_result",
          "data": {
            "text/plain": [
              "(205, 25)"
            ]
          },
          "metadata": {},
          "execution_count": 14
        }
      ]
    },
    {
      "cell_type": "code",
      "source": [
        "y.shape"
      ],
      "metadata": {
        "colab": {
          "base_uri": "https://localhost:8080/"
        },
        "id": "HNBGJYoN9Mr3",
        "outputId": "c0e4ab28-86fd-4033-afcd-32fbb8c2bc70"
      },
      "execution_count": 15,
      "outputs": [
        {
          "output_type": "execute_result",
          "data": {
            "text/plain": [
              "(205,)"
            ]
          },
          "metadata": {},
          "execution_count": 15
        }
      ]
    },
    {
      "cell_type": "code",
      "source": [
        "from sklearn.model_selection import train_test_split\n",
        "X_train, X_test, y_train, y_test = train_test_split(X, y, test_size = 0.2, random_state = 0)"
      ],
      "metadata": {
        "id": "QSzlRWNc9Pjw"
      },
      "execution_count": 16,
      "outputs": []
    },
    {
      "cell_type": "code",
      "source": [
        "X_train.duplicated().sum()"
      ],
      "metadata": {
        "colab": {
          "base_uri": "https://localhost:8080/"
        },
        "id": "XX45V2S-9i33",
        "outputId": "fd148766-5780-470b-a370-0025fb1f2c98"
      },
      "execution_count": 17,
      "outputs": [
        {
          "output_type": "execute_result",
          "data": {
            "text/plain": [
              "6"
            ]
          },
          "metadata": {},
          "execution_count": 17
        }
      ]
    },
    {
      "cell_type": "code",
      "source": [
        "X_test.duplicated().sum()"
      ],
      "metadata": {
        "colab": {
          "base_uri": "https://localhost:8080/"
        },
        "id": "_q3ssYfIVXeF",
        "outputId": "33d3fbb4-d151-4500-ebf6-873ade88cdd7"
      },
      "execution_count": 18,
      "outputs": [
        {
          "output_type": "execute_result",
          "data": {
            "text/plain": [
              "0"
            ]
          },
          "metadata": {},
          "execution_count": 18
        }
      ]
    },
    {
      "cell_type": "code",
      "source": [
        "X_train.shape"
      ],
      "metadata": {
        "colab": {
          "base_uri": "https://localhost:8080/"
        },
        "id": "_CORYfBj-rU5",
        "outputId": "8c17f5b5-f144-4e0f-a7d3-b646f3bc5277"
      },
      "execution_count": 19,
      "outputs": [
        {
          "output_type": "execute_result",
          "data": {
            "text/plain": [
              "(164, 25)"
            ]
          },
          "metadata": {},
          "execution_count": 19
        }
      ]
    },
    {
      "cell_type": "code",
      "source": [
        "X_train.drop_duplicates(inplace = True)"
      ],
      "metadata": {
        "id": "r1Rq43so90MK"
      },
      "execution_count": 20,
      "outputs": []
    },
    {
      "cell_type": "code",
      "source": [
        "X_train.shape"
      ],
      "metadata": {
        "colab": {
          "base_uri": "https://localhost:8080/"
        },
        "id": "L9XY_qiQ9_0R",
        "outputId": "7960021a-a028-41f3-8e02-fcbfdbed90ee"
      },
      "execution_count": 21,
      "outputs": [
        {
          "output_type": "execute_result",
          "data": {
            "text/plain": [
              "(158, 25)"
            ]
          },
          "metadata": {},
          "execution_count": 21
        }
      ]
    },
    {
      "cell_type": "code",
      "source": [
        "X_train.isnull().sum()"
      ],
      "metadata": {
        "colab": {
          "base_uri": "https://localhost:8080/"
        },
        "id": "gGiMaDJtBBcw",
        "outputId": "a2446a56-5990-4d32-ca9f-0ee20e6741b4"
      },
      "execution_count": 22,
      "outputs": [
        {
          "output_type": "execute_result",
          "data": {
            "text/plain": [
              "symboling            0\n",
              "normalized-losses    0\n",
              "make                 0\n",
              "fuel-type            0\n",
              "aspiration           0\n",
              "num-of-doors         0\n",
              "body-style           0\n",
              "drive-wheels         0\n",
              "engine-location      0\n",
              "wheel-base           0\n",
              "length               0\n",
              "width                0\n",
              "height               0\n",
              "curb-weight          0\n",
              "engine-type          0\n",
              "num-of-cylinders     0\n",
              "engine-size          0\n",
              "fuel-system          0\n",
              "bore                 0\n",
              "stroke               0\n",
              "compression-ratio    0\n",
              "horsepower           0\n",
              "peak-rpm             0\n",
              "city-mpg             0\n",
              "highway-mpg          0\n",
              "dtype: int64"
            ]
          },
          "metadata": {},
          "execution_count": 22
        }
      ]
    },
    {
      "cell_type": "code",
      "source": [
        "X_train.isnull().sum()"
      ],
      "metadata": {
        "colab": {
          "base_uri": "https://localhost:8080/"
        },
        "id": "b7iNwMo_VdHJ",
        "outputId": "ce658279-a8b9-441c-c9a3-12839a1c201e"
      },
      "execution_count": 23,
      "outputs": [
        {
          "output_type": "execute_result",
          "data": {
            "text/plain": [
              "symboling            0\n",
              "normalized-losses    0\n",
              "make                 0\n",
              "fuel-type            0\n",
              "aspiration           0\n",
              "num-of-doors         0\n",
              "body-style           0\n",
              "drive-wheels         0\n",
              "engine-location      0\n",
              "wheel-base           0\n",
              "length               0\n",
              "width                0\n",
              "height               0\n",
              "curb-weight          0\n",
              "engine-type          0\n",
              "num-of-cylinders     0\n",
              "engine-size          0\n",
              "fuel-system          0\n",
              "bore                 0\n",
              "stroke               0\n",
              "compression-ratio    0\n",
              "horsepower           0\n",
              "peak-rpm             0\n",
              "city-mpg             0\n",
              "highway-mpg          0\n",
              "dtype: int64"
            ]
          },
          "metadata": {},
          "execution_count": 23
        }
      ]
    },
    {
      "cell_type": "code",
      "source": [
        "X_train.dtypes"
      ],
      "metadata": {
        "colab": {
          "base_uri": "https://localhost:8080/"
        },
        "id": "-vwkcKrdCWwR",
        "outputId": "9e851549-b03a-4766-98a7-fad5efc00a08"
      },
      "execution_count": 24,
      "outputs": [
        {
          "output_type": "execute_result",
          "data": {
            "text/plain": [
              "symboling              int64\n",
              "normalized-losses     object\n",
              "make                  object\n",
              "fuel-type             object\n",
              "aspiration            object\n",
              "num-of-doors          object\n",
              "body-style            object\n",
              "drive-wheels          object\n",
              "engine-location       object\n",
              "wheel-base           float64\n",
              "length               float64\n",
              "width                float64\n",
              "height               float64\n",
              "curb-weight            int64\n",
              "engine-type           object\n",
              "num-of-cylinders      object\n",
              "engine-size            int64\n",
              "fuel-system           object\n",
              "bore                  object\n",
              "stroke                object\n",
              "compression-ratio    float64\n",
              "horsepower            object\n",
              "peak-rpm              object\n",
              "city-mpg               int64\n",
              "highway-mpg            int64\n",
              "dtype: object"
            ]
          },
          "metadata": {},
          "execution_count": 24
        }
      ]
    },
    {
      "cell_type": "code",
      "source": [
        "X_train.reset_index(drop = True, inplace = True)\n",
        "X_test.reset_index(drop = True, inplace = True)"
      ],
      "metadata": {
        "id": "4XO8ald3vXFl"
      },
      "execution_count": 25,
      "outputs": []
    },
    {
      "cell_type": "markdown",
      "source": [
        "# Unique value check"
      ],
      "metadata": {
        "id": "R8F0ypCWEpp0"
      }
    },
    {
      "cell_type": "code",
      "source": [
        "X_train['symboling'].unique()"
      ],
      "metadata": {
        "colab": {
          "base_uri": "https://localhost:8080/"
        },
        "id": "vLbfNzvQEFgG",
        "outputId": "8c852a82-4f15-4a98-ec1b-5492d32ccf56"
      },
      "execution_count": 26,
      "outputs": [
        {
          "output_type": "execute_result",
          "data": {
            "text/plain": [
              "array([ 2, -1,  3,  0,  1, -2])"
            ]
          },
          "metadata": {},
          "execution_count": 26
        }
      ]
    },
    {
      "cell_type": "code",
      "source": [
        "X_train['normalized-losses'].unique()"
      ],
      "metadata": {
        "colab": {
          "base_uri": "https://localhost:8080/"
        },
        "id": "Y3ck07g2D52u",
        "outputId": "64d09f58-9c1c-4fff-cf00-0f6ff00d9444"
      },
      "execution_count": 27,
      "outputs": [
        {
          "output_type": "execute_result",
          "data": {
            "text/plain": [
              "array(['164', '?', '150', '102', '154', '148', '85', '94', '158', '128',\n",
              "       '168', '129', '231', '103', '137', '104', '115', '125', '98', '91',\n",
              "       '113', '83', '161', '122', '89', '197', '95', '74', '192', '87',\n",
              "       '119', '93', '188', '77', '118', '256', '81', '106', '65', '108',\n",
              "       '110', '107', '194', '101', '134', '90', '145', '142', '153', '78'],\n",
              "      dtype=object)"
            ]
          },
          "metadata": {},
          "execution_count": 27
        }
      ]
    },
    {
      "cell_type": "code",
      "source": [
        "X_train['make'].unique()"
      ],
      "metadata": {
        "colab": {
          "base_uri": "https://localhost:8080/"
        },
        "id": "x-11345LD1ee",
        "outputId": "6de11345-2d7a-4fdd-f82e-91315560a538"
      },
      "execution_count": 28,
      "outputs": [
        {
          "output_type": "execute_result",
          "data": {
            "text/plain": [
              "array(['audi', 'mercedes-benz', 'saab', 'subaru', 'plymouth', 'dodge',\n",
              "       'mitsubishi', 'volkswagen', 'nissan', 'toyota', 'mazda', 'mercury',\n",
              "       'volvo', 'honda', 'chevrolet', 'peugot', 'bmw', 'porsche', 'isuzu',\n",
              "       'alfa-romero', 'jaguar'], dtype=object)"
            ]
          },
          "metadata": {},
          "execution_count": 28
        }
      ]
    },
    {
      "cell_type": "code",
      "source": [
        "X_train['fuel-type'].unique()"
      ],
      "metadata": {
        "colab": {
          "base_uri": "https://localhost:8080/"
        },
        "id": "mWVujNubDx_l",
        "outputId": "07683127-ce9f-47fa-c0ba-fe35c70ba524"
      },
      "execution_count": 29,
      "outputs": [
        {
          "output_type": "execute_result",
          "data": {
            "text/plain": [
              "array(['gas', 'diesel'], dtype=object)"
            ]
          },
          "metadata": {},
          "execution_count": 29
        }
      ]
    },
    {
      "cell_type": "code",
      "source": [
        "X_train['aspiration'].unique()"
      ],
      "metadata": {
        "colab": {
          "base_uri": "https://localhost:8080/"
        },
        "id": "GeR34jH1R7aP",
        "outputId": "1dc1b28a-649d-4f80-eb5d-53bbf8c784d4"
      },
      "execution_count": 30,
      "outputs": [
        {
          "output_type": "execute_result",
          "data": {
            "text/plain": [
              "array(['std', 'turbo'], dtype=object)"
            ]
          },
          "metadata": {},
          "execution_count": 30
        }
      ]
    },
    {
      "cell_type": "code",
      "source": [
        "X_train['num-of-doors'].unique()"
      ],
      "metadata": {
        "colab": {
          "base_uri": "https://localhost:8080/"
        },
        "id": "TEGB7EOzSNZQ",
        "outputId": "b76c8f4f-3365-44c8-c0dc-ef7da1ca4602"
      },
      "execution_count": 31,
      "outputs": [
        {
          "output_type": "execute_result",
          "data": {
            "text/plain": [
              "array(['four', 'two', '?'], dtype=object)"
            ]
          },
          "metadata": {},
          "execution_count": 31
        }
      ]
    },
    {
      "cell_type": "code",
      "source": [
        "X_train['body-style'].unique()"
      ],
      "metadata": {
        "colab": {
          "base_uri": "https://localhost:8080/"
        },
        "id": "wG9-yzL-SfJH",
        "outputId": "ccbde564-3500-4a3a-f14e-80f82ae8c319"
      },
      "execution_count": 32,
      "outputs": [
        {
          "output_type": "execute_result",
          "data": {
            "text/plain": [
              "array(['sedan', 'hatchback', 'wagon', 'hardtop', 'convertible'],\n",
              "      dtype=object)"
            ]
          },
          "metadata": {},
          "execution_count": 32
        }
      ]
    },
    {
      "cell_type": "code",
      "source": [
        "X_train['drive-wheels'].unique()"
      ],
      "metadata": {
        "colab": {
          "base_uri": "https://localhost:8080/"
        },
        "id": "hTQzrvGbSpe4",
        "outputId": "e2262eac-1f1c-4c90-8c6a-0c053035f457"
      },
      "execution_count": 33,
      "outputs": [
        {
          "output_type": "execute_result",
          "data": {
            "text/plain": [
              "array(['4wd', 'rwd', 'fwd'], dtype=object)"
            ]
          },
          "metadata": {},
          "execution_count": 33
        }
      ]
    },
    {
      "cell_type": "code",
      "source": [
        "X_train['engine-location'].unique()"
      ],
      "metadata": {
        "colab": {
          "base_uri": "https://localhost:8080/"
        },
        "id": "gR5m4O5ISykt",
        "outputId": "6ce7c1bb-44a5-47db-95ef-0c340d2c6662"
      },
      "execution_count": 34,
      "outputs": [
        {
          "output_type": "execute_result",
          "data": {
            "text/plain": [
              "array(['front', 'rear'], dtype=object)"
            ]
          },
          "metadata": {},
          "execution_count": 34
        }
      ]
    },
    {
      "cell_type": "code",
      "source": [
        "X_train['wheel-base'].unique()"
      ],
      "metadata": {
        "colab": {
          "base_uri": "https://localhost:8080/"
        },
        "id": "3Jh2VKlCS7KN",
        "outputId": "e4b79088-8939-4e32-ef1c-5a1c0932bda2"
      },
      "execution_count": 35,
      "outputs": [
        {
          "output_type": "execute_result",
          "data": {
            "text/plain": [
              "array([ 99.4, 115.6,  99.1,  97. ,  93.7,  95.9,  96.9,  97.3, 105.8,\n",
              "        94.5,  98.8, 102.7,  99.2, 104.3,  97.2,  86.6,  96.5,  95.3,\n",
              "       100.4,  96.3,  95.7,  93.1, 107.9, 114.2, 102.9, 103.5,  89.5,\n",
              "        96. , 109.1, 103.3,  94.3, 101.2, 120.9,  95.1,  99.8,  88.6,\n",
              "       106.7, 102. , 113. , 110. , 102.4, 104.9,  91.3,  98.4, 104.5,\n",
              "        93. ,  96.6,  93.3,  99.5, 108. ])"
            ]
          },
          "metadata": {},
          "execution_count": 35
        }
      ]
    },
    {
      "cell_type": "code",
      "source": [
        "X_train['length'].unique()"
      ],
      "metadata": {
        "colab": {
          "base_uri": "https://localhost:8080/"
        },
        "id": "_jBtTbiKTGPv",
        "outputId": "054ea0c2-759d-4241-816b-33fe19096c0c"
      },
      "execution_count": 36,
      "outputs": [
        {
          "output_type": "execute_result",
          "data": {
            "text/plain": [
              "array([176.6, 202.6, 186.6, 172. , 167.3, 157.3, 173.2, 173.6, 171.7,\n",
              "       192.7, 165.3, 168.7, 177.8, 178.4, 178.5, 188.8, 144.6, 175.4,\n",
              "       169. , 181.7, 172.4, 155.9, 169.7, 170.2, 166.8, 159.1, 157.9,\n",
              "       186.7, 173.5, 198.9, 183.5, 189. , 168.9, 172.6, 180.2, 166.3,\n",
              "       171.2, 174.6, 170.7, 176.8, 208.1, 158.7, 162.4, 168.8, 165.6,\n",
              "       187.5, 191.7, 199.6, 165.7, 158.8, 173.4, 190.9, 175.6, 184.6,\n",
              "       163.4, 175. , 169.1, 197. , 167.5, 150. , 176.2, 187.8, 180.3,\n",
              "       173. , 157.1, 178.2])"
            ]
          },
          "metadata": {},
          "execution_count": 36
        }
      ]
    },
    {
      "cell_type": "code",
      "source": [
        "X_train['width'].unique()"
      ],
      "metadata": {
        "colab": {
          "base_uri": "https://localhost:8080/"
        },
        "id": "QeEwrQrATOBJ",
        "outputId": "7798a89a-76b3-433a-f9a9-51caea55cdc9"
      },
      "execution_count": 37,
      "outputs": [
        {
          "output_type": "execute_result",
          "data": {
            "text/plain": [
              "array([66.4, 71.7, 66.5, 65.4, 63.8, 66.3, 65.5, 71.4, 64. , 68. , 67.9,\n",
              "       67.2, 63.9, 62.5, 65.7, 63.6, 64.2, 68.4, 67.7, 66.9, 65. , 65.2,\n",
              "       68.9, 64.4, 64.6, 61.8, 64.8, 66.2, 64.1, 70.3, 70.6, 69.6, 66.1,\n",
              "       66. , 70.9, 65.6, 70.5, 68.8, 68.3])"
            ]
          },
          "metadata": {},
          "execution_count": 37
        }
      ]
    },
    {
      "cell_type": "code",
      "source": [
        "X_train['height'].unique()"
      ],
      "metadata": {
        "colab": {
          "base_uri": "https://localhost:8080/"
        },
        "id": "TuQ6E5aCTWoW",
        "outputId": "258c37e3-23cd-4db9-e39d-31d21936751d"
      },
      "execution_count": 38,
      "outputs": [
        {
          "output_type": "execute_result",
          "data": {
            "text/plain": [
              "array([54.3, 56.5, 56.1, 50.8, 50.6, 50.2, 54.9, 55.7, 55.9, 54.5, 52.6,\n",
              "       53.7, 54.8, 49.7, 55.5, 56.2, 52.5, 54.1, 49.6, 55.1, 51.6, 52. ,\n",
              "       59.1, 53.5, 56.7, 53. , 58.7, 51.4, 52.8, 52.4, 59.8, 53.3, 57.5,\n",
              "       48.8, 47.8, 54.7, 54.4, 51. , 53.9, 56.3, 49.4, 58.3, 56. ])"
            ]
          },
          "metadata": {},
          "execution_count": 38
        }
      ]
    },
    {
      "cell_type": "code",
      "source": [
        "X_train['curb-weight'].unique()"
      ],
      "metadata": {
        "colab": {
          "base_uri": "https://localhost:8080/"
        },
        "id": "AADSpE01Tek_",
        "outputId": "181087c1-5fac-4858-81a0-7307a8adb632"
      },
      "execution_count": 39,
      "outputs": [
        {
          "output_type": "execute_result",
          "data": {
            "text/plain": [
              "array([2824, 3740, 2707, 2510, 2191, 1989, 2921, 2650, 2275, 3086, 2017,\n",
              "       2169, 2385, 2910, 3139, 2443, 3045, 2340, 1967, 1713, 2758, 2372,\n",
              "       2410, 2380, 3095, 2405, 1874, 3110, 2037, 1950, 2264, 1900, 2120,\n",
              "       2145, 3252, 1971, 3020, 2290, 3430, 2976, 3055, 3197, 2212, 2756,\n",
              "       2734, 2661, 2952, 2140, 2823, 2535, 2818, 2337, 2395, 3230, 3900,\n",
              "       2935, 2261, 1985, 2008, 2024, 1918, 2094, 3157, 1890, 2548, 1951,\n",
              "       2028, 2425, 2465, 3495, 3950, 4066, 2365, 3012, 2765, 2280, 2128,\n",
              "       2221, 2847, 1909, 2004, 2302, 2300, 3217, 2844, 3750, 2926, 2109,\n",
              "       2319, 2414, 3296, 2010, 2670, 2204, 2293, 2658, 2458, 3505, 2289,\n",
              "       2695, 1945, 2800, 1956, 3485, 2040, 1819, 2536, 3131, 1837, 2540,\n",
              "       2190, 3062, 2455, 2811, 2324, 2833, 3075, 2420, 3042, 3685, 1944,\n",
              "       2265, 2328, 3049, 2480, 2912, 2304, 2500, 2240, 2403, 3770, 1876,\n",
              "       3053, 3060, 3034, 3515, 2579, 3130, 2975])"
            ]
          },
          "metadata": {},
          "execution_count": 39
        }
      ]
    },
    {
      "cell_type": "code",
      "source": [
        "X_train['engine-type'].unique()"
      ],
      "metadata": {
        "colab": {
          "base_uri": "https://localhost:8080/"
        },
        "id": "z_ZMAuejTlV-",
        "outputId": "35b0b625-3696-4619-be02-e33078c6815a"
      },
      "execution_count": 40,
      "outputs": [
        {
          "output_type": "execute_result",
          "data": {
            "text/plain": [
              "array(['ohc', 'ohcv', 'ohcf', 'rotor', 'l', 'dohc'], dtype=object)"
            ]
          },
          "metadata": {},
          "execution_count": 40
        }
      ]
    },
    {
      "cell_type": "code",
      "source": [
        "X_train['num-of-cylinders'].unique()"
      ],
      "metadata": {
        "colab": {
          "base_uri": "https://localhost:8080/"
        },
        "id": "gFO517MRTvkv",
        "outputId": "43c55d61-08a3-4a24-d9b8-f3b463f21921"
      },
      "execution_count": 41,
      "outputs": [
        {
          "output_type": "execute_result",
          "data": {
            "text/plain": [
              "array(['five', 'eight', 'four', 'six', 'two', 'twelve'], dtype=object)"
            ]
          },
          "metadata": {},
          "execution_count": 41
        }
      ]
    },
    {
      "cell_type": "code",
      "source": [
        "X_train['engine-size'].unique()"
      ],
      "metadata": {
        "colab": {
          "base_uri": "https://localhost:8080/"
        },
        "id": "PziP6aPuT82q",
        "outputId": "38264977-3f83-4790-f820-76d9051cc940"
      },
      "execution_count": 42,
      "outputs": [
        {
          "output_type": "execute_result",
          "data": {
            "text/plain": [
              "array([136, 234, 121, 108,  98,  90, 156, 109, 131, 103, 122, 140, 181,\n",
              "       130,  92, 110,  70,  97,  91, 152, 120, 171, 164, 194, 119, 141,\n",
              "       111, 308, 183, 326, 258, 173, 209, 145, 146,  79,  80, 134])"
            ]
          },
          "metadata": {},
          "execution_count": 42
        }
      ]
    },
    {
      "cell_type": "code",
      "source": [
        "X_train['fuel-system'].unique()"
      ],
      "metadata": {
        "colab": {
          "base_uri": "https://localhost:8080/"
        },
        "id": "V-tPEM7lUGl0",
        "outputId": "2e6a0ace-81d3-49b4-998d-68774e78eefd"
      },
      "execution_count": 43,
      "outputs": [
        {
          "output_type": "execute_result",
          "data": {
            "text/plain": [
              "array(['mpfi', '2bbl', 'spdi', 'idi', '1bbl', '4bbl', 'spfi', 'mfi'],\n",
              "      dtype=object)"
            ]
          },
          "metadata": {},
          "execution_count": 43
        }
      ]
    },
    {
      "cell_type": "code",
      "source": [
        "X_train['bore'].unique()"
      ],
      "metadata": {
        "colab": {
          "base_uri": "https://localhost:8080/"
        },
        "id": "CZPX-6NKUPnl",
        "outputId": "ed06d78a-f268-479f-b7f9-09bd322b7df9"
      },
      "execution_count": 44,
      "outputs": [
        {
          "output_type": "execute_result",
          "data": {
            "text/plain": [
              "array(['3.19', '3.46', '2.54', '3.62', '2.97', '3.59', '3.13', '2.99',\n",
              "       '3.39', '3.78', '3.43', '2.91', '3.54', '3.15', '?', '3.35',\n",
              "       '3.03', '3.05', '3.08', '3.01', '3.7', '3.27', '3.31', '3.74',\n",
              "       '2.68', '3.5', '3.8', '3.47', '3.58', '3.63', '3.33', '3.24',\n",
              "       '3.76', '3.34', '3.6', '3.17', '2.92', '3.61'], dtype=object)"
            ]
          },
          "metadata": {},
          "execution_count": 44
        }
      ]
    },
    {
      "cell_type": "code",
      "source": [
        "X_train['stroke'].unique()"
      ],
      "metadata": {
        "colab": {
          "base_uri": "https://localhost:8080/"
        },
        "id": "MGYi45oVUgqk",
        "outputId": "77fac951-2153-4b9c-c180-3eb9a607c778"
      },
      "execution_count": 45,
      "outputs": [
        {
          "output_type": "execute_result",
          "data": {
            "text/plain": [
              "array(['3.4', '3.1', '2.07', '2.64', '3.23', '3.86', '3.47', '3.03',\n",
              "       '3.39', '3.12', '3.27', '3.15', '3.41', '3.07', '3.58', '?',\n",
              "       '3.46', '3.11', '3.29', '3.52', '3.19', '3.35', '2.9', '2.8',\n",
              "       '2.68', '3.64', '2.76', '4.17', '2.87', '3.08', '3.54', '3.16',\n",
              "       '3.5', '3.9', '3.21'], dtype=object)"
            ]
          },
          "metadata": {},
          "execution_count": 45
        }
      ]
    },
    {
      "cell_type": "code",
      "source": [
        "X_train['compression-ratio'].unique()"
      ],
      "metadata": {
        "colab": {
          "base_uri": "https://localhost:8080/"
        },
        "id": "DE7MBtkvUnyo",
        "outputId": "249b4d0a-f84a-4ee5-9a75-a50f4acc98ca"
      },
      "execution_count": 46,
      "outputs": [
        {
          "output_type": "execute_result",
          "data": {
            "text/plain": [
              "array([ 8.  ,  8.3 ,  9.3 ,  7.7 ,  9.4 ,  7.  ,  9.  , 21.9 ,  8.6 ,\n",
              "       22.7 ,  7.5 ,  9.6 ,  8.5 , 23.  ,  8.7 ,  9.5 , 21.  ,  8.4 ,\n",
              "        7.6 ,  9.2 ,  8.8 , 10.  , 21.5 , 11.5 ,  8.1 , 22.5 ,  9.1 ,\n",
              "        7.8 ,  9.31, 10.1 ,  9.41])"
            ]
          },
          "metadata": {},
          "execution_count": 46
        }
      ]
    },
    {
      "cell_type": "code",
      "source": [
        "X_train['horsepower'].unique()"
      ],
      "metadata": {
        "colab": {
          "base_uri": "https://localhost:8080/"
        },
        "id": "T3r_UIbGUvDm",
        "outputId": "bf5bacd0-2dba-4d53-f1a3-475bb2e258b1"
      },
      "execution_count": 47,
      "outputs": [
        {
          "output_type": "execute_result",
          "data": {
            "text/plain": [
              "array(['115', '155', '110', '111', '68', '145', '85', '140', '55', '70',\n",
              "       '84', '175', '160', '64', '162', '94', '58', '86', '101', '152',\n",
              "       '88', '62', '69', '52', '73', '82', '95', '97', '161', '121',\n",
              "       '102', '207', '90', '114', '154', '78', '184', '123', '262', '176',\n",
              "       '134', '182', '112', '106', '56', '92', '76', '120', '100', '200',\n",
              "       '116', '156', '60', '135', '142'], dtype=object)"
            ]
          },
          "metadata": {},
          "execution_count": 47
        }
      ]
    },
    {
      "cell_type": "code",
      "source": [
        "X_train['peak-rpm'].unique()"
      ],
      "metadata": {
        "colab": {
          "base_uri": "https://localhost:8080/"
        },
        "id": "vhckykSxU2ly",
        "outputId": "3f73b3b6-6b43-4ee4-ad19-d6b35e7093fe"
      },
      "execution_count": 48,
      "outputs": [
        {
          "output_type": "execute_result",
          "data": {
            "text/plain": [
              "array(['5500', '4750', '5250', '4800', '5000', '5200', '4650', '5100',\n",
              "       '5800', '6000', '5400', '4400', '4150', '4250', '5900', '4500',\n",
              "       '4350', '6600', '4200', '5300', '5600'], dtype=object)"
            ]
          },
          "metadata": {},
          "execution_count": 48
        }
      ]
    },
    {
      "cell_type": "code",
      "source": [
        "X_train['city-mpg'].unique()"
      ],
      "metadata": {
        "colab": {
          "base_uri": "https://localhost:8080/"
        },
        "id": "CHhfcMAOU-gW",
        "outputId": "b5f18e73-aef3-463e-984a-057d7bc6fdc6"
      },
      "execution_count": 49,
      "outputs": [
        {
          "output_type": "execute_result",
          "data": {
            "text/plain": [
              "array([18, 16, 21, 24, 31, 19, 23, 27, 17, 45, 29, 26, 36, 49, 25, 38, 37,\n",
              "       32, 28, 20, 14, 35, 30, 22, 13, 15, 34, 33])"
            ]
          },
          "metadata": {},
          "execution_count": 49
        }
      ]
    },
    {
      "cell_type": "code",
      "source": [
        "X_train['highway-mpg'].unique()"
      ],
      "metadata": {
        "colab": {
          "base_uri": "https://localhost:8080/"
        },
        "id": "T4jCtv5GVED_",
        "outputId": "f278c4a1-46ea-4d9a-f79f-a80450ff0192"
      },
      "execution_count": 50,
      "outputs": [
        {
          "output_type": "execute_result",
          "data": {
            "text/plain": [
              "array([22, 18, 28, 29, 38, 24, 23, 34, 20, 50, 32, 25, 42, 54, 33, 43, 37,\n",
              "       46, 31, 30, 26, 16, 39, 41, 47, 27, 17, 19, 36])"
            ]
          },
          "metadata": {},
          "execution_count": 50
        }
      ]
    },
    {
      "cell_type": "code",
      "source": [
        "y_train.unique()"
      ],
      "metadata": {
        "colab": {
          "base_uri": "https://localhost:8080/"
        },
        "id": "GAum_aNRzj84",
        "outputId": "4df6903d-da46-4f4a-e780-7980e20d211f"
      },
      "execution_count": 51,
      "outputs": [
        {
          "output_type": "execute_result",
          "data": {
            "text/plain": [
              "array(['17450', '34184', '15040', '11259', '7609', '14869', '11694',\n",
              "       '8495', '23875', '7099', '8058', '10595', '16503', '18399',\n",
              "       '10795', '18420', '9960', '6229', '6479', '15510', '10295',\n",
              "       '11845', '13499', '8189', '6295', '8778', '7999', '7395', '7995',\n",
              "       '6095', '7053', '7126', '16900', '7499', '11900', '7463', '13860',\n",
              "       '16558', '24565', '8558', '13200', '8195', '32528', '11048',\n",
              "       '13295', '16845', '9258', '10245', '16500', '8845', '8921',\n",
              "       '12764', '6785', '16430', '12440', '40960', '15985', '7775',\n",
              "       '5348', '8249', '13950', '7349', '5572', '7738', '18950', '5195',\n",
              "       '13495', '7299', '17950', '7799', '11245', '9233', '12945',\n",
              "       '28176', '36000', '35550', '6989', '21485', '21105', '6918',\n",
              "       '7957', '9980', '18620', '6575', '30760', '6669', '9549', '9538',\n",
              "       '22470', '17710', '28248', '14489', '6692', '7198', '9495', '7898',\n",
              "       '6649', '10898', '16925', '14399', '7295', '13645', '18280',\n",
              "       '8238', '10345', '19699', '11850', '11248', '36880', '9095',\n",
              "       '12170', '6695', '7788', '37028', '7129', '17075', '6338', '6855',\n",
              "       '9639', '34028', '15690', '5399', '8449', '22625', '10198',\n",
              "       '12964', '8949', '12629', '9988', '7689', '16630', '8013', '16515',\n",
              "       '35056', '6189', '9298', '8499', '19045', '10698', '12940',\n",
              "       '15645', '7603', '9279', '31600', '?', '13415', '25552', '13845',\n",
              "       '18150', '32250', '17669'], dtype=object)"
            ]
          },
          "metadata": {},
          "execution_count": 51
        }
      ]
    },
    {
      "cell_type": "markdown",
      "source": [
        "\n",
        "\n",
        "---\n",
        "\n"
      ],
      "metadata": {
        "id": "NOvT_ctnSRot"
      }
    },
    {
      "cell_type": "code",
      "source": [
        "X_test['symboling'].unique()"
      ],
      "metadata": {
        "colab": {
          "base_uri": "https://localhost:8080/"
        },
        "id": "WeU0JN-4Qjpn",
        "outputId": "2639c627-c0ff-4eeb-b042-ba6393e670e8"
      },
      "execution_count": 52,
      "outputs": [
        {
          "output_type": "execute_result",
          "data": {
            "text/plain": [
              "array([ 1, -1,  2,  0,  3])"
            ]
          },
          "metadata": {},
          "execution_count": 52
        }
      ]
    },
    {
      "cell_type": "code",
      "source": [
        "X_test['normalized-losses'].unique()"
      ],
      "metadata": {
        "colab": {
          "base_uri": "https://localhost:8080/"
        },
        "id": "TRlr1d_TQhCd",
        "outputId": "a1520ade-d98d-4671-9458-4279b8f292e9"
      },
      "execution_count": 53,
      "outputs": [
        {
          "output_type": "execute_result",
          "data": {
            "text/plain": [
              "array(['104', '?', '121', '94', '134', '161', '81', '194', '101', '188',\n",
              "       '150', '106', '74', '153', '197', '83', '91', '128', '122', '186',\n",
              "       '65', '118'], dtype=object)"
            ]
          },
          "metadata": {},
          "execution_count": 53
        }
      ]
    },
    {
      "cell_type": "code",
      "source": [
        "X_test['make'].unique()"
      ],
      "metadata": {
        "colab": {
          "base_uri": "https://localhost:8080/"
        },
        "id": "RYtI06hCQeX-",
        "outputId": "8013b765-85d1-49ba-a193-354e832dfc0b"
      },
      "execution_count": 54,
      "outputs": [
        {
          "output_type": "execute_result",
          "data": {
            "text/plain": [
              "array(['mazda', 'toyota', 'audi', 'chevrolet', 'volkswagen', 'mitsubishi',\n",
              "       'nissan', 'honda', 'bmw', 'porsche', 'isuzu', 'renault', 'peugot',\n",
              "       'subaru', 'saab', 'dodge', 'mercedes-benz'], dtype=object)"
            ]
          },
          "metadata": {},
          "execution_count": 54
        }
      ]
    },
    {
      "cell_type": "code",
      "source": [
        "X_test['fuel-type'].unique()"
      ],
      "metadata": {
        "colab": {
          "base_uri": "https://localhost:8080/"
        },
        "id": "6wrW1TpfQbOW",
        "outputId": "0fc02586-f4ef-4925-e658-ecb08a1ed771"
      },
      "execution_count": 55,
      "outputs": [
        {
          "output_type": "execute_result",
          "data": {
            "text/plain": [
              "array(['gas', 'diesel'], dtype=object)"
            ]
          },
          "metadata": {},
          "execution_count": 55
        }
      ]
    },
    {
      "cell_type": "code",
      "source": [
        "X_test['aspiration'].unique()"
      ],
      "metadata": {
        "colab": {
          "base_uri": "https://localhost:8080/"
        },
        "id": "mMQG15s9SC2H",
        "outputId": "41a66a15-97e8-41f7-facb-c6225606f603"
      },
      "execution_count": 56,
      "outputs": [
        {
          "output_type": "execute_result",
          "data": {
            "text/plain": [
              "array(['std', 'turbo'], dtype=object)"
            ]
          },
          "metadata": {},
          "execution_count": 56
        }
      ]
    },
    {
      "cell_type": "code",
      "source": [
        "X_test['num-of-doors'].unique()"
      ],
      "metadata": {
        "colab": {
          "base_uri": "https://localhost:8080/"
        },
        "id": "eitEiBZGSJIW",
        "outputId": "9e192fb4-22cc-49ed-c3d1-a82dc778d770"
      },
      "execution_count": 57,
      "outputs": [
        {
          "output_type": "execute_result",
          "data": {
            "text/plain": [
              "array(['two', 'four'], dtype=object)"
            ]
          },
          "metadata": {},
          "execution_count": 57
        }
      ]
    },
    {
      "cell_type": "code",
      "source": [
        "X_test['body-style'].unique()"
      ],
      "metadata": {
        "colab": {
          "base_uri": "https://localhost:8080/"
        },
        "id": "1mITUTuVSaju",
        "outputId": "f8237f45-714f-4515-a97c-3c524f62add5"
      },
      "execution_count": 58,
      "outputs": [
        {
          "output_type": "execute_result",
          "data": {
            "text/plain": [
              "array(['hatchback', 'wagon', 'sedan', 'hardtop', 'convertible'],\n",
              "      dtype=object)"
            ]
          },
          "metadata": {},
          "execution_count": 58
        }
      ]
    },
    {
      "cell_type": "code",
      "source": [
        "X_test['drive-wheels'].unique()"
      ],
      "metadata": {
        "colab": {
          "base_uri": "https://localhost:8080/"
        },
        "id": "G6DhfBWISlDf",
        "outputId": "7f43e29e-9cd2-48cc-8c8c-a4e85bc0c611"
      },
      "execution_count": 59,
      "outputs": [
        {
          "output_type": "execute_result",
          "data": {
            "text/plain": [
              "array(['fwd', 'rwd', '4wd'], dtype=object)"
            ]
          },
          "metadata": {},
          "execution_count": 59
        }
      ]
    },
    {
      "cell_type": "code",
      "source": [
        "X_test['engine-location'].unique()"
      ],
      "metadata": {
        "colab": {
          "base_uri": "https://localhost:8080/"
        },
        "id": "HgG_BC65SuDw",
        "outputId": "28231265-cac8-455b-92b6-d82c8f93a9e4"
      },
      "execution_count": 60,
      "outputs": [
        {
          "output_type": "execute_result",
          "data": {
            "text/plain": [
              "array(['front'], dtype=object)"
            ]
          },
          "metadata": {},
          "execution_count": 60
        }
      ]
    },
    {
      "cell_type": "code",
      "source": [
        "X_test['wheel-base'].unique()"
      ],
      "metadata": {
        "colab": {
          "base_uri": "https://localhost:8080/"
        },
        "id": "D9cnxlP6S2ol",
        "outputId": "9d53ae27-f8e8-49bd-c0f4-033a7808c966"
      },
      "execution_count": 61,
      "outputs": [
        {
          "output_type": "execute_result",
          "data": {
            "text/plain": [
              "array([ 93.1, 104.5,  99.8,  88.4,  97.3,  98.4,  93.7,  95.7,  91.3,\n",
              "       101.2,  95.3, 104.9,  94.5,  96.1, 105.8,  96.5,  96.3, 107.9,\n",
              "       102.9, 114.2, 100.4, 102.4, 103.5,  99.1, 112. ])"
            ]
          },
          "metadata": {},
          "execution_count": 61
        }
      ]
    },
    {
      "cell_type": "code",
      "source": [
        "X_test['length'].unique()"
      ],
      "metadata": {
        "colab": {
          "base_uri": "https://localhost:8080/"
        },
        "id": "h9BejV45TCMN",
        "outputId": "422e39c1-7777-4db7-d1bf-161a93a0b114"
      },
      "execution_count": 62,
      "outputs": [
        {
          "output_type": "execute_result",
          "data": {
            "text/plain": [
              "array([159.1, 187.8, 177.3, 141.1, 171.7, 176.2, 157.3, 169.7, 170.7,\n",
              "       150. , 176.8, 175.7, 169. , 175. , 155.9, 181.5, 192.7, 167.5,\n",
              "       158.7, 173. , 186.7, 183.5, 156.9, 166.3, 198.9, 165.3, 183.1,\n",
              "       168.9, 175.6, 193.8, 159.3, 186.6, 199.2])"
            ]
          },
          "metadata": {},
          "execution_count": 62
        }
      ]
    },
    {
      "cell_type": "code",
      "source": [
        "X_test['width'].unique()"
      ],
      "metadata": {
        "colab": {
          "base_uri": "https://localhost:8080/"
        },
        "id": "1prvq3K6TKXG",
        "outputId": "98b49760-c4d9-4d59-d062-5613e8ef7b4b"
      },
      "execution_count": 63,
      "outputs": [
        {
          "output_type": "execute_result",
          "data": {
            "text/plain": [
              "array([64.2, 66.5, 66.3, 60.3, 65.5, 65.6, 64.4, 63.6, 67.9, 64. , 64.8,\n",
              "       72.3, 65.7, 66.1, 71.4, 65.2, 65.4, 68.4, 66.6, 67.7, 63.4, 63.8,\n",
              "       66.9, 68.3, 72. ])"
            ]
          },
          "metadata": {},
          "execution_count": 63
        }
      ]
    },
    {
      "cell_type": "code",
      "source": [
        "X_test['height'].unique()"
      ],
      "metadata": {
        "colab": {
          "base_uri": "https://localhost:8080/"
        },
        "id": "Kg_MJcXWTS81",
        "outputId": "e5b36175-3de6-4c3d-90a0-e9e8fb600bf3"
      },
      "execution_count": 64,
      "outputs": [
        {
          "output_type": "execute_result",
          "data": {
            "text/plain": [
              "array([54.1, 53.1, 53.2, 55.7, 52. , 50.8, 59.1, 49.7, 52.6, 54.3, 50.5,\n",
              "       49.6, 54.4, 55.2, 53.3, 54.5, 49.4, 56.7, 53.7, 53. , 52.8, 55.1,\n",
              "       50.2, 54.9, 55.6, 56.1, 55.4])"
            ]
          },
          "metadata": {},
          "execution_count": 64
        }
      ]
    },
    {
      "cell_type": "code",
      "source": [
        "X_test['curb-weight'].unique()"
      ],
      "metadata": {
        "colab": {
          "base_uri": "https://localhost:8080/"
        },
        "id": "J3OwL1eKTbHt",
        "outputId": "35f03d65-ffc2-4af3-a8d5-326d166425ce"
      },
      "execution_count": 65,
      "outputs": [
        {
          "output_type": "execute_result",
          "data": {
            "text/plain": [
              "array([1905, 3151, 2507, 1488, 2300, 2679, 1918, 2290, 3071, 1940, 2710,\n",
              "       3366, 2380, 2700, 1909, 2551, 2579, 2954, 2236, 2015, 2370, 3075,\n",
              "       2460, 2714, 3016, 2050, 2081, 3285, 2122, 1889, 2209, 2563, 2778,\n",
              "       2326, 1938, 3380, 2254, 2808, 1876, 3715, 1874])"
            ]
          },
          "metadata": {},
          "execution_count": 65
        }
      ]
    },
    {
      "cell_type": "code",
      "source": [
        "X_test['engine-type'].unique()"
      ],
      "metadata": {
        "colab": {
          "base_uri": "https://localhost:8080/"
        },
        "id": "PePB_xTpTi79",
        "outputId": "3bf647e9-8160-4e84-a7ad-69682d2a4b1b"
      },
      "execution_count": 66,
      "outputs": [
        {
          "output_type": "execute_result",
          "data": {
            "text/plain": [
              "array(['ohc', 'dohc', 'l', 'ohcv', 'dohcv', 'rotor', 'ohcf'], dtype=object)"
            ]
          },
          "metadata": {},
          "execution_count": 66
        }
      ]
    },
    {
      "cell_type": "code",
      "source": [
        "X_test['num-of-cylinders'].unique()"
      ],
      "metadata": {
        "colab": {
          "base_uri": "https://localhost:8080/"
        },
        "id": "tAamTjL_Tq5K",
        "outputId": "03517676-a92c-4469-c125-bb098cb27562"
      },
      "execution_count": 67,
      "outputs": [
        {
          "output_type": "execute_result",
          "data": {
            "text/plain": [
              "array(['four', 'six', 'five', 'three', 'eight', 'two'], dtype=object)"
            ]
          },
          "metadata": {},
          "execution_count": 67
        }
      ]
    },
    {
      "cell_type": "code",
      "source": [
        "X_test['engine-size'].unique()"
      ],
      "metadata": {
        "colab": {
          "base_uri": "https://localhost:8080/"
        },
        "id": "l9ILxoyfT5Fo",
        "outputId": "5ad98ad5-68e6-4c2d-e163-102b4a55b05a"
      },
      "execution_count": 68,
      "outputs": [
        {
          "output_type": "execute_result",
          "data": {
            "text/plain": [
              "array([ 91, 161, 136,  61, 109, 146,  92, 181, 164, 203,  70, 134,  90,\n",
              "       132, 110, 120, 171,  97,  98, 151, 122, 209, 121, 304])"
            ]
          },
          "metadata": {},
          "execution_count": 68
        }
      ]
    },
    {
      "cell_type": "code",
      "source": [
        "X_test['fuel-system'].unique()"
      ],
      "metadata": {
        "colab": {
          "base_uri": "https://localhost:8080/"
        },
        "id": "EhNrRjV-UCSN",
        "outputId": "7cafe763-cca5-409b-e750-8c57c4cb2c5a"
      },
      "execution_count": 69,
      "outputs": [
        {
          "output_type": "execute_result",
          "data": {
            "text/plain": [
              "array(['2bbl', 'mpfi', '1bbl', '4bbl', 'idi', 'spdi'], dtype=object)"
            ]
          },
          "metadata": {},
          "execution_count": 69
        }
      ]
    },
    {
      "cell_type": "code",
      "source": [
        "X_test['bore'].unique()"
      ],
      "metadata": {
        "colab": {
          "base_uri": "https://localhost:8080/"
        },
        "id": "cINmqFl4UMZV",
        "outputId": "c29490e3-b5a4-40bf-ff91-dbe65eebae38"
      },
      "execution_count": 70,
      "outputs": [
        {
          "output_type": "execute_result",
          "data": {
            "text/plain": [
              "array(['3.03', '3.27', '3.19', '2.91', '3.62', '2.97', '3.05', '3.43',\n",
              "       '3.31', '3.94', '?', '3.46', '3.15', '3.17', '3.54', '3.8'],\n",
              "      dtype=object)"
            ]
          },
          "metadata": {},
          "execution_count": 70
        }
      ]
    },
    {
      "cell_type": "code",
      "source": [
        "X_test['stroke'].unique()"
      ],
      "metadata": {
        "colab": {
          "base_uri": "https://localhost:8080/"
        },
        "id": "qxV0h8nfUdKO",
        "outputId": "7de2af7b-e1a3-4903-cf87-b259c4797693"
      },
      "execution_count": 71,
      "outputs": [
        {
          "output_type": "execute_result",
          "data": {
            "text/plain": [
              "array(['3.15', '3.35', '3.4', '3.03', '3.5', '3.23', '3.27', '3.41',\n",
              "       '3.19', '3.11', '?', '3.64', '3.9', '3.58', '3.46', '2.19', '2.36',\n",
              "       '3.29', '3.54', '3.39', '3.07'], dtype=object)"
            ]
          },
          "metadata": {},
          "execution_count": 71
        }
      ]
    },
    {
      "cell_type": "code",
      "source": [
        "X_test['compression-ratio'].unique()"
      ],
      "metadata": {
        "colab": {
          "base_uri": "https://localhost:8080/"
        },
        "id": "yR-9LE0wUkrN",
        "outputId": "7695fb8a-33c9-49a1-e73b-53023d15a088"
      },
      "execution_count": 72,
      "outputs": [
        {
          "output_type": "execute_result",
          "data": {
            "text/plain": [
              "array([ 9. ,  9.2,  8.5,  9.5, 10. ,  9.3,  9.4, 22. ,  9.6,  8.7,  7.5,\n",
              "        8.4,  8. ])"
            ]
          },
          "metadata": {},
          "execution_count": 72
        }
      ]
    },
    {
      "cell_type": "code",
      "source": [
        "X_test['horsepower'].unique()"
      ],
      "metadata": {
        "colab": {
          "base_uri": "https://localhost:8080/"
        },
        "id": "SE3F6ZzcUqzO",
        "outputId": "e3f35fdd-875e-4f38-9e86-d30896eec7e5"
      },
      "execution_count": 73,
      "outputs": [
        {
          "output_type": "execute_result",
          "data": {
            "text/plain": [
              "array(['68', '156', '110', '48', '100', '116', '62', '160', '76', '121',\n",
              "       '288', '101', '72', '70', '?', '86', '95', '161', '69', '85', '88',\n",
              "       '143', '92', '182', '90', '184'], dtype=object)"
            ]
          },
          "metadata": {},
          "execution_count": 73
        }
      ]
    },
    {
      "cell_type": "code",
      "source": [
        "X_test['peak-rpm'].unique()"
      ],
      "metadata": {
        "colab": {
          "base_uri": "https://localhost:8080/"
        },
        "id": "8QiXIu8wUztu",
        "outputId": "9f8aec37-d534-455d-fdc4-9ca749b8cb01"
      },
      "execution_count": 74,
      "outputs": [
        {
          "output_type": "execute_result",
          "data": {
            "text/plain": [
              "array(['5000', '5200', '5500', '5100', '4800', '6000', '4250', '5750',\n",
              "       '4200', '5400', '?', '5800', '4900', '5250', '4500'], dtype=object)"
            ]
          },
          "metadata": {},
          "execution_count": 74
        }
      ]
    },
    {
      "cell_type": "code",
      "source": [
        "X_test['city-mpg'].unique()"
      ],
      "metadata": {
        "colab": {
          "base_uri": "https://localhost:8080/"
        },
        "id": "7ULxGqW_U7nl",
        "outputId": "c6b4c2dd-7f54-4c0d-8f87-da9a5163e4f9"
      },
      "execution_count": 75,
      "outputs": [
        {
          "output_type": "execute_result",
          "data": {
            "text/plain": [
              "array([31, 19, 47, 26, 24, 37, 27, 30, 21, 17, 38, 23, 28, 25, 29, 16, 14])"
            ]
          },
          "metadata": {},
          "execution_count": 75
        }
      ]
    },
    {
      "cell_type": "code",
      "source": [
        "X_test['highway-mpg'].unique()"
      ],
      "metadata": {
        "colab": {
          "base_uri": "https://localhost:8080/"
        },
        "id": "SlEBLAK6VB2F",
        "outputId": "d5de0498-b849-4d10-a631-1315d8eb7b59"
      },
      "execution_count": 76,
      "outputs": [
        {
          "output_type": "execute_result",
          "data": {
            "text/plain": [
              "array([38, 24, 25, 53, 32, 30, 41, 34, 28, 23, 39, 43, 31, 33, 36, 37, 27,\n",
              "       22, 29, 26, 16])"
            ]
          },
          "metadata": {},
          "execution_count": 76
        }
      ]
    },
    {
      "cell_type": "code",
      "source": [
        "y_test.unique()"
      ],
      "metadata": {
        "colab": {
          "base_uri": "https://localhost:8080/"
        },
        "id": "8x4_B2-9zb2P",
        "outputId": "21df2652-8f96-4838-82bb-8ffd9dc60b82"
      },
      "execution_count": 77,
      "outputs": [
        {
          "output_type": "execute_result",
          "data": {
            "text/plain": [
              "array(['6795', '15750', '15250', '5151', '9995', '11199', '5389', '7898',\n",
              "       '17199', '6529', '20970', '?', '10945', '18344', '9989', '9295',\n",
              "       '18920', '7895', '6488', '9959', '15580', '9895', '11549', '15998',\n",
              "       '5118', '6938', '16695', '8358', '5499', '7975', '12290', '22018',\n",
              "       '8948', '6849', '41315', '11595', '18150', '6377', '45400'],\n",
              "      dtype=object)"
            ]
          },
          "metadata": {},
          "execution_count": 77
        }
      ]
    },
    {
      "cell_type": "markdown",
      "source": [
        "\n",
        "\n",
        "---\n",
        "\n"
      ],
      "metadata": {
        "id": "d7ZSrLQNSUl7"
      }
    },
    {
      "cell_type": "markdown",
      "source": [
        "# Replacing missing values with nan"
      ],
      "metadata": {
        "id": "pZUHXUbOEt2A"
      }
    },
    {
      "cell_type": "code",
      "source": [
        "X_train.replace('?', np.nan, inplace = True)\n",
        "X_train['engine-type'].replace('l', np.nan, inplace = True)"
      ],
      "metadata": {
        "id": "NQj_E0UK_Y9t"
      },
      "execution_count": 78,
      "outputs": []
    },
    {
      "cell_type": "code",
      "source": [
        "y_train.replace('?', np.nan, inplace = True)\n",
        "y_test.replace('?', np.nan, inplace = True)"
      ],
      "metadata": {
        "id": "YIfCWu15zGrs"
      },
      "execution_count": 79,
      "outputs": []
    },
    {
      "cell_type": "code",
      "source": [
        "X_test.replace('?', np.nan, inplace = True)\n",
        "X_test['engine-type'].replace('l', np.nan, inplace = True)"
      ],
      "metadata": {
        "id": "HJWbrNV_OVDF"
      },
      "execution_count": 80,
      "outputs": []
    },
    {
      "cell_type": "markdown",
      "source": [
        "# Filling nan value"
      ],
      "metadata": {
        "id": "M04zNgMhGIXv"
      }
    },
    {
      "cell_type": "code",
      "source": [
        "X_train['normalized-losses'] = X_train['normalized-losses'].fillna(X_train['normalized-losses'].value_counts().index[0])\n",
        "X_train['bore'] = X_train['bore'].fillna(X_train['bore'].value_counts().index[0])\n",
        "X_train['stroke'] = X_train['stroke'].fillna(X_train['stroke'].value_counts().index[0])\n",
        "X_train['num-of-doors'] = X_train['num-of-doors'].fillna(X_train['num-of-doors'].value_counts().index[0])\n",
        "X_train['engine-type'] = X_train['engine-type'].fillna(X_train['engine-type'].value_counts().index[0])"
      ],
      "metadata": {
        "id": "KQgAtrwfKm2y"
      },
      "execution_count": 81,
      "outputs": []
    },
    {
      "cell_type": "code",
      "source": [
        "X_test['normalized-losses'] = X_test['normalized-losses'].fillna(X_test['normalized-losses'].value_counts().index[0])\n",
        "X_test['bore'] = X_test['bore'].fillna(X_test['bore'].value_counts().index[0])\n",
        "X_test['stroke'] = X_test['stroke'].fillna(X_test['stroke'].value_counts().index[0])\n",
        "X_test['num-of-doors'] = X_test['num-of-doors'].fillna(X_test['num-of-doors'].value_counts().index[0])\n",
        "X_test['engine-type'] = X_test['engine-type'].fillna(X_test['engine-type'].value_counts().index[0])\n",
        "X_test['horsepower'] = X_test['horsepower'].fillna(X_test['horsepower'].value_counts().index[0])\n",
        "X_test['peak-rpm'] = X_test['peak-rpm'].fillna(X_test['peak-rpm'].value_counts().index[0])"
      ],
      "metadata": {
        "id": "vtt5Fk27ObC9"
      },
      "execution_count": 82,
      "outputs": []
    },
    {
      "cell_type": "markdown",
      "source": [
        "# Chnging int/float values which are str in data to its original data type"
      ],
      "metadata": {
        "id": "UyuvmYncGVH1"
      }
    },
    {
      "cell_type": "code",
      "source": [
        "X_train['normalized-losses'] = X_train['normalized-losses'].astype(int)\n",
        "X_train['bore'] = X_train['bore'].astype(float)\n",
        "X_train['stroke'] = X_train['stroke'].astype(float)\n",
        "X_train['horsepower'] = X_train['horsepower'].astype(int)\n",
        "X_train['peak-rpm'] = X_train['peak-rpm'].astype(int)"
      ],
      "metadata": {
        "id": "SxD7jv28SQtn"
      },
      "execution_count": 83,
      "outputs": []
    },
    {
      "cell_type": "code",
      "source": [
        "X_test['normalized-losses'] = X_test['normalized-losses'].astype(int)\n",
        "X_test['bore'] = X_test['bore'].astype(float)\n",
        "X_test['stroke'] = X_test['stroke'].astype(float)\n",
        "X_test['horsepower'] = X_test['horsepower'].astype(int)\n",
        "X_test['peak-rpm'] = X_test['peak-rpm'].astype(int)"
      ],
      "metadata": {
        "id": "IL4TXuduOA6Z"
      },
      "execution_count": 84,
      "outputs": []
    },
    {
      "cell_type": "code",
      "source": [
        "y_train = y_train.astype(float)\n",
        "y_test = y_test.astype(float)"
      ],
      "metadata": {
        "id": "TYl1-kM7z9Sw"
      },
      "execution_count": 85,
      "outputs": []
    },
    {
      "cell_type": "code",
      "source": [
        "y_train = y_train.fillna(y_train.mean())\n",
        "y_test = y_test.fillna(y_test.mean())"
      ],
      "metadata": {
        "id": "3UYRS4KazuA6"
      },
      "execution_count": 86,
      "outputs": []
    },
    {
      "cell_type": "code",
      "source": [
        "X_train.reset_index(drop = True, inplace = True)"
      ],
      "metadata": {
        "id": "N6ziDOF-GmAm"
      },
      "execution_count": 87,
      "outputs": []
    },
    {
      "cell_type": "code",
      "source": [
        "X_test.reset_index(drop = True, inplace = True)"
      ],
      "metadata": {
        "id": "yUZFbMLcG6_W"
      },
      "execution_count": 88,
      "outputs": []
    },
    {
      "cell_type": "code",
      "source": [
        "y_train.reset_index(drop = True, inplace = True)\n",
        "y_test.reset_index(drop = True, inplace = True)"
      ],
      "metadata": {
        "id": "WFdv6sZe0knG"
      },
      "execution_count": 89,
      "outputs": []
    },
    {
      "cell_type": "markdown",
      "source": [
        "# Feature removing by correlation using heatmap"
      ],
      "metadata": {
        "id": "N0tOrO72Xy4p"
      }
    },
    {
      "cell_type": "code",
      "source": [
        "import seaborn as sns\n",
        "import matplotlib.pyplot as plt"
      ],
      "metadata": {
        "id": "U8rVnT-rG7eO"
      },
      "execution_count": 90,
      "outputs": []
    },
    {
      "cell_type": "code",
      "source": [
        "correlation = X_train.corr()"
      ],
      "metadata": {
        "id": "KHVjieZFHCAu"
      },
      "execution_count": 91,
      "outputs": []
    },
    {
      "cell_type": "code",
      "source": [
        "plt.figure(figsize=(15,15))\n",
        "sns.heatmap(correlation, xticklabels = correlation.columns, yticklabels = correlation.columns, annot = True)"
      ],
      "metadata": {
        "colab": {
          "base_uri": "https://localhost:8080/",
          "height": 964
        },
        "id": "3I6aC_FyHGHd",
        "outputId": "1abf4f71-8230-4fe4-bbee-4e23f36600ee"
      },
      "execution_count": 92,
      "outputs": [
        {
          "output_type": "execute_result",
          "data": {
            "text/plain": [
              "<matplotlib.axes._subplots.AxesSubplot at 0x7fef2cf1ee90>"
            ]
          },
          "metadata": {},
          "execution_count": 92
        },
        {
          "output_type": "display_data",
          "data": {
            "text/plain": [
              "<Figure size 1080x1080 with 2 Axes>"
            ],
            "image/png": "[encoded data removed]"
          },
          "metadata": {
            "needs_background": "light"
          }
        }
      ]
    },
    {
      "cell_type": "code",
      "source": [
        "# As per above heatmap 'city-mpg' & 'highway-mpg' these two features are correlated with 97% \n",
        "#so we will drop one of the feature."
      ],
      "metadata": {
        "id": "nIdVCN2DIE0_"
      },
      "execution_count": 93,
      "outputs": []
    },
    {
      "cell_type": "code",
      "source": [
        "X_train.drop('city-mpg', axis = 1, inplace = True)\n",
        "X_test.drop('city-mpg', axis = 1, inplace = True)"
      ],
      "metadata": {
        "id": "gdB-oCE7IgzH"
      },
      "execution_count": 94,
      "outputs": []
    },
    {
      "cell_type": "markdown",
      "source": [
        "# Handling Categorical Features"
      ],
      "metadata": {
        "id": "v1vbtujQX_OE"
      }
    },
    {
      "cell_type": "code",
      "source": [
        "from sklearn.preprocessing import OneHotEncoder"
      ],
      "metadata": {
        "id": "QZeaaBflX_sA"
      },
      "execution_count": 95,
      "outputs": []
    },
    {
      "cell_type": "code",
      "source": [
        "ohe = OneHotEncoder(sparse = False)"
      ],
      "metadata": {
        "id": "3c_OpvsqYUhv"
      },
      "execution_count": 96,
      "outputs": []
    },
    {
      "cell_type": "code",
      "source": [
        "ohe_columns = ohe.fit_transform(X_train[['make', 'fuel-type', 'aspiration', 'num-of-doors', 'body-style', 'drive-wheels', 'engine-location', 'engine-type', 'num-of-cylinders', 'fuel-system']])"
      ],
      "metadata": {
        "id": "bIIWnqaSYcTU"
      },
      "execution_count": 97,
      "outputs": []
    },
    {
      "cell_type": "code",
      "source": [
        "ohe_columns_test = ohe.fit_transform(X_test[['make', 'fuel-type', 'aspiration', 'num-of-doors', 'body-style', 'drive-wheels', 'engine-location', 'engine-type', 'num-of-cylinders', 'fuel-system']])"
      ],
      "metadata": {
        "id": "GmMQ8_VouIak"
      },
      "execution_count": 98,
      "outputs": []
    },
    {
      "cell_type": "code",
      "source": [
        "ohe_columns = pd.DataFrame(ohe_columns)"
      ],
      "metadata": {
        "id": "anahJnqEZqfK"
      },
      "execution_count": 99,
      "outputs": []
    },
    {
      "cell_type": "code",
      "source": [
        "ohe_columns_test = pd.DataFrame(ohe_columns_test)"
      ],
      "metadata": {
        "id": "57CtSv7Jupvj"
      },
      "execution_count": 100,
      "outputs": []
    },
    {
      "cell_type": "code",
      "source": [
        "X_train = X_train.drop(['make', 'fuel-type', 'aspiration', 'num-of-doors', 'body-style', 'drive-wheels', 'engine-location', 'engine-type', 'num-of-cylinders', 'fuel-system'], axis = 1)"
      ],
      "metadata": {
        "id": "KU4sCXmNZxl8"
      },
      "execution_count": 101,
      "outputs": []
    },
    {
      "cell_type": "code",
      "source": [
        "X_test = X_test.drop(['make', 'fuel-type', 'aspiration', 'num-of-doors', 'body-style', 'drive-wheels', 'engine-location', 'engine-type', 'num-of-cylinders', 'fuel-system'], axis = 1)"
      ],
      "metadata": {
        "id": "K_ZFYZKRuvfi"
      },
      "execution_count": 102,
      "outputs": []
    },
    {
      "cell_type": "code",
      "source": [
        "X_train.reset_index(drop = True, inplace = True)\n",
        "ohe_columns.reset_index(drop = True, inplace = True)\n",
        "X_train = pd.concat([X_train, ohe_columns], axis = 1)"
      ],
      "metadata": {
        "id": "SoIEZ78LaOkZ"
      },
      "execution_count": 103,
      "outputs": []
    },
    {
      "cell_type": "code",
      "source": [
        "X_test.reset_index(drop = True, inplace = True)\n",
        "ohe_columns_test.reset_index(drop = True, inplace = True)\n",
        "X_test = pd.concat([X_test, ohe_columns_test], axis = 1)"
      ],
      "metadata": {
        "id": "LEHjCUKLu1DD"
      },
      "execution_count": 104,
      "outputs": []
    },
    {
      "cell_type": "code",
      "source": [
        "X_train"
      ],
      "metadata": {
        "colab": {
          "base_uri": "https://localhost:8080/",
          "height": 424
        },
        "id": "H8Yd_TSLaXp-",
        "outputId": "93a8b3e7-dfc1-4359-ccf5-4c46c5ee03d2"
      },
      "execution_count": 105,
      "outputs": [
        {
          "output_type": "execute_result",
          "data": {
            "text/plain": [
              "     symboling  normalized-losses  wheel-base  length  width  height  \\\n",
              "0            2                164        99.4   176.6   66.4    54.3   \n",
              "1           -1                161       115.6   202.6   71.7    56.5   \n",
              "2            3                150        99.1   186.6   66.5    56.1   \n",
              "3            0                102        97.0   172.0   65.4    54.3   \n",
              "4            1                154        93.7   167.3   63.8    50.8   \n",
              "..         ...                ...         ...     ...    ...     ...   \n",
              "153         -1                 93       110.0   190.9   70.3    56.5   \n",
              "154          0                161       100.4   180.2   66.9    55.1   \n",
              "155          0                161       108.0   186.7   68.3    56.0   \n",
              "156          0                145       113.0   199.6   69.6    52.8   \n",
              "157          2                134        98.4   176.2   65.6    53.0   \n",
              "\n",
              "     curb-weight  engine-size  bore  stroke  ...   46   47   48   49   50  \\\n",
              "0           2824          136  3.19    3.40  ...  0.0  0.0  0.0  0.0  0.0   \n",
              "1           3740          234  3.46    3.10  ...  0.0  0.0  0.0  0.0  0.0   \n",
              "2           2707          121  2.54    2.07  ...  0.0  0.0  0.0  0.0  0.0   \n",
              "3           2510          108  3.62    2.64  ...  0.0  0.0  0.0  0.0  0.0   \n",
              "4           2191           98  2.97    3.23  ...  0.0  0.0  0.0  1.0  0.0   \n",
              "..           ...          ...   ...     ...  ...  ...  ...  ...  ...  ...   \n",
              "153         3515          183  3.58    3.64  ...  0.0  0.0  0.0  0.0  0.0   \n",
              "154         2579           97  3.01    3.40  ...  0.0  0.0  0.0  0.0  0.0   \n",
              "155         3130          134  3.61    3.21  ...  0.0  0.0  0.0  0.0  0.0   \n",
              "156         4066          258  3.63    4.17  ...  0.0  0.0  0.0  0.0  0.0   \n",
              "157         2975          146  3.62    3.50  ...  0.0  0.0  0.0  0.0  0.0   \n",
              "\n",
              "      51   52   53   54   55  \n",
              "0    0.0  0.0  1.0  0.0  0.0  \n",
              "1    0.0  0.0  1.0  0.0  0.0  \n",
              "2    0.0  0.0  1.0  0.0  0.0  \n",
              "3    0.0  0.0  1.0  0.0  0.0  \n",
              "4    0.0  0.0  0.0  0.0  0.0  \n",
              "..   ...  ...  ...  ...  ...  \n",
              "153  1.0  0.0  0.0  0.0  0.0  \n",
              "154  1.0  0.0  0.0  0.0  0.0  \n",
              "155  0.0  0.0  1.0  0.0  0.0  \n",
              "156  0.0  0.0  1.0  0.0  0.0  \n",
              "157  0.0  0.0  1.0  0.0  0.0  \n",
              "\n",
              "[158 rows x 70 columns]"
            ],
            "text/html": [
              "\n",
              "  <div id=\"df-a7079255-8792-4a09-80f8-6bbee8172eda\">\n",
              "    <div class=\"colab-df-container\">\n",
              "      <div>\n",
              "<style scoped>\n",
              "    .dataframe tbody tr th:only-of-type {\n",
              "        vertical-align: middle;\n",
              "    }\n",
              "\n",
              "    .dataframe tbody tr th {\n",
              "        vertical-align: top;\n",
              "    }\n",
              "\n",
              "    .dataframe thead th {\n",
              "        text-align: right;\n",
              "    }\n",
              "</style>\n",
              "<table border=\"1\" class=\"dataframe\">\n",
              "  <thead>\n",
              "    <tr style=\"text-align: right;\">\n",
              "      <th></th>\n",
              "      <th>symboling</th>\n",
              "      <th>normalized-losses</th>\n",
              "      <th>wheel-base</th>\n",
              "      <th>length</th>\n",
              "      <th>width</th>\n",
              "      <th>height</th>\n",
              "      <th>curb-weight</th>\n",
              "      <th>engine-size</th>\n",
              "      <th>bore</th>\n",
              "      <th>stroke</th>\n",
              "      <th>...</th>\n",
              "      <th>46</th>\n",
              "      <th>47</th>\n",
              "      <th>48</th>\n",
              "      <th>49</th>\n",
              "      <th>50</th>\n",
              "      <th>51</th>\n",
              "      <th>52</th>\n",
              "      <th>53</th>\n",
              "      <th>54</th>\n",
              "      <th>55</th>\n",
              "    </tr>\n",
              "  </thead>\n",
              "  <tbody>\n",
              "    <tr>\n",
              "      <th>0</th>\n",
              "      <td>2</td>\n",
              "      <td>164</td>\n",
              "      <td>99.4</td>\n",
              "      <td>176.6</td>\n",
              "      <td>66.4</td>\n",
              "      <td>54.3</td>\n",
              "      <td>2824</td>\n",
              "      <td>136</td>\n",
              "      <td>3.19</td>\n",
              "      <td>3.40</td>\n",
              "      <td>...</td>\n",
              "      <td>0.0</td>\n",
              "      <td>0.0</td>\n",
              "      <td>0.0</td>\n",
              "      <td>0.0</td>\n",
              "      <td>0.0</td>\n",
              "      <td>0.0</td>\n",
              "      <td>0.0</td>\n",
              "      <td>1.0</td>\n",
              "      <td>0.0</td>\n",
              "      <td>0.0</td>\n",
              "    </tr>\n",
              "    <tr>\n",
              "      <th>1</th>\n",
              "      <td>-1</td>\n",
              "      <td>161</td>\n",
              "      <td>115.6</td>\n",
              "      <td>202.6</td>\n",
              "      <td>71.7</td>\n",
              "      <td>56.5</td>\n",
              "      <td>3740</td>\n",
              "      <td>234</td>\n",
              "      <td>3.46</td>\n",
              "      <td>3.10</td>\n",
              "      <td>...</td>\n",
              "      <td>0.0</td>\n",
              "      <td>0.0</td>\n",
              "      <td>0.0</td>\n",
              "      <td>0.0</td>\n",
              "      <td>0.0</td>\n",
              "      <td>0.0</td>\n",
              "      <td>0.0</td>\n",
              "      <td>1.0</td>\n",
              "      <td>0.0</td>\n",
              "      <td>0.0</td>\n",
              "    </tr>\n",
              "    <tr>\n",
              "      <th>2</th>\n",
              "      <td>3</td>\n",
              "      <td>150</td>\n",
              "      <td>99.1</td>\n",
              "      <td>186.6</td>\n",
              "      <td>66.5</td>\n",
              "      <td>56.1</td>\n",
              "      <td>2707</td>\n",
              "      <td>121</td>\n",
              "      <td>2.54</td>\n",
              "      <td>2.07</td>\n",
              "      <td>...</td>\n",
              "      <td>0.0</td>\n",
              "      <td>0.0</td>\n",
              "      <td>0.0</td>\n",
              "      <td>0.0</td>\n",
              "      <td>0.0</td>\n",
              "      <td>0.0</td>\n",
              "      <td>0.0</td>\n",
              "      <td>1.0</td>\n",
              "      <td>0.0</td>\n",
              "      <td>0.0</td>\n",
              "    </tr>\n",
              "    <tr>\n",
              "      <th>3</th>\n",
              "      <td>0</td>\n",
              "      <td>102</td>\n",
              "      <td>97.0</td>\n",
              "      <td>172.0</td>\n",
              "      <td>65.4</td>\n",
              "      <td>54.3</td>\n",
              "      <td>2510</td>\n",
              "      <td>108</td>\n",
              "      <td>3.62</td>\n",
              "      <td>2.64</td>\n",
              "      <td>...</td>\n",
              "      <td>0.0</td>\n",
              "      <td>0.0</td>\n",
              "      <td>0.0</td>\n",
              "      <td>0.0</td>\n",
              "      <td>0.0</td>\n",
              "      <td>0.0</td>\n",
              "      <td>0.0</td>\n",
              "      <td>1.0</td>\n",
              "      <td>0.0</td>\n",
              "      <td>0.0</td>\n",
              "    </tr>\n",
              "    <tr>\n",
              "      <th>4</th>\n",
              "      <td>1</td>\n",
              "      <td>154</td>\n",
              "      <td>93.7</td>\n",
              "      <td>167.3</td>\n",
              "      <td>63.8</td>\n",
              "      <td>50.8</td>\n",
              "      <td>2191</td>\n",
              "      <td>98</td>\n",
              "      <td>2.97</td>\n",
              "      <td>3.23</td>\n",
              "      <td>...</td>\n",
              "      <td>0.0</td>\n",
              "      <td>0.0</td>\n",
              "      <td>0.0</td>\n",
              "      <td>1.0</td>\n",
              "      <td>0.0</td>\n",
              "      <td>0.0</td>\n",
              "      <td>0.0</td>\n",
              "      <td>0.0</td>\n",
              "      <td>0.0</td>\n",
              "      <td>0.0</td>\n",
              "    </tr>\n",
              "    <tr>\n",
              "      <th>...</th>\n",
              "      <td>...</td>\n",
              "      <td>...</td>\n",
              "      <td>...</td>\n",
              "      <td>...</td>\n",
              "      <td>...</td>\n",
              "      <td>...</td>\n",
              "      <td>...</td>\n",
              "      <td>...</td>\n",
              "      <td>...</td>\n",
              "      <td>...</td>\n",
              "      <td>...</td>\n",
              "      <td>...</td>\n",
              "      <td>...</td>\n",
              "      <td>...</td>\n",
              "      <td>...</td>\n",
              "      <td>...</td>\n",
              "      <td>...</td>\n",
              "      <td>...</td>\n",
              "      <td>...</td>\n",
              "      <td>...</td>\n",
              "      <td>...</td>\n",
              "    </tr>\n",
              "    <tr>\n",
              "      <th>153</th>\n",
              "      <td>-1</td>\n",
              "      <td>93</td>\n",
              "      <td>110.0</td>\n",
              "      <td>190.9</td>\n",
              "      <td>70.3</td>\n",
              "      <td>56.5</td>\n",
              "      <td>3515</td>\n",
              "      <td>183</td>\n",
              "      <td>3.58</td>\n",
              "      <td>3.64</td>\n",
              "      <td>...</td>\n",
              "      <td>0.0</td>\n",
              "      <td>0.0</td>\n",
              "      <td>0.0</td>\n",
              "      <td>0.0</td>\n",
              "      <td>0.0</td>\n",
              "      <td>1.0</td>\n",
              "      <td>0.0</td>\n",
              "      <td>0.0</td>\n",
              "      <td>0.0</td>\n",
              "      <td>0.0</td>\n",
              "    </tr>\n",
              "    <tr>\n",
              "      <th>154</th>\n",
              "      <td>0</td>\n",
              "      <td>161</td>\n",
              "      <td>100.4</td>\n",
              "      <td>180.2</td>\n",
              "      <td>66.9</td>\n",
              "      <td>55.1</td>\n",
              "      <td>2579</td>\n",
              "      <td>97</td>\n",
              "      <td>3.01</td>\n",
              "      <td>3.40</td>\n",
              "      <td>...</td>\n",
              "      <td>0.0</td>\n",
              "      <td>0.0</td>\n",
              "      <td>0.0</td>\n",
              "      <td>0.0</td>\n",
              "      <td>0.0</td>\n",
              "      <td>1.0</td>\n",
              "      <td>0.0</td>\n",
              "      <td>0.0</td>\n",
              "      <td>0.0</td>\n",
              "      <td>0.0</td>\n",
              "    </tr>\n",
              "    <tr>\n",
              "      <th>155</th>\n",
              "      <td>0</td>\n",
              "      <td>161</td>\n",
              "      <td>108.0</td>\n",
              "      <td>186.7</td>\n",
              "      <td>68.3</td>\n",
              "      <td>56.0</td>\n",
              "      <td>3130</td>\n",
              "      <td>134</td>\n",
              "      <td>3.61</td>\n",
              "      <td>3.21</td>\n",
              "      <td>...</td>\n",
              "      <td>0.0</td>\n",
              "      <td>0.0</td>\n",
              "      <td>0.0</td>\n",
              "      <td>0.0</td>\n",
              "      <td>0.0</td>\n",
              "      <td>0.0</td>\n",
              "      <td>0.0</td>\n",
              "      <td>1.0</td>\n",
              "      <td>0.0</td>\n",
              "      <td>0.0</td>\n",
              "    </tr>\n",
              "    <tr>\n",
              "      <th>156</th>\n",
              "      <td>0</td>\n",
              "      <td>145</td>\n",
              "      <td>113.0</td>\n",
              "      <td>199.6</td>\n",
              "      <td>69.6</td>\n",
              "      <td>52.8</td>\n",
              "      <td>4066</td>\n",
              "      <td>258</td>\n",
              "      <td>3.63</td>\n",
              "      <td>4.17</td>\n",
              "      <td>...</td>\n",
              "      <td>0.0</td>\n",
              "      <td>0.0</td>\n",
              "      <td>0.0</td>\n",
              "      <td>0.0</td>\n",
              "      <td>0.0</td>\n",
              "      <td>0.0</td>\n",
              "      <td>0.0</td>\n",
              "      <td>1.0</td>\n",
              "      <td>0.0</td>\n",
              "      <td>0.0</td>\n",
              "    </tr>\n",
              "    <tr>\n",
              "      <th>157</th>\n",
              "      <td>2</td>\n",
              "      <td>134</td>\n",
              "      <td>98.4</td>\n",
              "      <td>176.2</td>\n",
              "      <td>65.6</td>\n",
              "      <td>53.0</td>\n",
              "      <td>2975</td>\n",
              "      <td>146</td>\n",
              "      <td>3.62</td>\n",
              "      <td>3.50</td>\n",
              "      <td>...</td>\n",
              "      <td>0.0</td>\n",
              "      <td>0.0</td>\n",
              "      <td>0.0</td>\n",
              "      <td>0.0</td>\n",
              "      <td>0.0</td>\n",
              "      <td>0.0</td>\n",
              "      <td>0.0</td>\n",
              "      <td>1.0</td>\n",
              "      <td>0.0</td>\n",
              "      <td>0.0</td>\n",
              "    </tr>\n",
              "  </tbody>\n",
              "</table>\n",
              "<p>158 rows × 70 columns</p>\n",
              "</div>\n",
              "      <button class=\"colab-df-convert\" onclick=\"convertToInteractive('df-a7079255-8792-4a09-80f8-6bbee8172eda')\"\n",
              "              title=\"Convert this dataframe to an interactive table.\"\n",
              "              style=\"display:none;\">\n",
              "        \n",
              "  <svg xmlns=\"http://www.w3.org/2000/svg\" height=\"24px\"viewBox=\"0 0 24 24\"\n",
              "       width=\"24px\">\n",
              "    <path d=\"M0 0h24v24H0V0z\" fill=\"none\"/>\n",
              "    <path d=\"M18.56 5.44l.94 2.06.94-2.06 2.06-.94-2.06-.94-.94-2.06-.94 2.06-2.06.94zm-11 1L8.5 8.5l.94-2.06 2.06-.94-2.06-.94L8.5 2.5l-.94 2.06-2.06.94zm10 10l.94 2.06.94-2.06 2.06-.94-2.06-.94-.94-2.06-.94 2.06-2.06.94z\"/><path d=\"M17.41 7.96l-1.37-1.37c-.4-.4-.92-.59-1.43-.59-.52 0-1.04.2-1.43.59L10.3 9.45l-7.72 7.72c-.78.78-.78 2.05 0 2.83L4 21.41c.39.39.9.59 1.41.59.51 0 1.02-.2 1.41-.59l7.78-7.78 2.81-2.81c.8-.78.8-2.07 0-2.86zM5.41 20L4 18.59l7.72-7.72 1.47 1.35L5.41 20z\"/>\n",
              "  </svg>\n",
              "      </button>\n",
              "      \n",
              "  <style>\n",
              "    .colab-df-container {\n",
              "      display:flex;\n",
              "      flex-wrap:wrap;\n",
              "      gap: 12px;\n",
              "    }\n",
              "\n",
              "    .colab-df-convert {\n",
              "      background-color: #E8F0FE;\n",
              "      border: none;\n",
              "      border-radius: 50%;\n",
              "      cursor: pointer;\n",
              "      display: none;\n",
              "      fill: #1967D2;\n",
              "      height: 32px;\n",
              "      padding: 0 0 0 0;\n",
              "      width: 32px;\n",
              "    }\n",
              "\n",
              "    .colab-df-convert:hover {\n",
              "      background-color: #E2EBFA;\n",
              "      box-shadow: 0px 1px 2px rgba(60, 64, 67, 0.3), 0px 1px 3px 1px rgba(60, 64, 67, 0.15);\n",
              "      fill: #174EA6;\n",
              "    }\n",
              "\n",
              "    [theme=dark] .colab-df-convert {\n",
              "      background-color: #3B4455;\n",
              "      fill: #D2E3FC;\n",
              "    }\n",
              "\n",
              "    [theme=dark] .colab-df-convert:hover {\n",
              "      background-color: #434B5C;\n",
              "      box-shadow: 0px 1px 3px 1px rgba(0, 0, 0, 0.15);\n",
              "      filter: drop-shadow(0px 1px 2px rgba(0, 0, 0, 0.3));\n",
              "      fill: #FFFFFF;\n",
              "    }\n",
              "  </style>\n",
              "\n",
              "      <script>\n",
              "        const buttonEl =\n",
              "          document.querySelector('#df-a7079255-8792-4a09-80f8-6bbee8172eda button.colab-df-convert');\n",
              "        buttonEl.style.display =\n",
              "          google.colab.kernel.accessAllowed ? 'block' : 'none';\n",
              "\n",
              "        async function convertToInteractive(key) {\n",
              "          const element = document.querySelector('#df-a7079255-8792-4a09-80f8-6bbee8172eda');\n",
              "          const dataTable =\n",
              "            await google.colab.kernel.invokeFunction('convertToInteractive',\n",
              "                                                     [key], {});\n",
              "          if (!dataTable) return;\n",
              "\n",
              "          const docLinkHtml = 'Like what you see? Visit the ' +\n",
              "            '<a target=\"_blank\" href=https://colab.research.google.com/notebooks/data_table.ipynb>data table notebook</a>'\n",
              "            + ' to learn more about interactive tables.';\n",
              "          element.innerHTML = '';\n",
              "          dataTable['output_type'] = 'display_data';\n",
              "          await google.colab.output.renderOutput(dataTable, element);\n",
              "          const docLink = document.createElement('div');\n",
              "          docLink.innerHTML = docLinkHtml;\n",
              "          element.appendChild(docLink);\n",
              "        }\n",
              "      </script>\n",
              "    </div>\n",
              "  </div>\n",
              "  "
            ]
          },
          "metadata": {},
          "execution_count": 105
        }
      ]
    },
    {
      "cell_type": "code",
      "source": [
        "X_test"
      ],
      "metadata": {
        "colab": {
          "base_uri": "https://localhost:8080/",
          "height": 1000
        },
        "id": "Nyu7aWzqwKa1",
        "outputId": "cafdece6-6bf7-4b4e-ea08-20df005ab7b4"
      },
      "execution_count": 106,
      "outputs": [
        {
          "output_type": "execute_result",
          "data": {
            "text/plain": [
              "    symboling  normalized-losses  wheel-base  length  width  height  \\\n",
              "0           1                104        93.1   159.1   64.2    54.1   \n",
              "1          -1                134       104.5   187.8   66.5    54.1   \n",
              "2           2                134        99.8   177.3   66.3    53.1   \n",
              "3           2                121        88.4   141.1   60.3    53.2   \n",
              "4           2                 94        97.3   171.7   65.5    55.7   \n",
              "5           2                134        98.4   176.2   65.6    52.0   \n",
              "6           2                161        93.7   157.3   64.4    50.8   \n",
              "7           0                 81        95.7   169.7   63.6    59.1   \n",
              "8           3                194        91.3   170.7   67.9    49.7   \n",
              "9           1                101        93.7   150.0   64.0    52.6   \n",
              "10          0                188       101.2   176.8   64.8    54.3   \n",
              "11          1                134        98.4   175.7   72.3    50.5   \n",
              "12          3                150        95.3   169.0   65.7    49.6   \n",
              "13          0                134       104.9   175.0   66.1    54.4   \n",
              "14          0                134        94.5   155.9   63.6    52.0   \n",
              "15          2                134        98.4   176.2   65.6    52.0   \n",
              "16          0                134        96.1   181.5   66.5    55.2   \n",
              "17          1                134       105.8   192.7   71.4    55.7   \n",
              "18          0                106        96.5   167.5   65.2    53.3   \n",
              "19          1                 74        95.7   158.7   63.6    54.5   \n",
              "20          3                153        96.3   173.0   65.4    49.4   \n",
              "21          0                161       107.9   186.7   68.4    56.7   \n",
              "22          2                134        96.1   176.8   66.6    50.5   \n",
              "23          2                134        98.4   176.2   65.6    52.0   \n",
              "24          3                197       102.9   183.5   67.7    52.0   \n",
              "25          2                 83        93.7   156.9   63.4    53.7   \n",
              "26          0                 91        95.7   166.3   64.4    53.0   \n",
              "27          0                134       114.2   198.9   68.4    56.7   \n",
              "28          0                 91        95.7   166.3   64.4    52.8   \n",
              "29          1                128        94.5   165.3   63.8    54.5   \n",
              "30          2                122        97.3   171.7   65.5    55.7   \n",
              "31          0                134       100.4   183.1   66.9    55.1   \n",
              "32          3                186        94.5   168.9   68.3    50.2   \n",
              "33         -1                 65       102.4   175.6   66.5    54.9   \n",
              "34          1                122        94.5   165.3   63.8    54.5   \n",
              "35          0                134       103.5   193.8   67.9    53.7   \n",
              "36          3                134        94.5   159.3   64.2    55.6   \n",
              "37          3                150        99.1   186.6   66.5    56.1   \n",
              "38          1                118        93.7   157.3   63.8    50.8   \n",
              "39          1                134       112.0   199.2   72.0    55.4   \n",
              "40          1                134        94.5   155.9   63.6    52.0   \n",
              "\n",
              "    curb-weight  engine-size  bore  stroke  ...   40   41   42   43   44   45  \\\n",
              "0          1905           91  3.03    3.15  ...  1.0  0.0  0.0  0.0  0.0  1.0   \n",
              "1          3151          161  3.27    3.35  ...  0.0  1.0  0.0  0.0  0.0  0.0   \n",
              "2          2507          136  3.19    3.40  ...  0.0  0.0  0.0  0.0  0.0  0.0   \n",
              "3          1488           61  2.91    3.03  ...  0.0  0.0  1.0  0.0  0.0  1.0   \n",
              "4          2300          109  3.19    3.40  ...  1.0  0.0  0.0  0.0  0.0  0.0   \n",
              "5          2679          146  3.62    3.50  ...  1.0  0.0  0.0  0.0  0.0  0.0   \n",
              "6          1918           92  2.97    3.23  ...  1.0  0.0  0.0  0.0  0.0  1.0   \n",
              "7          2290           92  3.05    3.03  ...  1.0  0.0  0.0  0.0  0.0  1.0   \n",
              "8          3071          181  3.43    3.27  ...  0.0  1.0  0.0  0.0  0.0  0.0   \n",
              "9          1940           92  2.91    3.41  ...  1.0  0.0  0.0  0.0  1.0  0.0   \n",
              "10         2710          164  3.31    3.19  ...  0.0  1.0  0.0  0.0  0.0  0.0   \n",
              "11         3366          203  3.94    3.11  ...  0.0  0.0  0.0  0.0  0.0  0.0   \n",
              "12         2380           70  3.19    3.40  ...  0.0  0.0  0.0  1.0  0.0  0.0   \n",
              "13         2700          134  3.43    3.64  ...  1.0  0.0  0.0  0.0  0.0  0.0   \n",
              "14         1909           90  3.03    3.11  ...  1.0  0.0  0.0  0.0  0.0  1.0   \n",
              "15         2551          146  3.62    3.50  ...  1.0  0.0  0.0  0.0  0.0  0.0   \n",
              "16         2579          132  3.46    3.90  ...  1.0  0.0  0.0  0.0  0.0  0.0   \n",
              "17         2954          136  3.19    3.40  ...  0.0  0.0  0.0  0.0  0.0  0.0   \n",
              "18         2236          110  3.15    3.58  ...  1.0  0.0  0.0  0.0  1.0  0.0   \n",
              "19         2015           92  3.05    3.03  ...  1.0  0.0  0.0  0.0  0.0  1.0   \n",
              "20         2370          110  3.17    3.46  ...  1.0  0.0  0.0  0.0  0.0  0.0   \n",
              "21         3075          120  3.46    2.19  ...  1.0  0.0  0.0  0.0  0.0  0.0   \n",
              "22         2460          132  3.46    3.90  ...  1.0  0.0  0.0  0.0  0.0  0.0   \n",
              "23         2714          146  3.62    3.50  ...  1.0  0.0  0.0  0.0  0.0  0.0   \n",
              "24         3016          171  3.27    3.35  ...  0.0  1.0  0.0  0.0  0.0  0.0   \n",
              "25         2050           97  3.62    2.36  ...  1.0  0.0  0.0  0.0  0.0  1.0   \n",
              "26         2081           98  3.19    3.03  ...  1.0  0.0  0.0  0.0  0.0  1.0   \n",
              "27         3285          120  3.46    2.19  ...  1.0  0.0  0.0  0.0  0.0  0.0   \n",
              "28         2122           98  3.19    3.03  ...  1.0  0.0  0.0  0.0  0.0  1.0   \n",
              "29         1889           97  3.15    3.29  ...  1.0  0.0  0.0  0.0  0.0  1.0   \n",
              "30         2209          109  3.19    3.40  ...  1.0  0.0  0.0  0.0  0.0  0.0   \n",
              "31         2563          109  3.19    3.40  ...  1.0  0.0  0.0  0.0  0.0  0.0   \n",
              "32         2778          151  3.94    3.11  ...  1.0  0.0  0.0  0.0  0.0  0.0   \n",
              "33         2326          122  3.31    3.54  ...  1.0  0.0  0.0  0.0  0.0  0.0   \n",
              "34         1938           97  3.15    3.29  ...  1.0  0.0  0.0  0.0  0.0  1.0   \n",
              "35         3380          209  3.62    3.39  ...  0.0  1.0  0.0  0.0  0.0  0.0   \n",
              "36         2254          109  3.19    3.40  ...  1.0  0.0  0.0  0.0  0.0  0.0   \n",
              "37         2808          121  3.54    3.07  ...  1.0  0.0  0.0  0.0  0.0  0.0   \n",
              "38         1876           90  2.97    3.23  ...  1.0  0.0  0.0  0.0  0.0  1.0   \n",
              "39         3715          304  3.80    3.35  ...  0.0  0.0  0.0  0.0  0.0  0.0   \n",
              "40         1874           90  3.03    3.11  ...  1.0  0.0  0.0  0.0  0.0  1.0   \n",
              "\n",
              "     46   47   48   49  \n",
              "0   0.0  0.0  0.0  0.0  \n",
              "1   0.0  0.0  1.0  0.0  \n",
              "2   0.0  0.0  1.0  0.0  \n",
              "3   0.0  0.0  0.0  0.0  \n",
              "4   0.0  0.0  1.0  0.0  \n",
              "5   0.0  0.0  1.0  0.0  \n",
              "6   0.0  0.0  0.0  0.0  \n",
              "7   0.0  0.0  0.0  0.0  \n",
              "8   0.0  0.0  1.0  0.0  \n",
              "9   0.0  0.0  0.0  0.0  \n",
              "10  0.0  0.0  1.0  0.0  \n",
              "11  0.0  0.0  1.0  0.0  \n",
              "12  1.0  0.0  0.0  0.0  \n",
              "13  0.0  1.0  0.0  0.0  \n",
              "14  0.0  0.0  0.0  0.0  \n",
              "15  0.0  0.0  1.0  0.0  \n",
              "16  0.0  0.0  1.0  0.0  \n",
              "17  0.0  0.0  1.0  0.0  \n",
              "18  0.0  0.0  0.0  0.0  \n",
              "19  0.0  0.0  0.0  0.0  \n",
              "20  0.0  0.0  0.0  1.0  \n",
              "21  0.0  0.0  1.0  0.0  \n",
              "22  0.0  0.0  1.0  0.0  \n",
              "23  0.0  0.0  1.0  0.0  \n",
              "24  0.0  0.0  1.0  0.0  \n",
              "25  0.0  0.0  0.0  0.0  \n",
              "26  0.0  0.0  0.0  0.0  \n",
              "27  0.0  0.0  1.0  0.0  \n",
              "28  0.0  0.0  0.0  0.0  \n",
              "29  0.0  0.0  0.0  0.0  \n",
              "30  0.0  0.0  1.0  0.0  \n",
              "31  0.0  0.0  1.0  0.0  \n",
              "32  0.0  0.0  1.0  0.0  \n",
              "33  0.0  0.0  1.0  0.0  \n",
              "34  0.0  0.0  0.0  0.0  \n",
              "35  0.0  0.0  1.0  0.0  \n",
              "36  0.0  0.0  1.0  0.0  \n",
              "37  0.0  0.0  1.0  0.0  \n",
              "38  0.0  0.0  0.0  0.0  \n",
              "39  0.0  0.0  1.0  0.0  \n",
              "40  0.0  0.0  0.0  0.0  \n",
              "\n",
              "[41 rows x 64 columns]"
            ],
            "text/html": [
              "\n",
              "  <div id=\"df-f18838f4-30e6-45ae-9929-4b7113138e21\">\n",
              "    <div class=\"colab-df-container\">\n",
              "      <div>\n",
              "<style scoped>\n",
              "    .dataframe tbody tr th:only-of-type {\n",
              "        vertical-align: middle;\n",
              "    }\n",
              "\n",
              "    .dataframe tbody tr th {\n",
              "        vertical-align: top;\n",
              "    }\n",
              "\n",
              "    .dataframe thead th {\n",
              "        text-align: right;\n",
              "    }\n",
              "</style>\n",
              "<table border=\"1\" class=\"dataframe\">\n",
              "  <thead>\n",
              "    <tr style=\"text-align: right;\">\n",
              "      <th></th>\n",
              "      <th>symboling</th>\n",
              "      <th>normalized-losses</th>\n",
              "      <th>wheel-base</th>\n",
              "      <th>length</th>\n",
              "      <th>width</th>\n",
              "      <th>height</th>\n",
              "      <th>curb-weight</th>\n",
              "      <th>engine-size</th>\n",
              "      <th>bore</th>\n",
              "      <th>stroke</th>\n",
              "      <th>...</th>\n",
              "      <th>40</th>\n",
              "      <th>41</th>\n",
              "      <th>42</th>\n",
              "      <th>43</th>\n",
              "      <th>44</th>\n",
              "      <th>45</th>\n",
              "      <th>46</th>\n",
              "      <th>47</th>\n",
              "      <th>48</th>\n",
              "      <th>49</th>\n",
              "    </tr>\n",
              "  </thead>\n",
              "  <tbody>\n",
              "    <tr>\n",
              "      <th>0</th>\n",
              "      <td>1</td>\n",
              "      <td>104</td>\n",
              "      <td>93.1</td>\n",
              "      <td>159.1</td>\n",
              "      <td>64.2</td>\n",
              "      <td>54.1</td>\n",
              "      <td>1905</td>\n",
              "      <td>91</td>\n",
              "      <td>3.03</td>\n",
              "      <td>3.15</td>\n",
              "      <td>...</td>\n",
              "      <td>1.0</td>\n",
              "      <td>0.0</td>\n",
              "      <td>0.0</td>\n",
              "      <td>0.0</td>\n",
              "      <td>0.0</td>\n",
              "      <td>1.0</td>\n",
              "      <td>0.0</td>\n",
              "      <td>0.0</td>\n",
              "      <td>0.0</td>\n",
              "      <td>0.0</td>\n",
              "    </tr>\n",
              "    <tr>\n",
              "      <th>1</th>\n",
              "      <td>-1</td>\n",
              "      <td>134</td>\n",
              "      <td>104.5</td>\n",
              "      <td>187.8</td>\n",
              "      <td>66.5</td>\n",
              "      <td>54.1</td>\n",
              "      <td>3151</td>\n",
              "      <td>161</td>\n",
              "      <td>3.27</td>\n",
              "      <td>3.35</td>\n",
              "      <td>...</td>\n",
              "      <td>0.0</td>\n",
              "      <td>1.0</td>\n",
              "      <td>0.0</td>\n",
              "      <td>0.0</td>\n",
              "      <td>0.0</td>\n",
              "      <td>0.0</td>\n",
              "      <td>0.0</td>\n",
              "      <td>0.0</td>\n",
              "      <td>1.0</td>\n",
              "      <td>0.0</td>\n",
              "    </tr>\n",
              "    <tr>\n",
              "      <th>2</th>\n",
              "      <td>2</td>\n",
              "      <td>134</td>\n",
              "      <td>99.8</td>\n",
              "      <td>177.3</td>\n",
              "      <td>66.3</td>\n",
              "      <td>53.1</td>\n",
              "      <td>2507</td>\n",
              "      <td>136</td>\n",
              "      <td>3.19</td>\n",
              "      <td>3.40</td>\n",
              "      <td>...</td>\n",
              "      <td>0.0</td>\n",
              "      <td>0.0</td>\n",
              "      <td>0.0</td>\n",
              "      <td>0.0</td>\n",
              "      <td>0.0</td>\n",
              "      <td>0.0</td>\n",
              "      <td>0.0</td>\n",
              "      <td>0.0</td>\n",
              "      <td>1.0</td>\n",
              "      <td>0.0</td>\n",
              "    </tr>\n",
              "    <tr>\n",
              "      <th>3</th>\n",
              "      <td>2</td>\n",
              "      <td>121</td>\n",
              "      <td>88.4</td>\n",
              "      <td>141.1</td>\n",
              "      <td>60.3</td>\n",
              "      <td>53.2</td>\n",
              "      <td>1488</td>\n",
              "      <td>61</td>\n",
              "      <td>2.91</td>\n",
              "      <td>3.03</td>\n",
              "      <td>...</td>\n",
              "      <td>0.0</td>\n",
              "      <td>0.0</td>\n",
              "      <td>1.0</td>\n",
              "      <td>0.0</td>\n",
              "      <td>0.0</td>\n",
              "      <td>1.0</td>\n",
              "      <td>0.0</td>\n",
              "      <td>0.0</td>\n",
              "      <td>0.0</td>\n",
              "      <td>0.0</td>\n",
              "    </tr>\n",
              "    <tr>\n",
              "      <th>4</th>\n",
              "      <td>2</td>\n",
              "      <td>94</td>\n",
              "      <td>97.3</td>\n",
              "      <td>171.7</td>\n",
              "      <td>65.5</td>\n",
              "      <td>55.7</td>\n",
              "      <td>2300</td>\n",
              "      <td>109</td>\n",
              "      <td>3.19</td>\n",
              "      <td>3.40</td>\n",
              "      <td>...</td>\n",
              "      <td>1.0</td>\n",
              "      <td>0.0</td>\n",
              "      <td>0.0</td>\n",
              "      <td>0.0</td>\n",
              "      <td>0.0</td>\n",
              "      <td>0.0</td>\n",
              "      <td>0.0</td>\n",
              "      <td>0.0</td>\n",
              "      <td>1.0</td>\n",
              "      <td>0.0</td>\n",
              "    </tr>\n",
              "    <tr>\n",
              "      <th>5</th>\n",
              "      <td>2</td>\n",
              "      <td>134</td>\n",
              "      <td>98.4</td>\n",
              "      <td>176.2</td>\n",
              "      <td>65.6</td>\n",
              "      <td>52.0</td>\n",
              "      <td>2679</td>\n",
              "      <td>146</td>\n",
              "      <td>3.62</td>\n",
              "      <td>3.50</td>\n",
              "      <td>...</td>\n",
              "      <td>1.0</td>\n",
              "      <td>0.0</td>\n",
              "      <td>0.0</td>\n",
              "      <td>0.0</td>\n",
              "      <td>0.0</td>\n",
              "      <td>0.0</td>\n",
              "      <td>0.0</td>\n",
              "      <td>0.0</td>\n",
              "      <td>1.0</td>\n",
              "      <td>0.0</td>\n",
              "    </tr>\n",
              "    <tr>\n",
              "      <th>6</th>\n",
              "      <td>2</td>\n",
              "      <td>161</td>\n",
              "      <td>93.7</td>\n",
              "      <td>157.3</td>\n",
              "      <td>64.4</td>\n",
              "      <td>50.8</td>\n",
              "      <td>1918</td>\n",
              "      <td>92</td>\n",
              "      <td>2.97</td>\n",
              "      <td>3.23</td>\n",
              "      <td>...</td>\n",
              "      <td>1.0</td>\n",
              "      <td>0.0</td>\n",
              "      <td>0.0</td>\n",
              "      <td>0.0</td>\n",
              "      <td>0.0</td>\n",
              "      <td>1.0</td>\n",
              "      <td>0.0</td>\n",
              "      <td>0.0</td>\n",
              "      <td>0.0</td>\n",
              "      <td>0.0</td>\n",
              "    </tr>\n",
              "    <tr>\n",
              "      <th>7</th>\n",
              "      <td>0</td>\n",
              "      <td>81</td>\n",
              "      <td>95.7</td>\n",
              "      <td>169.7</td>\n",
              "      <td>63.6</td>\n",
              "      <td>59.1</td>\n",
              "      <td>2290</td>\n",
              "      <td>92</td>\n",
              "      <td>3.05</td>\n",
              "      <td>3.03</td>\n",
              "      <td>...</td>\n",
              "      <td>1.0</td>\n",
              "      <td>0.0</td>\n",
              "      <td>0.0</td>\n",
              "      <td>0.0</td>\n",
              "      <td>0.0</td>\n",
              "      <td>1.0</td>\n",
              "      <td>0.0</td>\n",
              "      <td>0.0</td>\n",
              "      <td>0.0</td>\n",
              "      <td>0.0</td>\n",
              "    </tr>\n",
              "    <tr>\n",
              "      <th>8</th>\n",
              "      <td>3</td>\n",
              "      <td>194</td>\n",
              "      <td>91.3</td>\n",
              "      <td>170.7</td>\n",
              "      <td>67.9</td>\n",
              "      <td>49.7</td>\n",
              "      <td>3071</td>\n",
              "      <td>181</td>\n",
              "      <td>3.43</td>\n",
              "      <td>3.27</td>\n",
              "      <td>...</td>\n",
              "      <td>0.0</td>\n",
              "      <td>1.0</td>\n",
              "      <td>0.0</td>\n",
              "      <td>0.0</td>\n",
              "      <td>0.0</td>\n",
              "      <td>0.0</td>\n",
              "      <td>0.0</td>\n",
              "      <td>0.0</td>\n",
              "      <td>1.0</td>\n",
              "      <td>0.0</td>\n",
              "    </tr>\n",
              "    <tr>\n",
              "      <th>9</th>\n",
              "      <td>1</td>\n",
              "      <td>101</td>\n",
              "      <td>93.7</td>\n",
              "      <td>150.0</td>\n",
              "      <td>64.0</td>\n",
              "      <td>52.6</td>\n",
              "      <td>1940</td>\n",
              "      <td>92</td>\n",
              "      <td>2.91</td>\n",
              "      <td>3.41</td>\n",
              "      <td>...</td>\n",
              "      <td>1.0</td>\n",
              "      <td>0.0</td>\n",
              "      <td>0.0</td>\n",
              "      <td>0.0</td>\n",
              "      <td>1.0</td>\n",
              "      <td>0.0</td>\n",
              "      <td>0.0</td>\n",
              "      <td>0.0</td>\n",
              "      <td>0.0</td>\n",
              "      <td>0.0</td>\n",
              "    </tr>\n",
              "    <tr>\n",
              "      <th>10</th>\n",
              "      <td>0</td>\n",
              "      <td>188</td>\n",
              "      <td>101.2</td>\n",
              "      <td>176.8</td>\n",
              "      <td>64.8</td>\n",
              "      <td>54.3</td>\n",
              "      <td>2710</td>\n",
              "      <td>164</td>\n",
              "      <td>3.31</td>\n",
              "      <td>3.19</td>\n",
              "      <td>...</td>\n",
              "      <td>0.0</td>\n",
              "      <td>1.0</td>\n",
              "      <td>0.0</td>\n",
              "      <td>0.0</td>\n",
              "      <td>0.0</td>\n",
              "      <td>0.0</td>\n",
              "      <td>0.0</td>\n",
              "      <td>0.0</td>\n",
              "      <td>1.0</td>\n",
              "      <td>0.0</td>\n",
              "    </tr>\n",
              "    <tr>\n",
              "      <th>11</th>\n",
              "      <td>1</td>\n",
              "      <td>134</td>\n",
              "      <td>98.4</td>\n",
              "      <td>175.7</td>\n",
              "      <td>72.3</td>\n",
              "      <td>50.5</td>\n",
              "      <td>3366</td>\n",
              "      <td>203</td>\n",
              "      <td>3.94</td>\n",
              "      <td>3.11</td>\n",
              "      <td>...</td>\n",
              "      <td>0.0</td>\n",
              "      <td>0.0</td>\n",
              "      <td>0.0</td>\n",
              "      <td>0.0</td>\n",
              "      <td>0.0</td>\n",
              "      <td>0.0</td>\n",
              "      <td>0.0</td>\n",
              "      <td>0.0</td>\n",
              "      <td>1.0</td>\n",
              "      <td>0.0</td>\n",
              "    </tr>\n",
              "    <tr>\n",
              "      <th>12</th>\n",
              "      <td>3</td>\n",
              "      <td>150</td>\n",
              "      <td>95.3</td>\n",
              "      <td>169.0</td>\n",
              "      <td>65.7</td>\n",
              "      <td>49.6</td>\n",
              "      <td>2380</td>\n",
              "      <td>70</td>\n",
              "      <td>3.19</td>\n",
              "      <td>3.40</td>\n",
              "      <td>...</td>\n",
              "      <td>0.0</td>\n",
              "      <td>0.0</td>\n",
              "      <td>0.0</td>\n",
              "      <td>1.0</td>\n",
              "      <td>0.0</td>\n",
              "      <td>0.0</td>\n",
              "      <td>1.0</td>\n",
              "      <td>0.0</td>\n",
              "      <td>0.0</td>\n",
              "      <td>0.0</td>\n",
              "    </tr>\n",
              "    <tr>\n",
              "      <th>13</th>\n",
              "      <td>0</td>\n",
              "      <td>134</td>\n",
              "      <td>104.9</td>\n",
              "      <td>175.0</td>\n",
              "      <td>66.1</td>\n",
              "      <td>54.4</td>\n",
              "      <td>2700</td>\n",
              "      <td>134</td>\n",
              "      <td>3.43</td>\n",
              "      <td>3.64</td>\n",
              "      <td>...</td>\n",
              "      <td>1.0</td>\n",
              "      <td>0.0</td>\n",
              "      <td>0.0</td>\n",
              "      <td>0.0</td>\n",
              "      <td>0.0</td>\n",
              "      <td>0.0</td>\n",
              "      <td>0.0</td>\n",
              "      <td>1.0</td>\n",
              "      <td>0.0</td>\n",
              "      <td>0.0</td>\n",
              "    </tr>\n",
              "    <tr>\n",
              "      <th>14</th>\n",
              "      <td>0</td>\n",
              "      <td>134</td>\n",
              "      <td>94.5</td>\n",
              "      <td>155.9</td>\n",
              "      <td>63.6</td>\n",
              "      <td>52.0</td>\n",
              "      <td>1909</td>\n",
              "      <td>90</td>\n",
              "      <td>3.03</td>\n",
              "      <td>3.11</td>\n",
              "      <td>...</td>\n",
              "      <td>1.0</td>\n",
              "      <td>0.0</td>\n",
              "      <td>0.0</td>\n",
              "      <td>0.0</td>\n",
              "      <td>0.0</td>\n",
              "      <td>1.0</td>\n",
              "      <td>0.0</td>\n",
              "      <td>0.0</td>\n",
              "      <td>0.0</td>\n",
              "      <td>0.0</td>\n",
              "    </tr>\n",
              "    <tr>\n",
              "      <th>15</th>\n",
              "      <td>2</td>\n",
              "      <td>134</td>\n",
              "      <td>98.4</td>\n",
              "      <td>176.2</td>\n",
              "      <td>65.6</td>\n",
              "      <td>52.0</td>\n",
              "      <td>2551</td>\n",
              "      <td>146</td>\n",
              "      <td>3.62</td>\n",
              "      <td>3.50</td>\n",
              "      <td>...</td>\n",
              "      <td>1.0</td>\n",
              "      <td>0.0</td>\n",
              "      <td>0.0</td>\n",
              "      <td>0.0</td>\n",
              "      <td>0.0</td>\n",
              "      <td>0.0</td>\n",
              "      <td>0.0</td>\n",
              "      <td>0.0</td>\n",
              "      <td>1.0</td>\n",
              "      <td>0.0</td>\n",
              "    </tr>\n",
              "    <tr>\n",
              "      <th>16</th>\n",
              "      <td>0</td>\n",
              "      <td>134</td>\n",
              "      <td>96.1</td>\n",
              "      <td>181.5</td>\n",
              "      <td>66.5</td>\n",
              "      <td>55.2</td>\n",
              "      <td>2579</td>\n",
              "      <td>132</td>\n",
              "      <td>3.46</td>\n",
              "      <td>3.90</td>\n",
              "      <td>...</td>\n",
              "      <td>1.0</td>\n",
              "      <td>0.0</td>\n",
              "      <td>0.0</td>\n",
              "      <td>0.0</td>\n",
              "      <td>0.0</td>\n",
              "      <td>0.0</td>\n",
              "      <td>0.0</td>\n",
              "      <td>0.0</td>\n",
              "      <td>1.0</td>\n",
              "      <td>0.0</td>\n",
              "    </tr>\n",
              "    <tr>\n",
              "      <th>17</th>\n",
              "      <td>1</td>\n",
              "      <td>134</td>\n",
              "      <td>105.8</td>\n",
              "      <td>192.7</td>\n",
              "      <td>71.4</td>\n",
              "      <td>55.7</td>\n",
              "      <td>2954</td>\n",
              "      <td>136</td>\n",
              "      <td>3.19</td>\n",
              "      <td>3.40</td>\n",
              "      <td>...</td>\n",
              "      <td>0.0</td>\n",
              "      <td>0.0</td>\n",
              "      <td>0.0</td>\n",
              "      <td>0.0</td>\n",
              "      <td>0.0</td>\n",
              "      <td>0.0</td>\n",
              "      <td>0.0</td>\n",
              "      <td>0.0</td>\n",
              "      <td>1.0</td>\n",
              "      <td>0.0</td>\n",
              "    </tr>\n",
              "    <tr>\n",
              "      <th>18</th>\n",
              "      <td>0</td>\n",
              "      <td>106</td>\n",
              "      <td>96.5</td>\n",
              "      <td>167.5</td>\n",
              "      <td>65.2</td>\n",
              "      <td>53.3</td>\n",
              "      <td>2236</td>\n",
              "      <td>110</td>\n",
              "      <td>3.15</td>\n",
              "      <td>3.58</td>\n",
              "      <td>...</td>\n",
              "      <td>1.0</td>\n",
              "      <td>0.0</td>\n",
              "      <td>0.0</td>\n",
              "      <td>0.0</td>\n",
              "      <td>1.0</td>\n",
              "      <td>0.0</td>\n",
              "      <td>0.0</td>\n",
              "      <td>0.0</td>\n",
              "      <td>0.0</td>\n",
              "      <td>0.0</td>\n",
              "    </tr>\n",
              "    <tr>\n",
              "      <th>19</th>\n",
              "      <td>1</td>\n",
              "      <td>74</td>\n",
              "      <td>95.7</td>\n",
              "      <td>158.7</td>\n",
              "      <td>63.6</td>\n",
              "      <td>54.5</td>\n",
              "      <td>2015</td>\n",
              "      <td>92</td>\n",
              "      <td>3.05</td>\n",
              "      <td>3.03</td>\n",
              "      <td>...</td>\n",
              "      <td>1.0</td>\n",
              "      <td>0.0</td>\n",
              "      <td>0.0</td>\n",
              "      <td>0.0</td>\n",
              "      <td>0.0</td>\n",
              "      <td>1.0</td>\n",
              "      <td>0.0</td>\n",
              "      <td>0.0</td>\n",
              "      <td>0.0</td>\n",
              "      <td>0.0</td>\n",
              "    </tr>\n",
              "    <tr>\n",
              "      <th>20</th>\n",
              "      <td>3</td>\n",
              "      <td>153</td>\n",
              "      <td>96.3</td>\n",
              "      <td>173.0</td>\n",
              "      <td>65.4</td>\n",
              "      <td>49.4</td>\n",
              "      <td>2370</td>\n",
              "      <td>110</td>\n",
              "      <td>3.17</td>\n",
              "      <td>3.46</td>\n",
              "      <td>...</td>\n",
              "      <td>1.0</td>\n",
              "      <td>0.0</td>\n",
              "      <td>0.0</td>\n",
              "      <td>0.0</td>\n",
              "      <td>0.0</td>\n",
              "      <td>0.0</td>\n",
              "      <td>0.0</td>\n",
              "      <td>0.0</td>\n",
              "      <td>0.0</td>\n",
              "      <td>1.0</td>\n",
              "    </tr>\n",
              "    <tr>\n",
              "      <th>21</th>\n",
              "      <td>0</td>\n",
              "      <td>161</td>\n",
              "      <td>107.9</td>\n",
              "      <td>186.7</td>\n",
              "      <td>68.4</td>\n",
              "      <td>56.7</td>\n",
              "      <td>3075</td>\n",
              "      <td>120</td>\n",
              "      <td>3.46</td>\n",
              "      <td>2.19</td>\n",
              "      <td>...</td>\n",
              "      <td>1.0</td>\n",
              "      <td>0.0</td>\n",
              "      <td>0.0</td>\n",
              "      <td>0.0</td>\n",
              "      <td>0.0</td>\n",
              "      <td>0.0</td>\n",
              "      <td>0.0</td>\n",
              "      <td>0.0</td>\n",
              "      <td>1.0</td>\n",
              "      <td>0.0</td>\n",
              "    </tr>\n",
              "    <tr>\n",
              "      <th>22</th>\n",
              "      <td>2</td>\n",
              "      <td>134</td>\n",
              "      <td>96.1</td>\n",
              "      <td>176.8</td>\n",
              "      <td>66.6</td>\n",
              "      <td>50.5</td>\n",
              "      <td>2460</td>\n",
              "      <td>132</td>\n",
              "      <td>3.46</td>\n",
              "      <td>3.90</td>\n",
              "      <td>...</td>\n",
              "      <td>1.0</td>\n",
              "      <td>0.0</td>\n",
              "      <td>0.0</td>\n",
              "      <td>0.0</td>\n",
              "      <td>0.0</td>\n",
              "      <td>0.0</td>\n",
              "      <td>0.0</td>\n",
              "      <td>0.0</td>\n",
              "      <td>1.0</td>\n",
              "      <td>0.0</td>\n",
              "    </tr>\n",
              "    <tr>\n",
              "      <th>23</th>\n",
              "      <td>2</td>\n",
              "      <td>134</td>\n",
              "      <td>98.4</td>\n",
              "      <td>176.2</td>\n",
              "      <td>65.6</td>\n",
              "      <td>52.0</td>\n",
              "      <td>2714</td>\n",
              "      <td>146</td>\n",
              "      <td>3.62</td>\n",
              "      <td>3.50</td>\n",
              "      <td>...</td>\n",
              "      <td>1.0</td>\n",
              "      <td>0.0</td>\n",
              "      <td>0.0</td>\n",
              "      <td>0.0</td>\n",
              "      <td>0.0</td>\n",
              "      <td>0.0</td>\n",
              "      <td>0.0</td>\n",
              "      <td>0.0</td>\n",
              "      <td>1.0</td>\n",
              "      <td>0.0</td>\n",
              "    </tr>\n",
              "    <tr>\n",
              "      <th>24</th>\n",
              "      <td>3</td>\n",
              "      <td>197</td>\n",
              "      <td>102.9</td>\n",
              "      <td>183.5</td>\n",
              "      <td>67.7</td>\n",
              "      <td>52.0</td>\n",
              "      <td>3016</td>\n",
              "      <td>171</td>\n",
              "      <td>3.27</td>\n",
              "      <td>3.35</td>\n",
              "      <td>...</td>\n",
              "      <td>0.0</td>\n",
              "      <td>1.0</td>\n",
              "      <td>0.0</td>\n",
              "      <td>0.0</td>\n",
              "      <td>0.0</td>\n",
              "      <td>0.0</td>\n",
              "      <td>0.0</td>\n",
              "      <td>0.0</td>\n",
              "      <td>1.0</td>\n",
              "      <td>0.0</td>\n",
              "    </tr>\n",
              "    <tr>\n",
              "      <th>25</th>\n",
              "      <td>2</td>\n",
              "      <td>83</td>\n",
              "      <td>93.7</td>\n",
              "      <td>156.9</td>\n",
              "      <td>63.4</td>\n",
              "      <td>53.7</td>\n",
              "      <td>2050</td>\n",
              "      <td>97</td>\n",
              "      <td>3.62</td>\n",
              "      <td>2.36</td>\n",
              "      <td>...</td>\n",
              "      <td>1.0</td>\n",
              "      <td>0.0</td>\n",
              "      <td>0.0</td>\n",
              "      <td>0.0</td>\n",
              "      <td>0.0</td>\n",
              "      <td>1.0</td>\n",
              "      <td>0.0</td>\n",
              "      <td>0.0</td>\n",
              "      <td>0.0</td>\n",
              "      <td>0.0</td>\n",
              "    </tr>\n",
              "    <tr>\n",
              "      <th>26</th>\n",
              "      <td>0</td>\n",
              "      <td>91</td>\n",
              "      <td>95.7</td>\n",
              "      <td>166.3</td>\n",
              "      <td>64.4</td>\n",
              "      <td>53.0</td>\n",
              "      <td>2081</td>\n",
              "      <td>98</td>\n",
              "      <td>3.19</td>\n",
              "      <td>3.03</td>\n",
              "      <td>...</td>\n",
              "      <td>1.0</td>\n",
              "      <td>0.0</td>\n",
              "      <td>0.0</td>\n",
              "      <td>0.0</td>\n",
              "      <td>0.0</td>\n",
              "      <td>1.0</td>\n",
              "      <td>0.0</td>\n",
              "      <td>0.0</td>\n",
              "      <td>0.0</td>\n",
              "      <td>0.0</td>\n",
              "    </tr>\n",
              "    <tr>\n",
              "      <th>27</th>\n",
              "      <td>0</td>\n",
              "      <td>134</td>\n",
              "      <td>114.2</td>\n",
              "      <td>198.9</td>\n",
              "      <td>68.4</td>\n",
              "      <td>56.7</td>\n",
              "      <td>3285</td>\n",
              "      <td>120</td>\n",
              "      <td>3.46</td>\n",
              "      <td>2.19</td>\n",
              "      <td>...</td>\n",
              "      <td>1.0</td>\n",
              "      <td>0.0</td>\n",
              "      <td>0.0</td>\n",
              "      <td>0.0</td>\n",
              "      <td>0.0</td>\n",
              "      <td>0.0</td>\n",
              "      <td>0.0</td>\n",
              "      <td>0.0</td>\n",
              "      <td>1.0</td>\n",
              "      <td>0.0</td>\n",
              "    </tr>\n",
              "    <tr>\n",
              "      <th>28</th>\n",
              "      <td>0</td>\n",
              "      <td>91</td>\n",
              "      <td>95.7</td>\n",
              "      <td>166.3</td>\n",
              "      <td>64.4</td>\n",
              "      <td>52.8</td>\n",
              "      <td>2122</td>\n",
              "      <td>98</td>\n",
              "      <td>3.19</td>\n",
              "      <td>3.03</td>\n",
              "      <td>...</td>\n",
              "      <td>1.0</td>\n",
              "      <td>0.0</td>\n",
              "      <td>0.0</td>\n",
              "      <td>0.0</td>\n",
              "      <td>0.0</td>\n",
              "      <td>1.0</td>\n",
              "      <td>0.0</td>\n",
              "      <td>0.0</td>\n",
              "      <td>0.0</td>\n",
              "      <td>0.0</td>\n",
              "    </tr>\n",
              "    <tr>\n",
              "      <th>29</th>\n",
              "      <td>1</td>\n",
              "      <td>128</td>\n",
              "      <td>94.5</td>\n",
              "      <td>165.3</td>\n",
              "      <td>63.8</td>\n",
              "      <td>54.5</td>\n",
              "      <td>1889</td>\n",
              "      <td>97</td>\n",
              "      <td>3.15</td>\n",
              "      <td>3.29</td>\n",
              "      <td>...</td>\n",
              "      <td>1.0</td>\n",
              "      <td>0.0</td>\n",
              "      <td>0.0</td>\n",
              "      <td>0.0</td>\n",
              "      <td>0.0</td>\n",
              "      <td>1.0</td>\n",
              "      <td>0.0</td>\n",
              "      <td>0.0</td>\n",
              "      <td>0.0</td>\n",
              "      <td>0.0</td>\n",
              "    </tr>\n",
              "    <tr>\n",
              "      <th>30</th>\n",
              "      <td>2</td>\n",
              "      <td>122</td>\n",
              "      <td>97.3</td>\n",
              "      <td>171.7</td>\n",
              "      <td>65.5</td>\n",
              "      <td>55.7</td>\n",
              "      <td>2209</td>\n",
              "      <td>109</td>\n",
              "      <td>3.19</td>\n",
              "      <td>3.40</td>\n",
              "      <td>...</td>\n",
              "      <td>1.0</td>\n",
              "      <td>0.0</td>\n",
              "      <td>0.0</td>\n",
              "      <td>0.0</td>\n",
              "      <td>0.0</td>\n",
              "      <td>0.0</td>\n",
              "      <td>0.0</td>\n",
              "      <td>0.0</td>\n",
              "      <td>1.0</td>\n",
              "      <td>0.0</td>\n",
              "    </tr>\n",
              "    <tr>\n",
              "      <th>31</th>\n",
              "      <td>0</td>\n",
              "      <td>134</td>\n",
              "      <td>100.4</td>\n",
              "      <td>183.1</td>\n",
              "      <td>66.9</td>\n",
              "      <td>55.1</td>\n",
              "      <td>2563</td>\n",
              "      <td>109</td>\n",
              "      <td>3.19</td>\n",
              "      <td>3.40</td>\n",
              "      <td>...</td>\n",
              "      <td>1.0</td>\n",
              "      <td>0.0</td>\n",
              "      <td>0.0</td>\n",
              "      <td>0.0</td>\n",
              "      <td>0.0</td>\n",
              "      <td>0.0</td>\n",
              "      <td>0.0</td>\n",
              "      <td>0.0</td>\n",
              "      <td>1.0</td>\n",
              "      <td>0.0</td>\n",
              "    </tr>\n",
              "    <tr>\n",
              "      <th>32</th>\n",
              "      <td>3</td>\n",
              "      <td>186</td>\n",
              "      <td>94.5</td>\n",
              "      <td>168.9</td>\n",
              "      <td>68.3</td>\n",
              "      <td>50.2</td>\n",
              "      <td>2778</td>\n",
              "      <td>151</td>\n",
              "      <td>3.94</td>\n",
              "      <td>3.11</td>\n",
              "      <td>...</td>\n",
              "      <td>1.0</td>\n",
              "      <td>0.0</td>\n",
              "      <td>0.0</td>\n",
              "      <td>0.0</td>\n",
              "      <td>0.0</td>\n",
              "      <td>0.0</td>\n",
              "      <td>0.0</td>\n",
              "      <td>0.0</td>\n",
              "      <td>1.0</td>\n",
              "      <td>0.0</td>\n",
              "    </tr>\n",
              "    <tr>\n",
              "      <th>33</th>\n",
              "      <td>-1</td>\n",
              "      <td>65</td>\n",
              "      <td>102.4</td>\n",
              "      <td>175.6</td>\n",
              "      <td>66.5</td>\n",
              "      <td>54.9</td>\n",
              "      <td>2326</td>\n",
              "      <td>122</td>\n",
              "      <td>3.31</td>\n",
              "      <td>3.54</td>\n",
              "      <td>...</td>\n",
              "      <td>1.0</td>\n",
              "      <td>0.0</td>\n",
              "      <td>0.0</td>\n",
              "      <td>0.0</td>\n",
              "      <td>0.0</td>\n",
              "      <td>0.0</td>\n",
              "      <td>0.0</td>\n",
              "      <td>0.0</td>\n",
              "      <td>1.0</td>\n",
              "      <td>0.0</td>\n",
              "    </tr>\n",
              "    <tr>\n",
              "      <th>34</th>\n",
              "      <td>1</td>\n",
              "      <td>122</td>\n",
              "      <td>94.5</td>\n",
              "      <td>165.3</td>\n",
              "      <td>63.8</td>\n",
              "      <td>54.5</td>\n",
              "      <td>1938</td>\n",
              "      <td>97</td>\n",
              "      <td>3.15</td>\n",
              "      <td>3.29</td>\n",
              "      <td>...</td>\n",
              "      <td>1.0</td>\n",
              "      <td>0.0</td>\n",
              "      <td>0.0</td>\n",
              "      <td>0.0</td>\n",
              "      <td>0.0</td>\n",
              "      <td>1.0</td>\n",
              "      <td>0.0</td>\n",
              "      <td>0.0</td>\n",
              "      <td>0.0</td>\n",
              "      <td>0.0</td>\n",
              "    </tr>\n",
              "    <tr>\n",
              "      <th>35</th>\n",
              "      <td>0</td>\n",
              "      <td>134</td>\n",
              "      <td>103.5</td>\n",
              "      <td>193.8</td>\n",
              "      <td>67.9</td>\n",
              "      <td>53.7</td>\n",
              "      <td>3380</td>\n",
              "      <td>209</td>\n",
              "      <td>3.62</td>\n",
              "      <td>3.39</td>\n",
              "      <td>...</td>\n",
              "      <td>0.0</td>\n",
              "      <td>1.0</td>\n",
              "      <td>0.0</td>\n",
              "      <td>0.0</td>\n",
              "      <td>0.0</td>\n",
              "      <td>0.0</td>\n",
              "      <td>0.0</td>\n",
              "      <td>0.0</td>\n",
              "      <td>1.0</td>\n",
              "      <td>0.0</td>\n",
              "    </tr>\n",
              "    <tr>\n",
              "      <th>36</th>\n",
              "      <td>3</td>\n",
              "      <td>134</td>\n",
              "      <td>94.5</td>\n",
              "      <td>159.3</td>\n",
              "      <td>64.2</td>\n",
              "      <td>55.6</td>\n",
              "      <td>2254</td>\n",
              "      <td>109</td>\n",
              "      <td>3.19</td>\n",
              "      <td>3.40</td>\n",
              "      <td>...</td>\n",
              "      <td>1.0</td>\n",
              "      <td>0.0</td>\n",
              "      <td>0.0</td>\n",
              "      <td>0.0</td>\n",
              "      <td>0.0</td>\n",
              "      <td>0.0</td>\n",
              "      <td>0.0</td>\n",
              "      <td>0.0</td>\n",
              "      <td>1.0</td>\n",
              "      <td>0.0</td>\n",
              "    </tr>\n",
              "    <tr>\n",
              "      <th>37</th>\n",
              "      <td>3</td>\n",
              "      <td>150</td>\n",
              "      <td>99.1</td>\n",
              "      <td>186.6</td>\n",
              "      <td>66.5</td>\n",
              "      <td>56.1</td>\n",
              "      <td>2808</td>\n",
              "      <td>121</td>\n",
              "      <td>3.54</td>\n",
              "      <td>3.07</td>\n",
              "      <td>...</td>\n",
              "      <td>1.0</td>\n",
              "      <td>0.0</td>\n",
              "      <td>0.0</td>\n",
              "      <td>0.0</td>\n",
              "      <td>0.0</td>\n",
              "      <td>0.0</td>\n",
              "      <td>0.0</td>\n",
              "      <td>0.0</td>\n",
              "      <td>1.0</td>\n",
              "      <td>0.0</td>\n",
              "    </tr>\n",
              "    <tr>\n",
              "      <th>38</th>\n",
              "      <td>1</td>\n",
              "      <td>118</td>\n",
              "      <td>93.7</td>\n",
              "      <td>157.3</td>\n",
              "      <td>63.8</td>\n",
              "      <td>50.8</td>\n",
              "      <td>1876</td>\n",
              "      <td>90</td>\n",
              "      <td>2.97</td>\n",
              "      <td>3.23</td>\n",
              "      <td>...</td>\n",
              "      <td>1.0</td>\n",
              "      <td>0.0</td>\n",
              "      <td>0.0</td>\n",
              "      <td>0.0</td>\n",
              "      <td>0.0</td>\n",
              "      <td>1.0</td>\n",
              "      <td>0.0</td>\n",
              "      <td>0.0</td>\n",
              "      <td>0.0</td>\n",
              "      <td>0.0</td>\n",
              "    </tr>\n",
              "    <tr>\n",
              "      <th>39</th>\n",
              "      <td>1</td>\n",
              "      <td>134</td>\n",
              "      <td>112.0</td>\n",
              "      <td>199.2</td>\n",
              "      <td>72.0</td>\n",
              "      <td>55.4</td>\n",
              "      <td>3715</td>\n",
              "      <td>304</td>\n",
              "      <td>3.80</td>\n",
              "      <td>3.35</td>\n",
              "      <td>...</td>\n",
              "      <td>0.0</td>\n",
              "      <td>0.0</td>\n",
              "      <td>0.0</td>\n",
              "      <td>0.0</td>\n",
              "      <td>0.0</td>\n",
              "      <td>0.0</td>\n",
              "      <td>0.0</td>\n",
              "      <td>0.0</td>\n",
              "      <td>1.0</td>\n",
              "      <td>0.0</td>\n",
              "    </tr>\n",
              "    <tr>\n",
              "      <th>40</th>\n",
              "      <td>1</td>\n",
              "      <td>134</td>\n",
              "      <td>94.5</td>\n",
              "      <td>155.9</td>\n",
              "      <td>63.6</td>\n",
              "      <td>52.0</td>\n",
              "      <td>1874</td>\n",
              "      <td>90</td>\n",
              "      <td>3.03</td>\n",
              "      <td>3.11</td>\n",
              "      <td>...</td>\n",
              "      <td>1.0</td>\n",
              "      <td>0.0</td>\n",
              "      <td>0.0</td>\n",
              "      <td>0.0</td>\n",
              "      <td>0.0</td>\n",
              "      <td>1.0</td>\n",
              "      <td>0.0</td>\n",
              "      <td>0.0</td>\n",
              "      <td>0.0</td>\n",
              "      <td>0.0</td>\n",
              "    </tr>\n",
              "  </tbody>\n",
              "</table>\n",
              "<p>41 rows × 64 columns</p>\n",
              "</div>\n",
              "      <button class=\"colab-df-convert\" onclick=\"convertToInteractive('df-f18838f4-30e6-45ae-9929-4b7113138e21')\"\n",
              "              title=\"Convert this dataframe to an interactive table.\"\n",
              "              style=\"display:none;\">\n",
              "        \n",
              "  <svg xmlns=\"http://www.w3.org/2000/svg\" height=\"24px\"viewBox=\"0 0 24 24\"\n",
              "       width=\"24px\">\n",
              "    <path d=\"M0 0h24v24H0V0z\" fill=\"none\"/>\n",
              "    <path d=\"M18.56 5.44l.94 2.06.94-2.06 2.06-.94-2.06-.94-.94-2.06-.94 2.06-2.06.94zm-11 1L8.5 8.5l.94-2.06 2.06-.94-2.06-.94L8.5 2.5l-.94 2.06-2.06.94zm10 10l.94 2.06.94-2.06 2.06-.94-2.06-.94-.94-2.06-.94 2.06-2.06.94z\"/><path d=\"M17.41 7.96l-1.37-1.37c-.4-.4-.92-.59-1.43-.59-.52 0-1.04.2-1.43.59L10.3 9.45l-7.72 7.72c-.78.78-.78 2.05 0 2.83L4 21.41c.39.39.9.59 1.41.59.51 0 1.02-.2 1.41-.59l7.78-7.78 2.81-2.81c.8-.78.8-2.07 0-2.86zM5.41 20L4 18.59l7.72-7.72 1.47 1.35L5.41 20z\"/>\n",
              "  </svg>\n",
              "      </button>\n",
              "      \n",
              "  <style>\n",
              "    .colab-df-container {\n",
              "      display:flex;\n",
              "      flex-wrap:wrap;\n",
              "      gap: 12px;\n",
              "    }\n",
              "\n",
              "    .colab-df-convert {\n",
              "      background-color: #E8F0FE;\n",
              "      border: none;\n",
              "      border-radius: 50%;\n",
              "      cursor: pointer;\n",
              "      display: none;\n",
              "      fill: #1967D2;\n",
              "      height: 32px;\n",
              "      padding: 0 0 0 0;\n",
              "      width: 32px;\n",
              "    }\n",
              "\n",
              "    .colab-df-convert:hover {\n",
              "      background-color: #E2EBFA;\n",
              "      box-shadow: 0px 1px 2px rgba(60, 64, 67, 0.3), 0px 1px 3px 1px rgba(60, 64, 67, 0.15);\n",
              "      fill: #174EA6;\n",
              "    }\n",
              "\n",
              "    [theme=dark] .colab-df-convert {\n",
              "      background-color: #3B4455;\n",
              "      fill: #D2E3FC;\n",
              "    }\n",
              "\n",
              "    [theme=dark] .colab-df-convert:hover {\n",
              "      background-color: #434B5C;\n",
              "      box-shadow: 0px 1px 3px 1px rgba(0, 0, 0, 0.15);\n",
              "      filter: drop-shadow(0px 1px 2px rgba(0, 0, 0, 0.3));\n",
              "      fill: #FFFFFF;\n",
              "    }\n",
              "  </style>\n",
              "\n",
              "      <script>\n",
              "        const buttonEl =\n",
              "          document.querySelector('#df-f18838f4-30e6-45ae-9929-4b7113138e21 button.colab-df-convert');\n",
              "        buttonEl.style.display =\n",
              "          google.colab.kernel.accessAllowed ? 'block' : 'none';\n",
              "\n",
              "        async function convertToInteractive(key) {\n",
              "          const element = document.querySelector('#df-f18838f4-30e6-45ae-9929-4b7113138e21');\n",
              "          const dataTable =\n",
              "            await google.colab.kernel.invokeFunction('convertToInteractive',\n",
              "                                                     [key], {});\n",
              "          if (!dataTable) return;\n",
              "\n",
              "          const docLinkHtml = 'Like what you see? Visit the ' +\n",
              "            '<a target=\"_blank\" href=https://colab.research.google.com/notebooks/data_table.ipynb>data table notebook</a>'\n",
              "            + ' to learn more about interactive tables.';\n",
              "          element.innerHTML = '';\n",
              "          dataTable['output_type'] = 'display_data';\n",
              "          await google.colab.output.renderOutput(dataTable, element);\n",
              "          const docLink = document.createElement('div');\n",
              "          docLink.innerHTML = docLinkHtml;\n",
              "          element.appendChild(docLink);\n",
              "        }\n",
              "      </script>\n",
              "    </div>\n",
              "  </div>\n",
              "  "
            ]
          },
          "metadata": {},
          "execution_count": 106
        }
      ]
    },
    {
      "cell_type": "code",
      "source": [
        "X_train.shape"
      ],
      "metadata": {
        "colab": {
          "base_uri": "https://localhost:8080/"
        },
        "id": "XLRZS_XUaavb",
        "outputId": "52c8b221-5dd2-43cf-db68-7d9f261027e1"
      },
      "execution_count": 107,
      "outputs": [
        {
          "output_type": "execute_result",
          "data": {
            "text/plain": [
              "(158, 70)"
            ]
          },
          "metadata": {},
          "execution_count": 107
        }
      ]
    },
    {
      "cell_type": "code",
      "source": [
        "X_test.shape"
      ],
      "metadata": {
        "colab": {
          "base_uri": "https://localhost:8080/"
        },
        "id": "1-ssWOJcuARc",
        "outputId": "4d73227a-bb6a-4a99-886e-f3e473022cb1"
      },
      "execution_count": 108,
      "outputs": [
        {
          "output_type": "execute_result",
          "data": {
            "text/plain": [
              "(41, 64)"
            ]
          },
          "metadata": {},
          "execution_count": 108
        }
      ]
    },
    {
      "cell_type": "markdown",
      "source": [
        "# Dimensionality reduction by PCA"
      ],
      "metadata": {
        "id": "C0C4XuobhBqG"
      }
    },
    {
      "cell_type": "code",
      "source": [
        "from sklearn.decomposition import PCA"
      ],
      "metadata": {
        "id": "YDVtDlLeae7j"
      },
      "execution_count": 109,
      "outputs": []
    },
    {
      "cell_type": "code",
      "source": [
        "pca = PCA(n_components = 15, random_state = 1)"
      ],
      "metadata": {
        "id": "wk9msuvwhqTE"
      },
      "execution_count": 110,
      "outputs": []
    },
    {
      "cell_type": "code",
      "source": [
        "X_train = pca.fit_transform(X_train)"
      ],
      "metadata": {
        "colab": {
          "base_uri": "https://localhost:8080/"
        },
        "id": "ZQDSyP6khw2L",
        "outputId": "4600a63c-64b9-4854-a8d1-0e1b9a38d427"
      },
      "execution_count": 111,
      "outputs": [
        {
          "output_type": "stream",
          "name": "stderr",
          "text": [
            "/usr/local/lib/python3.7/dist-packages/sklearn/utils/validation.py:1692: FutureWarning: Feature names only support names that are all strings. Got feature names with dtypes: ['int', 'str']. An error will be raised in 1.2.\n",
            "  FutureWarning,\n"
          ]
        }
      ]
    },
    {
      "cell_type": "code",
      "source": [
        "X_test = pca.fit_transform(X_test)"
      ],
      "metadata": {
        "colab": {
          "base_uri": "https://localhost:8080/"
        },
        "id": "VzENFlm8uf3Z",
        "outputId": "e175958f-a1c0-4350-f139-4243714d8d89"
      },
      "execution_count": 112,
      "outputs": [
        {
          "output_type": "stream",
          "name": "stderr",
          "text": [
            "/usr/local/lib/python3.7/dist-packages/sklearn/utils/validation.py:1692: FutureWarning: Feature names only support names that are all strings. Got feature names with dtypes: ['int', 'str']. An error will be raised in 1.2.\n",
            "  FutureWarning,\n"
          ]
        }
      ]
    },
    {
      "cell_type": "code",
      "source": [
        "X_train.shape"
      ],
      "metadata": {
        "colab": {
          "base_uri": "https://localhost:8080/"
        },
        "id": "MfvDIKmmiJyk",
        "outputId": "e5914619-7bd6-479e-c78b-d5fc22954a4d"
      },
      "execution_count": 113,
      "outputs": [
        {
          "output_type": "execute_result",
          "data": {
            "text/plain": [
              "(158, 15)"
            ]
          },
          "metadata": {},
          "execution_count": 113
        }
      ]
    },
    {
      "cell_type": "code",
      "source": [
        "X_test.shape"
      ],
      "metadata": {
        "colab": {
          "base_uri": "https://localhost:8080/"
        },
        "id": "9WMS2aXLwuxp",
        "outputId": "3d423cea-5c02-4d99-90d4-b3f48e8c770a"
      },
      "execution_count": 114,
      "outputs": [
        {
          "output_type": "execute_result",
          "data": {
            "text/plain": [
              "(41, 15)"
            ]
          },
          "metadata": {},
          "execution_count": 114
        }
      ]
    },
    {
      "cell_type": "code",
      "source": [
        "pca.explained_variance_ratio_"
      ],
      "metadata": {
        "colab": {
          "base_uri": "https://localhost:8080/"
        },
        "id": "w-ivDd2aoNrA",
        "outputId": "53c1d28a-b464-4c1d-9060-401feebca203"
      },
      "execution_count": 115,
      "outputs": [
        {
          "output_type": "execute_result",
          "data": {
            "text/plain": [
              "array([5.91227743e-01, 4.04742334e-01, 1.91255098e-03, 1.45982894e-03,\n",
              "       5.41114079e-04, 6.34014804e-05, 2.46404558e-05, 8.56486465e-06,\n",
              "       6.60724770e-06, 5.23547401e-06, 2.19535689e-06, 1.80440071e-06,\n",
              "       6.29328571e-07, 5.14454787e-07, 4.75091987e-07])"
            ]
          },
          "metadata": {},
          "execution_count": 115
        }
      ]
    },
    {
      "cell_type": "code",
      "source": [
        "pca.explained_variance_"
      ],
      "metadata": {
        "colab": {
          "base_uri": "https://localhost:8080/"
        },
        "id": "_AVGENbvpNqj",
        "outputId": "2138b2b3-9f85-494c-f977-1bcd90bdd747"
      },
      "execution_count": 116,
      "outputs": [
        {
          "output_type": "execute_result",
          "data": {
            "text/plain": [
              "array([2.74016062e+05, 1.87585751e+05, 8.86409161e+02, 6.76586274e+02,\n",
              "       2.50789904e+02, 2.93846562e+01, 1.14201012e+01, 3.96955404e+00,\n",
              "       3.06225818e+00, 2.42648283e+00, 1.01748109e+00, 8.36284800e-01,\n",
              "       2.91674636e-01, 2.38434133e-01, 2.20190674e-01])"
            ]
          },
          "metadata": {},
          "execution_count": 116
        }
      ]
    },
    {
      "cell_type": "code",
      "source": [
        "X_train = pd.DataFrame(X_train)\n",
        "X_test = pd.DataFrame(X_test)"
      ],
      "metadata": {
        "id": "3TBZV9InpPGa"
      },
      "execution_count": 117,
      "outputs": []
    },
    {
      "cell_type": "code",
      "source": [
        "X_train"
      ],
      "metadata": {
        "colab": {
          "base_uri": "https://localhost:8080/",
          "height": 424
        },
        "id": "tRf57oe0pf87",
        "outputId": "6e665a3c-332b-4a45-b593-f0a96c34fbea"
      },
      "execution_count": 118,
      "outputs": [
        {
          "output_type": "execute_result",
          "data": {
            "text/plain": [
              "              0           1          2          3          4         5   \\\n",
              "0     -26.991672  455.583962  18.570658 -22.500777   4.771435  2.891395   \n",
              "1    1159.995301  397.195777  22.447001   5.037378  27.557518 -7.199398   \n",
              "2      26.242033  184.297963  12.006963 -20.083396  -5.996262 -7.942697   \n",
              "3     133.503006 -295.754746 -14.855251   9.198621 -25.284126  0.586324   \n",
              "4    -539.223505   78.392306  19.290302 -25.582816  14.763546  1.900174   \n",
              "..           ...         ...        ...        ...        ...       ...   \n",
              "153  1211.938891  -63.116497 -39.894177  -5.281144   7.319666  5.679140   \n",
              "154   364.896073 -498.033113  31.786358 -49.605820  -6.478410 -1.782522   \n",
              "155   160.479297  717.655335   3.998823 -31.187067 -13.479601 -2.289422   \n",
              "156  1423.613545  590.654114   2.971992  15.193488  28.069386  5.183473   \n",
              "157   509.276152  -19.523928   3.483822  -9.287822  -3.400041  8.759259   \n",
              "\n",
              "            6         7         8         9         10        11        12  \\\n",
              "0    -5.265956 -0.665989 -2.313325  1.450923 -0.437329  0.619027  0.322976   \n",
              "1    -5.173188 -1.995925  1.903793 -0.307760 -0.589101  0.953694 -0.652306   \n",
              "2     0.557221  4.504072 -1.597747  1.378947 -2.294030 -1.053980 -0.053530   \n",
              "3    -1.960006  0.252565  0.807475  0.476711  0.769141  0.869533 -0.336719   \n",
              "4     0.428900  3.789744  0.856568 -1.805937  1.338518  0.307106  0.544874   \n",
              "..         ...       ...       ...       ...       ...       ...       ...   \n",
              "153   4.470213 -3.924585 -2.881902 -0.355208 -0.211430  0.837969  0.168521   \n",
              "154  10.388029  0.142233 -2.317299  0.178042  0.651730  1.361637  0.438015   \n",
              "155   0.593170 -1.789331  5.381591  0.158345 -0.018421  0.275650  0.394141   \n",
              "156  -4.035072  1.361224  3.494236 -2.589770  0.955830 -1.318331  0.435598   \n",
              "157  -1.311432  3.510939  2.133990 -0.475054 -0.211148 -1.531027 -0.438586   \n",
              "\n",
              "           13        14  \n",
              "0   -1.161196 -0.394301  \n",
              "1    0.012357  0.243546  \n",
              "2    0.463601  0.001256  \n",
              "3   -1.081426  0.420379  \n",
              "4   -0.379534  0.390979  \n",
              "..        ...       ...  \n",
              "153  0.198816 -0.182204  \n",
              "154  0.107934  0.052707  \n",
              "155 -0.491594  0.134747  \n",
              "156 -0.911663  0.261342  \n",
              "157 -0.311764 -0.948177  \n",
              "\n",
              "[158 rows x 15 columns]"
            ],
            "text/html": [
              "\n",
              "  <div id=\"df-761bea86-5284-41af-870f-d75a453da648\">\n",
              "    <div class=\"colab-df-container\">\n",
              "      <div>\n",
              "<style scoped>\n",
              "    .dataframe tbody tr th:only-of-type {\n",
              "        vertical-align: middle;\n",
              "    }\n",
              "\n",
              "    .dataframe tbody tr th {\n",
              "        vertical-align: top;\n",
              "    }\n",
              "\n",
              "    .dataframe thead th {\n",
              "        text-align: right;\n",
              "    }\n",
              "</style>\n",
              "<table border=\"1\" class=\"dataframe\">\n",
              "  <thead>\n",
              "    <tr style=\"text-align: right;\">\n",
              "      <th></th>\n",
              "      <th>0</th>\n",
              "      <th>1</th>\n",
              "      <th>2</th>\n",
              "      <th>3</th>\n",
              "      <th>4</th>\n",
              "      <th>5</th>\n",
              "      <th>6</th>\n",
              "      <th>7</th>\n",
              "      <th>8</th>\n",
              "      <th>9</th>\n",
              "      <th>10</th>\n",
              "      <th>11</th>\n",
              "      <th>12</th>\n",
              "      <th>13</th>\n",
              "      <th>14</th>\n",
              "    </tr>\n",
              "  </thead>\n",
              "  <tbody>\n",
              "    <tr>\n",
              "      <th>0</th>\n",
              "      <td>-26.991672</td>\n",
              "      <td>455.583962</td>\n",
              "      <td>18.570658</td>\n",
              "      <td>-22.500777</td>\n",
              "      <td>4.771435</td>\n",
              "      <td>2.891395</td>\n",
              "      <td>-5.265956</td>\n",
              "      <td>-0.665989</td>\n",
              "      <td>-2.313325</td>\n",
              "      <td>1.450923</td>\n",
              "      <td>-0.437329</td>\n",
              "      <td>0.619027</td>\n",
              "      <td>0.322976</td>\n",
              "      <td>-1.161196</td>\n",
              "      <td>-0.394301</td>\n",
              "    </tr>\n",
              "    <tr>\n",
              "      <th>1</th>\n",
              "      <td>1159.995301</td>\n",
              "      <td>397.195777</td>\n",
              "      <td>22.447001</td>\n",
              "      <td>5.037378</td>\n",
              "      <td>27.557518</td>\n",
              "      <td>-7.199398</td>\n",
              "      <td>-5.173188</td>\n",
              "      <td>-1.995925</td>\n",
              "      <td>1.903793</td>\n",
              "      <td>-0.307760</td>\n",
              "      <td>-0.589101</td>\n",
              "      <td>0.953694</td>\n",
              "      <td>-0.652306</td>\n",
              "      <td>0.012357</td>\n",
              "      <td>0.243546</td>\n",
              "    </tr>\n",
              "    <tr>\n",
              "      <th>2</th>\n",
              "      <td>26.242033</td>\n",
              "      <td>184.297963</td>\n",
              "      <td>12.006963</td>\n",
              "      <td>-20.083396</td>\n",
              "      <td>-5.996262</td>\n",
              "      <td>-7.942697</td>\n",
              "      <td>0.557221</td>\n",
              "      <td>4.504072</td>\n",
              "      <td>-1.597747</td>\n",
              "      <td>1.378947</td>\n",
              "      <td>-2.294030</td>\n",
              "      <td>-1.053980</td>\n",
              "      <td>-0.053530</td>\n",
              "      <td>0.463601</td>\n",
              "      <td>0.001256</td>\n",
              "    </tr>\n",
              "    <tr>\n",
              "      <th>3</th>\n",
              "      <td>133.503006</td>\n",
              "      <td>-295.754746</td>\n",
              "      <td>-14.855251</td>\n",
              "      <td>9.198621</td>\n",
              "      <td>-25.284126</td>\n",
              "      <td>0.586324</td>\n",
              "      <td>-1.960006</td>\n",
              "      <td>0.252565</td>\n",
              "      <td>0.807475</td>\n",
              "      <td>0.476711</td>\n",
              "      <td>0.769141</td>\n",
              "      <td>0.869533</td>\n",
              "      <td>-0.336719</td>\n",
              "      <td>-1.081426</td>\n",
              "      <td>0.420379</td>\n",
              "    </tr>\n",
              "    <tr>\n",
              "      <th>4</th>\n",
              "      <td>-539.223505</td>\n",
              "      <td>78.392306</td>\n",
              "      <td>19.290302</td>\n",
              "      <td>-25.582816</td>\n",
              "      <td>14.763546</td>\n",
              "      <td>1.900174</td>\n",
              "      <td>0.428900</td>\n",
              "      <td>3.789744</td>\n",
              "      <td>0.856568</td>\n",
              "      <td>-1.805937</td>\n",
              "      <td>1.338518</td>\n",
              "      <td>0.307106</td>\n",
              "      <td>0.544874</td>\n",
              "      <td>-0.379534</td>\n",
              "      <td>0.390979</td>\n",
              "    </tr>\n",
              "    <tr>\n",
              "      <th>...</th>\n",
              "      <td>...</td>\n",
              "      <td>...</td>\n",
              "      <td>...</td>\n",
              "      <td>...</td>\n",
              "      <td>...</td>\n",
              "      <td>...</td>\n",
              "      <td>...</td>\n",
              "      <td>...</td>\n",
              "      <td>...</td>\n",
              "      <td>...</td>\n",
              "      <td>...</td>\n",
              "      <td>...</td>\n",
              "      <td>...</td>\n",
              "      <td>...</td>\n",
              "      <td>...</td>\n",
              "    </tr>\n",
              "    <tr>\n",
              "      <th>153</th>\n",
              "      <td>1211.938891</td>\n",
              "      <td>-63.116497</td>\n",
              "      <td>-39.894177</td>\n",
              "      <td>-5.281144</td>\n",
              "      <td>7.319666</td>\n",
              "      <td>5.679140</td>\n",
              "      <td>4.470213</td>\n",
              "      <td>-3.924585</td>\n",
              "      <td>-2.881902</td>\n",
              "      <td>-0.355208</td>\n",
              "      <td>-0.211430</td>\n",
              "      <td>0.837969</td>\n",
              "      <td>0.168521</td>\n",
              "      <td>0.198816</td>\n",
              "      <td>-0.182204</td>\n",
              "    </tr>\n",
              "    <tr>\n",
              "      <th>154</th>\n",
              "      <td>364.896073</td>\n",
              "      <td>-498.033113</td>\n",
              "      <td>31.786358</td>\n",
              "      <td>-49.605820</td>\n",
              "      <td>-6.478410</td>\n",
              "      <td>-1.782522</td>\n",
              "      <td>10.388029</td>\n",
              "      <td>0.142233</td>\n",
              "      <td>-2.317299</td>\n",
              "      <td>0.178042</td>\n",
              "      <td>0.651730</td>\n",
              "      <td>1.361637</td>\n",
              "      <td>0.438015</td>\n",
              "      <td>0.107934</td>\n",
              "      <td>0.052707</td>\n",
              "    </tr>\n",
              "    <tr>\n",
              "      <th>155</th>\n",
              "      <td>160.479297</td>\n",
              "      <td>717.655335</td>\n",
              "      <td>3.998823</td>\n",
              "      <td>-31.187067</td>\n",
              "      <td>-13.479601</td>\n",
              "      <td>-2.289422</td>\n",
              "      <td>0.593170</td>\n",
              "      <td>-1.789331</td>\n",
              "      <td>5.381591</td>\n",
              "      <td>0.158345</td>\n",
              "      <td>-0.018421</td>\n",
              "      <td>0.275650</td>\n",
              "      <td>0.394141</td>\n",
              "      <td>-0.491594</td>\n",
              "      <td>0.134747</td>\n",
              "    </tr>\n",
              "    <tr>\n",
              "      <th>156</th>\n",
              "      <td>1423.613545</td>\n",
              "      <td>590.654114</td>\n",
              "      <td>2.971992</td>\n",
              "      <td>15.193488</td>\n",
              "      <td>28.069386</td>\n",
              "      <td>5.183473</td>\n",
              "      <td>-4.035072</td>\n",
              "      <td>1.361224</td>\n",
              "      <td>3.494236</td>\n",
              "      <td>-2.589770</td>\n",
              "      <td>0.955830</td>\n",
              "      <td>-1.318331</td>\n",
              "      <td>0.435598</td>\n",
              "      <td>-0.911663</td>\n",
              "      <td>0.261342</td>\n",
              "    </tr>\n",
              "    <tr>\n",
              "      <th>157</th>\n",
              "      <td>509.276152</td>\n",
              "      <td>-19.523928</td>\n",
              "      <td>3.483822</td>\n",
              "      <td>-9.287822</td>\n",
              "      <td>-3.400041</td>\n",
              "      <td>8.759259</td>\n",
              "      <td>-1.311432</td>\n",
              "      <td>3.510939</td>\n",
              "      <td>2.133990</td>\n",
              "      <td>-0.475054</td>\n",
              "      <td>-0.211148</td>\n",
              "      <td>-1.531027</td>\n",
              "      <td>-0.438586</td>\n",
              "      <td>-0.311764</td>\n",
              "      <td>-0.948177</td>\n",
              "    </tr>\n",
              "  </tbody>\n",
              "</table>\n",
              "<p>158 rows × 15 columns</p>\n",
              "</div>\n",
              "      <button class=\"colab-df-convert\" onclick=\"convertToInteractive('df-761bea86-5284-41af-870f-d75a453da648')\"\n",
              "              title=\"Convert this dataframe to an interactive table.\"\n",
              "              style=\"display:none;\">\n",
              "        \n",
              "  <svg xmlns=\"http://www.w3.org/2000/svg\" height=\"24px\"viewBox=\"0 0 24 24\"\n",
              "       width=\"24px\">\n",
              "    <path d=\"M0 0h24v24H0V0z\" fill=\"none\"/>\n",
              "    <path d=\"M18.56 5.44l.94 2.06.94-2.06 2.06-.94-2.06-.94-.94-2.06-.94 2.06-2.06.94zm-11 1L8.5 8.5l.94-2.06 2.06-.94-2.06-.94L8.5 2.5l-.94 2.06-2.06.94zm10 10l.94 2.06.94-2.06 2.06-.94-2.06-.94-.94-2.06-.94 2.06-2.06.94z\"/><path d=\"M17.41 7.96l-1.37-1.37c-.4-.4-.92-.59-1.43-.59-.52 0-1.04.2-1.43.59L10.3 9.45l-7.72 7.72c-.78.78-.78 2.05 0 2.83L4 21.41c.39.39.9.59 1.41.59.51 0 1.02-.2 1.41-.59l7.78-7.78 2.81-2.81c.8-.78.8-2.07 0-2.86zM5.41 20L4 18.59l7.72-7.72 1.47 1.35L5.41 20z\"/>\n",
              "  </svg>\n",
              "      </button>\n",
              "      \n",
              "  <style>\n",
              "    .colab-df-container {\n",
              "      display:flex;\n",
              "      flex-wrap:wrap;\n",
              "      gap: 12px;\n",
              "    }\n",
              "\n",
              "    .colab-df-convert {\n",
              "      background-color: #E8F0FE;\n",
              "      border: none;\n",
              "      border-radius: 50%;\n",
              "      cursor: pointer;\n",
              "      display: none;\n",
              "      fill: #1967D2;\n",
              "      height: 32px;\n",
              "      padding: 0 0 0 0;\n",
              "      width: 32px;\n",
              "    }\n",
              "\n",
              "    .colab-df-convert:hover {\n",
              "      background-color: #E2EBFA;\n",
              "      box-shadow: 0px 1px 2px rgba(60, 64, 67, 0.3), 0px 1px 3px 1px rgba(60, 64, 67, 0.15);\n",
              "      fill: #174EA6;\n",
              "    }\n",
              "\n",
              "    [theme=dark] .colab-df-convert {\n",
              "      background-color: #3B4455;\n",
              "      fill: #D2E3FC;\n",
              "    }\n",
              "\n",
              "    [theme=dark] .colab-df-convert:hover {\n",
              "      background-color: #434B5C;\n",
              "      box-shadow: 0px 1px 3px 1px rgba(0, 0, 0, 0.15);\n",
              "      filter: drop-shadow(0px 1px 2px rgba(0, 0, 0, 0.3));\n",
              "      fill: #FFFFFF;\n",
              "    }\n",
              "  </style>\n",
              "\n",
              "      <script>\n",
              "        const buttonEl =\n",
              "          document.querySelector('#df-761bea86-5284-41af-870f-d75a453da648 button.colab-df-convert');\n",
              "        buttonEl.style.display =\n",
              "          google.colab.kernel.accessAllowed ? 'block' : 'none';\n",
              "\n",
              "        async function convertToInteractive(key) {\n",
              "          const element = document.querySelector('#df-761bea86-5284-41af-870f-d75a453da648');\n",
              "          const dataTable =\n",
              "            await google.colab.kernel.invokeFunction('convertToInteractive',\n",
              "                                                     [key], {});\n",
              "          if (!dataTable) return;\n",
              "\n",
              "          const docLinkHtml = 'Like what you see? Visit the ' +\n",
              "            '<a target=\"_blank\" href=https://colab.research.google.com/notebooks/data_table.ipynb>data table notebook</a>'\n",
              "            + ' to learn more about interactive tables.';\n",
              "          element.innerHTML = '';\n",
              "          dataTable['output_type'] = 'display_data';\n",
              "          await google.colab.output.renderOutput(dataTable, element);\n",
              "          const docLink = document.createElement('div');\n",
              "          docLink.innerHTML = docLinkHtml;\n",
              "          element.appendChild(docLink);\n",
              "        }\n",
              "      </script>\n",
              "    </div>\n",
              "  </div>\n",
              "  "
            ]
          },
          "metadata": {},
          "execution_count": 118
        }
      ]
    },
    {
      "cell_type": "code",
      "source": [
        "X_test"
      ],
      "metadata": {
        "colab": {
          "base_uri": "https://localhost:8080/",
          "height": 1000
        },
        "id": "J_R1dREPw6or",
        "outputId": "777cd12b-9ec7-496a-93d8-bcb86406acef"
      },
      "execution_count": 119,
      "outputs": [
        {
          "output_type": "execute_result",
          "data": {
            "text/plain": [
              "             0           1          2          3          4          5   \\\n",
              "0   -477.169587  367.491894  -8.847697  -8.187126  -3.253791  -0.574061   \n",
              "1    638.003349 -235.091717  11.579670 -13.494481  -9.806306   0.534580   \n",
              "2    -70.418225 -304.668719  -2.123759  -2.715271  13.678669  -5.758781   \n",
              "3   -905.166057  410.757335 -23.156836  17.204038  -8.619591   7.233567   \n",
              "4   -268.321337 -235.020396   8.673954 -34.986832   0.667168  -2.405748   \n",
              "5    323.353116  298.903738  -6.166989   3.635894  -2.993068   0.776799   \n",
              "6   -628.974361 -109.788948 -13.329140  40.447958  10.336974   0.360706   \n",
              "7    -50.242671  430.895685  38.067640 -29.019843  -6.798026   3.375757   \n",
              "8    565.429832 -210.766217 -28.056888  42.419469   2.239648  12.524404   \n",
              "9   -774.493803 -587.464562   3.315613 -26.105830  18.239643   9.850805   \n",
              "10   537.066340  805.689191 -37.649775  59.869386  -6.904811  -5.020578   \n",
              "11   668.768407 -831.093410 -82.952239 -50.763566 -49.944197   5.995768   \n",
              "12  -359.992947 -733.875154  35.184275  17.998444 -17.484289   0.873312   \n",
              "13   537.747854  860.331942  26.846982  21.169075  -0.578917   8.953680   \n",
              "14  -605.026768  -11.888060 -10.147261  15.468178   4.899259   2.510737   \n",
              "15   203.229936  340.798270 -19.293251   4.181311  -1.746599  -4.001779   \n",
              "16    -2.766486 -328.462410   3.508970  -3.629087   5.905469  -5.878752   \n",
              "17   349.478209 -451.064230  45.857728  -5.193285  10.367548  -4.928137   \n",
              "18  -428.174558 -496.635084  13.124979 -24.620385  18.570265   1.410037   \n",
              "19  -308.779058  521.174085   9.896396 -34.258496  -4.941082   5.323884   \n",
              "20  -200.248457 -260.252833  -9.614572  19.261153  -9.401335  -6.244975   \n",
              "21   626.702150  -18.795949  65.204602  32.343126  -6.979083   4.218384   \n",
              "22  -114.549784 -289.496674  -9.420031  -2.855716   6.772740  -5.514090   \n",
              "23   356.198786  287.447808  -2.582217   3.489879  -3.351010   2.114461   \n",
              "24   513.610090 -192.844106 -26.649830  46.287596  -4.317694  -4.266490   \n",
              "25  -308.035146  414.764701   4.467029 -28.844414  -3.362139   7.192247   \n",
              "26  -245.369201  498.630056   4.139057 -20.438808  -5.655624  -1.523651   \n",
              "27   823.503605  -86.914190  94.375339   4.817480  -8.150323   0.974892   \n",
              "28  -206.861260  485.190100   8.401940 -20.619414  -5.948888  -0.539115   \n",
              "29  -557.114999  183.326685 -16.335898  11.325087   6.571351  -8.580437   \n",
              "30  -271.421287   30.601004   0.334333  -1.323067   4.401552  -5.735466   \n",
              "31   -21.078327 -321.598188  37.133957   4.577510   6.433511  -4.815239   \n",
              "32   187.904824 -396.420205 -20.690377  39.092256   0.766807   6.806324   \n",
              "33   185.663211  983.590361  -3.670081 -46.389628 -18.490756  -6.413061   \n",
              "34  -511.261818  167.441042  -9.979133   5.272267   6.084532  -6.421569   \n",
              "35   791.990557 -500.562567 -10.132706 -28.720098  13.956353  -0.534464   \n",
              "36  -311.494336 -220.438110   1.069090   6.220838   6.847370   6.352146   \n",
              "37   214.592866 -405.908928  -1.212552   4.587042 -32.149355  -9.890054   \n",
              "38  -669.445715  -94.949904  -6.889781  -0.937903   9.353909   0.597350   \n",
              "39  1411.036424  237.400610 -48.514814 -32.207515  59.538096  -0.155723   \n",
              "40  -637.873365   -0.433948 -13.765726  15.642780   5.246019   1.222331   \n",
              "\n",
              "          6         7         8         9         10        11        12  \\\n",
              "0  -1.457415  0.114943 -0.349150  0.325373  0.895449 -0.190189 -0.698314   \n",
              "1   0.707589 -0.349532 -0.630189 -0.066489 -2.996695 -0.916191 -0.640367   \n",
              "2  -3.066487 -1.853491  1.410567  0.739272 -0.137044  0.013072  0.659061   \n",
              "3   6.035624  1.044818 -3.594966 -0.684650 -0.357328  1.804603 -0.211674   \n",
              "4   0.423248  0.235111  0.495442  2.345843  0.310385  0.715415  1.123834   \n",
              "5  -1.582926  1.720725  0.741156 -1.387717 -0.423739  0.998193  0.791320   \n",
              "6   3.664310 -0.659338 -0.241455 -1.481661  0.635006  0.212245 -0.552089   \n",
              "7  -4.147084  2.860385 -2.473986  2.832138 -0.303538 -0.456572 -0.770838   \n",
              "8  -4.964690  5.448733 -0.334174 -0.575888  0.849416 -0.750571 -0.051983   \n",
              "9  -1.843179 -3.563289  0.470025  0.858990 -0.861591 -0.390823 -0.011445   \n",
              "10 -3.246508 -2.612448 -1.941670  1.274719 -1.342211 -1.571915  0.245048   \n",
              "11  5.145972 -2.035368 -0.145685  0.141355  1.199070 -0.892343  0.001849   \n",
              "12 -7.345664 -1.728021  4.157727 -0.350719 -0.527040 -0.297377 -0.423782   \n",
              "13  9.474499  0.332242  6.691008  3.805006 -0.192741  0.101843 -0.045653   \n",
              "14  5.164805 -0.978888 -1.180416 -1.090353 -0.579133 -1.243294  0.272754   \n",
              "15 -1.877715  0.634002  1.363210 -0.986212 -0.274299  0.867472  0.236864   \n",
              "16  2.223375  4.635223 -1.177313  1.203826 -0.097751 -1.203926 -0.171581   \n",
              "17  2.690012  0.284113 -0.156465 -0.485755  3.057748 -0.661370 -0.475771   \n",
              "18  1.297528  0.212663  0.502336 -0.118036 -1.006622 -0.379207 -0.374253   \n",
              "19 -1.633328 -0.412586 -0.598714 -0.760439  0.259186  0.488227 -0.310632   \n",
              "20 -1.873214 -0.229659  1.568299 -2.623798 -0.190557  1.095930 -0.048947   \n",
              "21 -0.488585 -2.573229 -2.686654 -0.199655  0.838266 -0.898333  0.462142   \n",
              "22  0.640727  2.573234  2.002240 -1.895414  0.246731  0.478321  0.319249   \n",
              "23 -1.539148  2.044323  0.649215 -1.608764 -0.435933  1.186583  0.476939   \n",
              "24 -0.411448 -2.620261  0.219056  0.296033 -0.416335  0.881796 -0.792427   \n",
              "25 -3.781782  0.152781 -0.170572 -0.390482  0.320779  1.359755 -0.470277   \n",
              "26 -0.681874  1.123003  0.480378 -1.565874  0.008045 -1.003735  0.226421   \n",
              "27  3.438935 -2.465293 -1.886375 -2.410689 -0.254710  1.115840  0.071984   \n",
              "28 -3.279362  0.694649  1.130667 -1.447495 -0.055403 -1.007188 -0.577882   \n",
              "29  0.433146 -0.256994 -0.105118  1.605563  0.038236 -0.539011 -0.206821   \n",
              "30  0.763629  0.069369 -0.782803  1.667700  1.004480  0.780968  0.919996   \n",
              "31  3.142053  2.251579 -0.669266  0.045652  0.323065 -0.739237  0.050205   \n",
              "32 -2.496381  0.954819  0.652086 -0.218842  1.613450 -0.537251  0.423172   \n",
              "33 -1.120599 -2.106196  0.485054 -1.610759  0.951736 -1.069593  0.649890   \n",
              "34  0.541587  0.338448 -0.229757  1.359801  0.027317 -0.799728 -0.135717   \n",
              "35  1.774108  2.537116 -0.899360 -0.435045 -2.633609  0.039129  0.782750   \n",
              "36 -5.417133 -2.030584 -1.742735  3.298524  0.362969  0.786173  0.970300   \n",
              "37 -0.180327  0.950032 -0.925926  3.003941 -0.046096  2.124635 -0.860183   \n",
              "38  0.544781 -1.002390  1.343226 -1.399299 -0.444776 -0.237344 -0.402306   \n",
              "39 -0.560788 -2.444263 -0.561032 -0.048154  0.910571  0.809279 -0.850133   \n",
              "40  4.889712 -1.290484 -0.877910 -0.961547 -0.274756 -0.074284  0.399297   \n",
              "\n",
              "          13        14  \n",
              "0  -0.199024 -0.611676  \n",
              "1   0.076293  1.108669  \n",
              "2   0.824436  0.297985  \n",
              "3   0.499157  0.562093  \n",
              "4   0.439097  0.486330  \n",
              "5  -0.256451  0.281741  \n",
              "6  -0.271703  0.016576  \n",
              "7  -0.086104  0.077447  \n",
              "8   0.644963  0.002038  \n",
              "9  -0.950744  0.008198  \n",
              "10 -0.284782 -0.383453  \n",
              "11 -0.032072 -0.241014  \n",
              "12  1.021111  0.025194  \n",
              "13 -0.036610 -0.159589  \n",
              "14  0.440648  0.187205  \n",
              "15 -0.644447  0.244515  \n",
              "16 -0.646667  0.192405  \n",
              "17  0.458788  0.737797  \n",
              "18 -0.952511 -0.611650  \n",
              "19 -0.003019  0.529271  \n",
              "20 -0.207623 -0.414589  \n",
              "21 -0.073033 -0.758137  \n",
              "22 -0.458352 -0.079677  \n",
              "23 -0.508726  0.145460  \n",
              "24 -0.051619  1.145854  \n",
              "25  0.668700 -0.740946  \n",
              "26  0.497645  0.055326  \n",
              "27 -0.029356 -0.388479  \n",
              "28 -0.212694  0.130425  \n",
              "29  0.394127 -0.683827  \n",
              "30  0.038115 -0.083127  \n",
              "31 -0.433603  0.353336  \n",
              "32 -0.621436 -0.164468  \n",
              "33 -0.316166  0.258773  \n",
              "34  0.636739 -0.110447  \n",
              "35  0.733956 -0.784016  \n",
              "36 -0.460349  0.549986  \n",
              "37 -0.214735 -0.610519  \n",
              "38 -0.175696 -0.204435  \n",
              "39  0.269958 -0.138105  \n",
              "40  0.483789 -0.228468  "
            ],
            "text/html": [
              "\n",
              "  <div id=\"df-57cd998d-5ac8-40bb-aff6-bbab0de8d7e9\">\n",
              "    <div class=\"colab-df-container\">\n",
              "      <div>\n",
              "<style scoped>\n",
              "    .dataframe tbody tr th:only-of-type {\n",
              "        vertical-align: middle;\n",
              "    }\n",
              "\n",
              "    .dataframe tbody tr th {\n",
              "        vertical-align: top;\n",
              "    }\n",
              "\n",
              "    .dataframe thead th {\n",
              "        text-align: right;\n",
              "    }\n",
              "</style>\n",
              "<table border=\"1\" class=\"dataframe\">\n",
              "  <thead>\n",
              "    <tr style=\"text-align: right;\">\n",
              "      <th></th>\n",
              "      <th>0</th>\n",
              "      <th>1</th>\n",
              "      <th>2</th>\n",
              "      <th>3</th>\n",
              "      <th>4</th>\n",
              "      <th>5</th>\n",
              "      <th>6</th>\n",
              "      <th>7</th>\n",
              "      <th>8</th>\n",
              "      <th>9</th>\n",
              "      <th>10</th>\n",
              "      <th>11</th>\n",
              "      <th>12</th>\n",
              "      <th>13</th>\n",
              "      <th>14</th>\n",
              "    </tr>\n",
              "  </thead>\n",
              "  <tbody>\n",
              "    <tr>\n",
              "      <th>0</th>\n",
              "      <td>-477.169587</td>\n",
              "      <td>367.491894</td>\n",
              "      <td>-8.847697</td>\n",
              "      <td>-8.187126</td>\n",
              "      <td>-3.253791</td>\n",
              "      <td>-0.574061</td>\n",
              "      <td>-1.457415</td>\n",
              "      <td>0.114943</td>\n",
              "      <td>-0.349150</td>\n",
              "      <td>0.325373</td>\n",
              "      <td>0.895449</td>\n",
              "      <td>-0.190189</td>\n",
              "      <td>-0.698314</td>\n",
              "      <td>-0.199024</td>\n",
              "      <td>-0.611676</td>\n",
              "    </tr>\n",
              "    <tr>\n",
              "      <th>1</th>\n",
              "      <td>638.003349</td>\n",
              "      <td>-235.091717</td>\n",
              "      <td>11.579670</td>\n",
              "      <td>-13.494481</td>\n",
              "      <td>-9.806306</td>\n",
              "      <td>0.534580</td>\n",
              "      <td>0.707589</td>\n",
              "      <td>-0.349532</td>\n",
              "      <td>-0.630189</td>\n",
              "      <td>-0.066489</td>\n",
              "      <td>-2.996695</td>\n",
              "      <td>-0.916191</td>\n",
              "      <td>-0.640367</td>\n",
              "      <td>0.076293</td>\n",
              "      <td>1.108669</td>\n",
              "    </tr>\n",
              "    <tr>\n",
              "      <th>2</th>\n",
              "      <td>-70.418225</td>\n",
              "      <td>-304.668719</td>\n",
              "      <td>-2.123759</td>\n",
              "      <td>-2.715271</td>\n",
              "      <td>13.678669</td>\n",
              "      <td>-5.758781</td>\n",
              "      <td>-3.066487</td>\n",
              "      <td>-1.853491</td>\n",
              "      <td>1.410567</td>\n",
              "      <td>0.739272</td>\n",
              "      <td>-0.137044</td>\n",
              "      <td>0.013072</td>\n",
              "      <td>0.659061</td>\n",
              "      <td>0.824436</td>\n",
              "      <td>0.297985</td>\n",
              "    </tr>\n",
              "    <tr>\n",
              "      <th>3</th>\n",
              "      <td>-905.166057</td>\n",
              "      <td>410.757335</td>\n",
              "      <td>-23.156836</td>\n",
              "      <td>17.204038</td>\n",
              "      <td>-8.619591</td>\n",
              "      <td>7.233567</td>\n",
              "      <td>6.035624</td>\n",
              "      <td>1.044818</td>\n",
              "      <td>-3.594966</td>\n",
              "      <td>-0.684650</td>\n",
              "      <td>-0.357328</td>\n",
              "      <td>1.804603</td>\n",
              "      <td>-0.211674</td>\n",
              "      <td>0.499157</td>\n",
              "      <td>0.562093</td>\n",
              "    </tr>\n",
              "    <tr>\n",
              "      <th>4</th>\n",
              "      <td>-268.321337</td>\n",
              "      <td>-235.020396</td>\n",
              "      <td>8.673954</td>\n",
              "      <td>-34.986832</td>\n",
              "      <td>0.667168</td>\n",
              "      <td>-2.405748</td>\n",
              "      <td>0.423248</td>\n",
              "      <td>0.235111</td>\n",
              "      <td>0.495442</td>\n",
              "      <td>2.345843</td>\n",
              "      <td>0.310385</td>\n",
              "      <td>0.715415</td>\n",
              "      <td>1.123834</td>\n",
              "      <td>0.439097</td>\n",
              "      <td>0.486330</td>\n",
              "    </tr>\n",
              "    <tr>\n",
              "      <th>5</th>\n",
              "      <td>323.353116</td>\n",
              "      <td>298.903738</td>\n",
              "      <td>-6.166989</td>\n",
              "      <td>3.635894</td>\n",
              "      <td>-2.993068</td>\n",
              "      <td>0.776799</td>\n",
              "      <td>-1.582926</td>\n",
              "      <td>1.720725</td>\n",
              "      <td>0.741156</td>\n",
              "      <td>-1.387717</td>\n",
              "      <td>-0.423739</td>\n",
              "      <td>0.998193</td>\n",
              "      <td>0.791320</td>\n",
              "      <td>-0.256451</td>\n",
              "      <td>0.281741</td>\n",
              "    </tr>\n",
              "    <tr>\n",
              "      <th>6</th>\n",
              "      <td>-628.974361</td>\n",
              "      <td>-109.788948</td>\n",
              "      <td>-13.329140</td>\n",
              "      <td>40.447958</td>\n",
              "      <td>10.336974</td>\n",
              "      <td>0.360706</td>\n",
              "      <td>3.664310</td>\n",
              "      <td>-0.659338</td>\n",
              "      <td>-0.241455</td>\n",
              "      <td>-1.481661</td>\n",
              "      <td>0.635006</td>\n",
              "      <td>0.212245</td>\n",
              "      <td>-0.552089</td>\n",
              "      <td>-0.271703</td>\n",
              "      <td>0.016576</td>\n",
              "    </tr>\n",
              "    <tr>\n",
              "      <th>7</th>\n",
              "      <td>-50.242671</td>\n",
              "      <td>430.895685</td>\n",
              "      <td>38.067640</td>\n",
              "      <td>-29.019843</td>\n",
              "      <td>-6.798026</td>\n",
              "      <td>3.375757</td>\n",
              "      <td>-4.147084</td>\n",
              "      <td>2.860385</td>\n",
              "      <td>-2.473986</td>\n",
              "      <td>2.832138</td>\n",
              "      <td>-0.303538</td>\n",
              "      <td>-0.456572</td>\n",
              "      <td>-0.770838</td>\n",
              "      <td>-0.086104</td>\n",
              "      <td>0.077447</td>\n",
              "    </tr>\n",
              "    <tr>\n",
              "      <th>8</th>\n",
              "      <td>565.429832</td>\n",
              "      <td>-210.766217</td>\n",
              "      <td>-28.056888</td>\n",
              "      <td>42.419469</td>\n",
              "      <td>2.239648</td>\n",
              "      <td>12.524404</td>\n",
              "      <td>-4.964690</td>\n",
              "      <td>5.448733</td>\n",
              "      <td>-0.334174</td>\n",
              "      <td>-0.575888</td>\n",
              "      <td>0.849416</td>\n",
              "      <td>-0.750571</td>\n",
              "      <td>-0.051983</td>\n",
              "      <td>0.644963</td>\n",
              "      <td>0.002038</td>\n",
              "    </tr>\n",
              "    <tr>\n",
              "      <th>9</th>\n",
              "      <td>-774.493803</td>\n",
              "      <td>-587.464562</td>\n",
              "      <td>3.315613</td>\n",
              "      <td>-26.105830</td>\n",
              "      <td>18.239643</td>\n",
              "      <td>9.850805</td>\n",
              "      <td>-1.843179</td>\n",
              "      <td>-3.563289</td>\n",
              "      <td>0.470025</td>\n",
              "      <td>0.858990</td>\n",
              "      <td>-0.861591</td>\n",
              "      <td>-0.390823</td>\n",
              "      <td>-0.011445</td>\n",
              "      <td>-0.950744</td>\n",
              "      <td>0.008198</td>\n",
              "    </tr>\n",
              "    <tr>\n",
              "      <th>10</th>\n",
              "      <td>537.066340</td>\n",
              "      <td>805.689191</td>\n",
              "      <td>-37.649775</td>\n",
              "      <td>59.869386</td>\n",
              "      <td>-6.904811</td>\n",
              "      <td>-5.020578</td>\n",
              "      <td>-3.246508</td>\n",
              "      <td>-2.612448</td>\n",
              "      <td>-1.941670</td>\n",
              "      <td>1.274719</td>\n",
              "      <td>-1.342211</td>\n",
              "      <td>-1.571915</td>\n",
              "      <td>0.245048</td>\n",
              "      <td>-0.284782</td>\n",
              "      <td>-0.383453</td>\n",
              "    </tr>\n",
              "    <tr>\n",
              "      <th>11</th>\n",
              "      <td>668.768407</td>\n",
              "      <td>-831.093410</td>\n",
              "      <td>-82.952239</td>\n",
              "      <td>-50.763566</td>\n",
              "      <td>-49.944197</td>\n",
              "      <td>5.995768</td>\n",
              "      <td>5.145972</td>\n",
              "      <td>-2.035368</td>\n",
              "      <td>-0.145685</td>\n",
              "      <td>0.141355</td>\n",
              "      <td>1.199070</td>\n",
              "      <td>-0.892343</td>\n",
              "      <td>0.001849</td>\n",
              "      <td>-0.032072</td>\n",
              "      <td>-0.241014</td>\n",
              "    </tr>\n",
              "    <tr>\n",
              "      <th>12</th>\n",
              "      <td>-359.992947</td>\n",
              "      <td>-733.875154</td>\n",
              "      <td>35.184275</td>\n",
              "      <td>17.998444</td>\n",
              "      <td>-17.484289</td>\n",
              "      <td>0.873312</td>\n",
              "      <td>-7.345664</td>\n",
              "      <td>-1.728021</td>\n",
              "      <td>4.157727</td>\n",
              "      <td>-0.350719</td>\n",
              "      <td>-0.527040</td>\n",
              "      <td>-0.297377</td>\n",
              "      <td>-0.423782</td>\n",
              "      <td>1.021111</td>\n",
              "      <td>0.025194</td>\n",
              "    </tr>\n",
              "    <tr>\n",
              "      <th>13</th>\n",
              "      <td>537.747854</td>\n",
              "      <td>860.331942</td>\n",
              "      <td>26.846982</td>\n",
              "      <td>21.169075</td>\n",
              "      <td>-0.578917</td>\n",
              "      <td>8.953680</td>\n",
              "      <td>9.474499</td>\n",
              "      <td>0.332242</td>\n",
              "      <td>6.691008</td>\n",
              "      <td>3.805006</td>\n",
              "      <td>-0.192741</td>\n",
              "      <td>0.101843</td>\n",
              "      <td>-0.045653</td>\n",
              "      <td>-0.036610</td>\n",
              "      <td>-0.159589</td>\n",
              "    </tr>\n",
              "    <tr>\n",
              "      <th>14</th>\n",
              "      <td>-605.026768</td>\n",
              "      <td>-11.888060</td>\n",
              "      <td>-10.147261</td>\n",
              "      <td>15.468178</td>\n",
              "      <td>4.899259</td>\n",
              "      <td>2.510737</td>\n",
              "      <td>5.164805</td>\n",
              "      <td>-0.978888</td>\n",
              "      <td>-1.180416</td>\n",
              "      <td>-1.090353</td>\n",
              "      <td>-0.579133</td>\n",
              "      <td>-1.243294</td>\n",
              "      <td>0.272754</td>\n",
              "      <td>0.440648</td>\n",
              "      <td>0.187205</td>\n",
              "    </tr>\n",
              "    <tr>\n",
              "      <th>15</th>\n",
              "      <td>203.229936</td>\n",
              "      <td>340.798270</td>\n",
              "      <td>-19.293251</td>\n",
              "      <td>4.181311</td>\n",
              "      <td>-1.746599</td>\n",
              "      <td>-4.001779</td>\n",
              "      <td>-1.877715</td>\n",
              "      <td>0.634002</td>\n",
              "      <td>1.363210</td>\n",
              "      <td>-0.986212</td>\n",
              "      <td>-0.274299</td>\n",
              "      <td>0.867472</td>\n",
              "      <td>0.236864</td>\n",
              "      <td>-0.644447</td>\n",
              "      <td>0.244515</td>\n",
              "    </tr>\n",
              "    <tr>\n",
              "      <th>16</th>\n",
              "      <td>-2.766486</td>\n",
              "      <td>-328.462410</td>\n",
              "      <td>3.508970</td>\n",
              "      <td>-3.629087</td>\n",
              "      <td>5.905469</td>\n",
              "      <td>-5.878752</td>\n",
              "      <td>2.223375</td>\n",
              "      <td>4.635223</td>\n",
              "      <td>-1.177313</td>\n",
              "      <td>1.203826</td>\n",
              "      <td>-0.097751</td>\n",
              "      <td>-1.203926</td>\n",
              "      <td>-0.171581</td>\n",
              "      <td>-0.646667</td>\n",
              "      <td>0.192405</td>\n",
              "    </tr>\n",
              "    <tr>\n",
              "      <th>17</th>\n",
              "      <td>349.478209</td>\n",
              "      <td>-451.064230</td>\n",
              "      <td>45.857728</td>\n",
              "      <td>-5.193285</td>\n",
              "      <td>10.367548</td>\n",
              "      <td>-4.928137</td>\n",
              "      <td>2.690012</td>\n",
              "      <td>0.284113</td>\n",
              "      <td>-0.156465</td>\n",
              "      <td>-0.485755</td>\n",
              "      <td>3.057748</td>\n",
              "      <td>-0.661370</td>\n",
              "      <td>-0.475771</td>\n",
              "      <td>0.458788</td>\n",
              "      <td>0.737797</td>\n",
              "    </tr>\n",
              "    <tr>\n",
              "      <th>18</th>\n",
              "      <td>-428.174558</td>\n",
              "      <td>-496.635084</td>\n",
              "      <td>13.124979</td>\n",
              "      <td>-24.620385</td>\n",
              "      <td>18.570265</td>\n",
              "      <td>1.410037</td>\n",
              "      <td>1.297528</td>\n",
              "      <td>0.212663</td>\n",
              "      <td>0.502336</td>\n",
              "      <td>-0.118036</td>\n",
              "      <td>-1.006622</td>\n",
              "      <td>-0.379207</td>\n",
              "      <td>-0.374253</td>\n",
              "      <td>-0.952511</td>\n",
              "      <td>-0.611650</td>\n",
              "    </tr>\n",
              "    <tr>\n",
              "      <th>19</th>\n",
              "      <td>-308.779058</td>\n",
              "      <td>521.174085</td>\n",
              "      <td>9.896396</td>\n",
              "      <td>-34.258496</td>\n",
              "      <td>-4.941082</td>\n",
              "      <td>5.323884</td>\n",
              "      <td>-1.633328</td>\n",
              "      <td>-0.412586</td>\n",
              "      <td>-0.598714</td>\n",
              "      <td>-0.760439</td>\n",
              "      <td>0.259186</td>\n",
              "      <td>0.488227</td>\n",
              "      <td>-0.310632</td>\n",
              "      <td>-0.003019</td>\n",
              "      <td>0.529271</td>\n",
              "    </tr>\n",
              "    <tr>\n",
              "      <th>20</th>\n",
              "      <td>-200.248457</td>\n",
              "      <td>-260.252833</td>\n",
              "      <td>-9.614572</td>\n",
              "      <td>19.261153</td>\n",
              "      <td>-9.401335</td>\n",
              "      <td>-6.244975</td>\n",
              "      <td>-1.873214</td>\n",
              "      <td>-0.229659</td>\n",
              "      <td>1.568299</td>\n",
              "      <td>-2.623798</td>\n",
              "      <td>-0.190557</td>\n",
              "      <td>1.095930</td>\n",
              "      <td>-0.048947</td>\n",
              "      <td>-0.207623</td>\n",
              "      <td>-0.414589</td>\n",
              "    </tr>\n",
              "    <tr>\n",
              "      <th>21</th>\n",
              "      <td>626.702150</td>\n",
              "      <td>-18.795949</td>\n",
              "      <td>65.204602</td>\n",
              "      <td>32.343126</td>\n",
              "      <td>-6.979083</td>\n",
              "      <td>4.218384</td>\n",
              "      <td>-0.488585</td>\n",
              "      <td>-2.573229</td>\n",
              "      <td>-2.686654</td>\n",
              "      <td>-0.199655</td>\n",
              "      <td>0.838266</td>\n",
              "      <td>-0.898333</td>\n",
              "      <td>0.462142</td>\n",
              "      <td>-0.073033</td>\n",
              "      <td>-0.758137</td>\n",
              "    </tr>\n",
              "    <tr>\n",
              "      <th>22</th>\n",
              "      <td>-114.549784</td>\n",
              "      <td>-289.496674</td>\n",
              "      <td>-9.420031</td>\n",
              "      <td>-2.855716</td>\n",
              "      <td>6.772740</td>\n",
              "      <td>-5.514090</td>\n",
              "      <td>0.640727</td>\n",
              "      <td>2.573234</td>\n",
              "      <td>2.002240</td>\n",
              "      <td>-1.895414</td>\n",
              "      <td>0.246731</td>\n",
              "      <td>0.478321</td>\n",
              "      <td>0.319249</td>\n",
              "      <td>-0.458352</td>\n",
              "      <td>-0.079677</td>\n",
              "    </tr>\n",
              "    <tr>\n",
              "      <th>23</th>\n",
              "      <td>356.198786</td>\n",
              "      <td>287.447808</td>\n",
              "      <td>-2.582217</td>\n",
              "      <td>3.489879</td>\n",
              "      <td>-3.351010</td>\n",
              "      <td>2.114461</td>\n",
              "      <td>-1.539148</td>\n",
              "      <td>2.044323</td>\n",
              "      <td>0.649215</td>\n",
              "      <td>-1.608764</td>\n",
              "      <td>-0.435933</td>\n",
              "      <td>1.186583</td>\n",
              "      <td>0.476939</td>\n",
              "      <td>-0.508726</td>\n",
              "      <td>0.145460</td>\n",
              "    </tr>\n",
              "    <tr>\n",
              "      <th>24</th>\n",
              "      <td>513.610090</td>\n",
              "      <td>-192.844106</td>\n",
              "      <td>-26.649830</td>\n",
              "      <td>46.287596</td>\n",
              "      <td>-4.317694</td>\n",
              "      <td>-4.266490</td>\n",
              "      <td>-0.411448</td>\n",
              "      <td>-2.620261</td>\n",
              "      <td>0.219056</td>\n",
              "      <td>0.296033</td>\n",
              "      <td>-0.416335</td>\n",
              "      <td>0.881796</td>\n",
              "      <td>-0.792427</td>\n",
              "      <td>-0.051619</td>\n",
              "      <td>1.145854</td>\n",
              "    </tr>\n",
              "    <tr>\n",
              "      <th>25</th>\n",
              "      <td>-308.035146</td>\n",
              "      <td>414.764701</td>\n",
              "      <td>4.467029</td>\n",
              "      <td>-28.844414</td>\n",
              "      <td>-3.362139</td>\n",
              "      <td>7.192247</td>\n",
              "      <td>-3.781782</td>\n",
              "      <td>0.152781</td>\n",
              "      <td>-0.170572</td>\n",
              "      <td>-0.390482</td>\n",
              "      <td>0.320779</td>\n",
              "      <td>1.359755</td>\n",
              "      <td>-0.470277</td>\n",
              "      <td>0.668700</td>\n",
              "      <td>-0.740946</td>\n",
              "    </tr>\n",
              "    <tr>\n",
              "      <th>26</th>\n",
              "      <td>-245.369201</td>\n",
              "      <td>498.630056</td>\n",
              "      <td>4.139057</td>\n",
              "      <td>-20.438808</td>\n",
              "      <td>-5.655624</td>\n",
              "      <td>-1.523651</td>\n",
              "      <td>-0.681874</td>\n",
              "      <td>1.123003</td>\n",
              "      <td>0.480378</td>\n",
              "      <td>-1.565874</td>\n",
              "      <td>0.008045</td>\n",
              "      <td>-1.003735</td>\n",
              "      <td>0.226421</td>\n",
              "      <td>0.497645</td>\n",
              "      <td>0.055326</td>\n",
              "    </tr>\n",
              "    <tr>\n",
              "      <th>27</th>\n",
              "      <td>823.503605</td>\n",
              "      <td>-86.914190</td>\n",
              "      <td>94.375339</td>\n",
              "      <td>4.817480</td>\n",
              "      <td>-8.150323</td>\n",
              "      <td>0.974892</td>\n",
              "      <td>3.438935</td>\n",
              "      <td>-2.465293</td>\n",
              "      <td>-1.886375</td>\n",
              "      <td>-2.410689</td>\n",
              "      <td>-0.254710</td>\n",
              "      <td>1.115840</td>\n",
              "      <td>0.071984</td>\n",
              "      <td>-0.029356</td>\n",
              "      <td>-0.388479</td>\n",
              "    </tr>\n",
              "    <tr>\n",
              "      <th>28</th>\n",
              "      <td>-206.861260</td>\n",
              "      <td>485.190100</td>\n",
              "      <td>8.401940</td>\n",
              "      <td>-20.619414</td>\n",
              "      <td>-5.948888</td>\n",
              "      <td>-0.539115</td>\n",
              "      <td>-3.279362</td>\n",
              "      <td>0.694649</td>\n",
              "      <td>1.130667</td>\n",
              "      <td>-1.447495</td>\n",
              "      <td>-0.055403</td>\n",
              "      <td>-1.007188</td>\n",
              "      <td>-0.577882</td>\n",
              "      <td>-0.212694</td>\n",
              "      <td>0.130425</td>\n",
              "    </tr>\n",
              "    <tr>\n",
              "      <th>29</th>\n",
              "      <td>-557.114999</td>\n",
              "      <td>183.326685</td>\n",
              "      <td>-16.335898</td>\n",
              "      <td>11.325087</td>\n",
              "      <td>6.571351</td>\n",
              "      <td>-8.580437</td>\n",
              "      <td>0.433146</td>\n",
              "      <td>-0.256994</td>\n",
              "      <td>-0.105118</td>\n",
              "      <td>1.605563</td>\n",
              "      <td>0.038236</td>\n",
              "      <td>-0.539011</td>\n",
              "      <td>-0.206821</td>\n",
              "      <td>0.394127</td>\n",
              "      <td>-0.683827</td>\n",
              "    </tr>\n",
              "    <tr>\n",
              "      <th>30</th>\n",
              "      <td>-271.421287</td>\n",
              "      <td>30.601004</td>\n",
              "      <td>0.334333</td>\n",
              "      <td>-1.323067</td>\n",
              "      <td>4.401552</td>\n",
              "      <td>-5.735466</td>\n",
              "      <td>0.763629</td>\n",
              "      <td>0.069369</td>\n",
              "      <td>-0.782803</td>\n",
              "      <td>1.667700</td>\n",
              "      <td>1.004480</td>\n",
              "      <td>0.780968</td>\n",
              "      <td>0.919996</td>\n",
              "      <td>0.038115</td>\n",
              "      <td>-0.083127</td>\n",
              "    </tr>\n",
              "    <tr>\n",
              "      <th>31</th>\n",
              "      <td>-21.078327</td>\n",
              "      <td>-321.598188</td>\n",
              "      <td>37.133957</td>\n",
              "      <td>4.577510</td>\n",
              "      <td>6.433511</td>\n",
              "      <td>-4.815239</td>\n",
              "      <td>3.142053</td>\n",
              "      <td>2.251579</td>\n",
              "      <td>-0.669266</td>\n",
              "      <td>0.045652</td>\n",
              "      <td>0.323065</td>\n",
              "      <td>-0.739237</td>\n",
              "      <td>0.050205</td>\n",
              "      <td>-0.433603</td>\n",
              "      <td>0.353336</td>\n",
              "    </tr>\n",
              "    <tr>\n",
              "      <th>32</th>\n",
              "      <td>187.904824</td>\n",
              "      <td>-396.420205</td>\n",
              "      <td>-20.690377</td>\n",
              "      <td>39.092256</td>\n",
              "      <td>0.766807</td>\n",
              "      <td>6.806324</td>\n",
              "      <td>-2.496381</td>\n",
              "      <td>0.954819</td>\n",
              "      <td>0.652086</td>\n",
              "      <td>-0.218842</td>\n",
              "      <td>1.613450</td>\n",
              "      <td>-0.537251</td>\n",
              "      <td>0.423172</td>\n",
              "      <td>-0.621436</td>\n",
              "      <td>-0.164468</td>\n",
              "    </tr>\n",
              "    <tr>\n",
              "      <th>33</th>\n",
              "      <td>185.663211</td>\n",
              "      <td>983.590361</td>\n",
              "      <td>-3.670081</td>\n",
              "      <td>-46.389628</td>\n",
              "      <td>-18.490756</td>\n",
              "      <td>-6.413061</td>\n",
              "      <td>-1.120599</td>\n",
              "      <td>-2.106196</td>\n",
              "      <td>0.485054</td>\n",
              "      <td>-1.610759</td>\n",
              "      <td>0.951736</td>\n",
              "      <td>-1.069593</td>\n",
              "      <td>0.649890</td>\n",
              "      <td>-0.316166</td>\n",
              "      <td>0.258773</td>\n",
              "    </tr>\n",
              "    <tr>\n",
              "      <th>34</th>\n",
              "      <td>-511.261818</td>\n",
              "      <td>167.441042</td>\n",
              "      <td>-9.979133</td>\n",
              "      <td>5.272267</td>\n",
              "      <td>6.084532</td>\n",
              "      <td>-6.421569</td>\n",
              "      <td>0.541587</td>\n",
              "      <td>0.338448</td>\n",
              "      <td>-0.229757</td>\n",
              "      <td>1.359801</td>\n",
              "      <td>0.027317</td>\n",
              "      <td>-0.799728</td>\n",
              "      <td>-0.135717</td>\n",
              "      <td>0.636739</td>\n",
              "      <td>-0.110447</td>\n",
              "    </tr>\n",
              "    <tr>\n",
              "      <th>35</th>\n",
              "      <td>791.990557</td>\n",
              "      <td>-500.562567</td>\n",
              "      <td>-10.132706</td>\n",
              "      <td>-28.720098</td>\n",
              "      <td>13.956353</td>\n",
              "      <td>-0.534464</td>\n",
              "      <td>1.774108</td>\n",
              "      <td>2.537116</td>\n",
              "      <td>-0.899360</td>\n",
              "      <td>-0.435045</td>\n",
              "      <td>-2.633609</td>\n",
              "      <td>0.039129</td>\n",
              "      <td>0.782750</td>\n",
              "      <td>0.733956</td>\n",
              "      <td>-0.784016</td>\n",
              "    </tr>\n",
              "    <tr>\n",
              "      <th>36</th>\n",
              "      <td>-311.494336</td>\n",
              "      <td>-220.438110</td>\n",
              "      <td>1.069090</td>\n",
              "      <td>6.220838</td>\n",
              "      <td>6.847370</td>\n",
              "      <td>6.352146</td>\n",
              "      <td>-5.417133</td>\n",
              "      <td>-2.030584</td>\n",
              "      <td>-1.742735</td>\n",
              "      <td>3.298524</td>\n",
              "      <td>0.362969</td>\n",
              "      <td>0.786173</td>\n",
              "      <td>0.970300</td>\n",
              "      <td>-0.460349</td>\n",
              "      <td>0.549986</td>\n",
              "    </tr>\n",
              "    <tr>\n",
              "      <th>37</th>\n",
              "      <td>214.592866</td>\n",
              "      <td>-405.908928</td>\n",
              "      <td>-1.212552</td>\n",
              "      <td>4.587042</td>\n",
              "      <td>-32.149355</td>\n",
              "      <td>-9.890054</td>\n",
              "      <td>-0.180327</td>\n",
              "      <td>0.950032</td>\n",
              "      <td>-0.925926</td>\n",
              "      <td>3.003941</td>\n",
              "      <td>-0.046096</td>\n",
              "      <td>2.124635</td>\n",
              "      <td>-0.860183</td>\n",
              "      <td>-0.214735</td>\n",
              "      <td>-0.610519</td>\n",
              "    </tr>\n",
              "    <tr>\n",
              "      <th>38</th>\n",
              "      <td>-669.445715</td>\n",
              "      <td>-94.949904</td>\n",
              "      <td>-6.889781</td>\n",
              "      <td>-0.937903</td>\n",
              "      <td>9.353909</td>\n",
              "      <td>0.597350</td>\n",
              "      <td>0.544781</td>\n",
              "      <td>-1.002390</td>\n",
              "      <td>1.343226</td>\n",
              "      <td>-1.399299</td>\n",
              "      <td>-0.444776</td>\n",
              "      <td>-0.237344</td>\n",
              "      <td>-0.402306</td>\n",
              "      <td>-0.175696</td>\n",
              "      <td>-0.204435</td>\n",
              "    </tr>\n",
              "    <tr>\n",
              "      <th>39</th>\n",
              "      <td>1411.036424</td>\n",
              "      <td>237.400610</td>\n",
              "      <td>-48.514814</td>\n",
              "      <td>-32.207515</td>\n",
              "      <td>59.538096</td>\n",
              "      <td>-0.155723</td>\n",
              "      <td>-0.560788</td>\n",
              "      <td>-2.444263</td>\n",
              "      <td>-0.561032</td>\n",
              "      <td>-0.048154</td>\n",
              "      <td>0.910571</td>\n",
              "      <td>0.809279</td>\n",
              "      <td>-0.850133</td>\n",
              "      <td>0.269958</td>\n",
              "      <td>-0.138105</td>\n",
              "    </tr>\n",
              "    <tr>\n",
              "      <th>40</th>\n",
              "      <td>-637.873365</td>\n",
              "      <td>-0.433948</td>\n",
              "      <td>-13.765726</td>\n",
              "      <td>15.642780</td>\n",
              "      <td>5.246019</td>\n",
              "      <td>1.222331</td>\n",
              "      <td>4.889712</td>\n",
              "      <td>-1.290484</td>\n",
              "      <td>-0.877910</td>\n",
              "      <td>-0.961547</td>\n",
              "      <td>-0.274756</td>\n",
              "      <td>-0.074284</td>\n",
              "      <td>0.399297</td>\n",
              "      <td>0.483789</td>\n",
              "      <td>-0.228468</td>\n",
              "    </tr>\n",
              "  </tbody>\n",
              "</table>\n",
              "</div>\n",
              "      <button class=\"colab-df-convert\" onclick=\"convertToInteractive('df-57cd998d-5ac8-40bb-aff6-bbab0de8d7e9')\"\n",
              "              title=\"Convert this dataframe to an interactive table.\"\n",
              "              style=\"display:none;\">\n",
              "        \n",
              "  <svg xmlns=\"http://www.w3.org/2000/svg\" height=\"24px\"viewBox=\"0 0 24 24\"\n",
              "       width=\"24px\">\n",
              "    <path d=\"M0 0h24v24H0V0z\" fill=\"none\"/>\n",
              "    <path d=\"M18.56 5.44l.94 2.06.94-2.06 2.06-.94-2.06-.94-.94-2.06-.94 2.06-2.06.94zm-11 1L8.5 8.5l.94-2.06 2.06-.94-2.06-.94L8.5 2.5l-.94 2.06-2.06.94zm10 10l.94 2.06.94-2.06 2.06-.94-2.06-.94-.94-2.06-.94 2.06-2.06.94z\"/><path d=\"M17.41 7.96l-1.37-1.37c-.4-.4-.92-.59-1.43-.59-.52 0-1.04.2-1.43.59L10.3 9.45l-7.72 7.72c-.78.78-.78 2.05 0 2.83L4 21.41c.39.39.9.59 1.41.59.51 0 1.02-.2 1.41-.59l7.78-7.78 2.81-2.81c.8-.78.8-2.07 0-2.86zM5.41 20L4 18.59l7.72-7.72 1.47 1.35L5.41 20z\"/>\n",
              "  </svg>\n",
              "      </button>\n",
              "      \n",
              "  <style>\n",
              "    .colab-df-container {\n",
              "      display:flex;\n",
              "      flex-wrap:wrap;\n",
              "      gap: 12px;\n",
              "    }\n",
              "\n",
              "    .colab-df-convert {\n",
              "      background-color: #E8F0FE;\n",
              "      border: none;\n",
              "      border-radius: 50%;\n",
              "      cursor: pointer;\n",
              "      display: none;\n",
              "      fill: #1967D2;\n",
              "      height: 32px;\n",
              "      padding: 0 0 0 0;\n",
              "      width: 32px;\n",
              "    }\n",
              "\n",
              "    .colab-df-convert:hover {\n",
              "      background-color: #E2EBFA;\n",
              "      box-shadow: 0px 1px 2px rgba(60, 64, 67, 0.3), 0px 1px 3px 1px rgba(60, 64, 67, 0.15);\n",
              "      fill: #174EA6;\n",
              "    }\n",
              "\n",
              "    [theme=dark] .colab-df-convert {\n",
              "      background-color: #3B4455;\n",
              "      fill: #D2E3FC;\n",
              "    }\n",
              "\n",
              "    [theme=dark] .colab-df-convert:hover {\n",
              "      background-color: #434B5C;\n",
              "      box-shadow: 0px 1px 3px 1px rgba(0, 0, 0, 0.15);\n",
              "      filter: drop-shadow(0px 1px 2px rgba(0, 0, 0, 0.3));\n",
              "      fill: #FFFFFF;\n",
              "    }\n",
              "  </style>\n",
              "\n",
              "      <script>\n",
              "        const buttonEl =\n",
              "          document.querySelector('#df-57cd998d-5ac8-40bb-aff6-bbab0de8d7e9 button.colab-df-convert');\n",
              "        buttonEl.style.display =\n",
              "          google.colab.kernel.accessAllowed ? 'block' : 'none';\n",
              "\n",
              "        async function convertToInteractive(key) {\n",
              "          const element = document.querySelector('#df-57cd998d-5ac8-40bb-aff6-bbab0de8d7e9');\n",
              "          const dataTable =\n",
              "            await google.colab.kernel.invokeFunction('convertToInteractive',\n",
              "                                                     [key], {});\n",
              "          if (!dataTable) return;\n",
              "\n",
              "          const docLinkHtml = 'Like what you see? Visit the ' +\n",
              "            '<a target=\"_blank\" href=https://colab.research.google.com/notebooks/data_table.ipynb>data table notebook</a>'\n",
              "            + ' to learn more about interactive tables.';\n",
              "          element.innerHTML = '';\n",
              "          dataTable['output_type'] = 'display_data';\n",
              "          await google.colab.output.renderOutput(dataTable, element);\n",
              "          const docLink = document.createElement('div');\n",
              "          docLink.innerHTML = docLinkHtml;\n",
              "          element.appendChild(docLink);\n",
              "        }\n",
              "      </script>\n",
              "    </div>\n",
              "  </div>\n",
              "  "
            ]
          },
          "metadata": {},
          "execution_count": 119
        }
      ]
    },
    {
      "cell_type": "markdown",
      "source": [
        "#Scaling"
      ],
      "metadata": {
        "id": "ImYLmpu8pkxl"
      }
    },
    {
      "cell_type": "code",
      "source": [
        "from sklearn.preprocessing import StandardScaler"
      ],
      "metadata": {
        "id": "txzQi7J0plVG"
      },
      "execution_count": 120,
      "outputs": []
    },
    {
      "cell_type": "code",
      "source": [
        "ss = StandardScaler()"
      ],
      "metadata": {
        "id": "3yEZ35RbswTF"
      },
      "execution_count": 121,
      "outputs": []
    },
    {
      "cell_type": "code",
      "source": [
        "X_train = ss.fit_transform(X_train)\n",
        "X_test = ss.transform(X_test)"
      ],
      "metadata": {
        "id": "Ls8cyaD-s-yd"
      },
      "execution_count": 122,
      "outputs": []
    },
    {
      "cell_type": "markdown",
      "source": [
        "# Model Building"
      ],
      "metadata": {
        "id": "uwQdHZ71xDuC"
      }
    },
    {
      "cell_type": "code",
      "source": [
        "from sklearn.linear_model import LinearRegression, SGDRegressor\n",
        "from sklearn.svm import SVR\n",
        "from sklearn.tree import DecisionTreeRegressor\n",
        "from sklearn.ensemble import RandomForestRegressor, GradientBoostingRegressor"
      ],
      "metadata": {
        "id": "_1KOCW1bxL6h"
      },
      "execution_count": 123,
      "outputs": []
    },
    {
      "cell_type": "code",
      "source": [
        "lr = LinearRegression()\n",
        "sgd = SGDRegressor()\n",
        "svr = SVR()\n",
        "dtr = DecisionTreeRegressor()\n",
        "rfr = RandomForestRegressor()\n",
        "gbr = GradientBoostingRegressor()"
      ],
      "metadata": {
        "id": "GEWpIV4byKwI"
      },
      "execution_count": 124,
      "outputs": []
    },
    {
      "cell_type": "code",
      "source": [
        "y_train.shape"
      ],
      "metadata": {
        "colab": {
          "base_uri": "https://localhost:8080/"
        },
        "id": "wNgg7y5E0_Oi",
        "outputId": "b3c9280e-394c-4f60-be71-5d5bf1b94cfd"
      },
      "execution_count": 125,
      "outputs": [
        {
          "output_type": "execute_result",
          "data": {
            "text/plain": [
              "(164,)"
            ]
          },
          "metadata": {},
          "execution_count": 125
        }
      ]
    },
    {
      "cell_type": "code",
      "source": [
        "rfr.fit(X_train, y_train)"
      ],
      "metadata": {
        "colab": {
          "base_uri": "https://localhost:8080/",
          "height": 317
        },
        "id": "RS8CyfwNyCSo",
        "outputId": "7427caf2-491d-4531-f3e1-0ed0276cde36"
      },
      "execution_count": 127,
      "outputs": [
        {
          "output_type": "error",
          "ename": "ValueError",
          "evalue": "ignored",
          "traceback": [
            "\u001b[0;31m---------------------------------------------------------------------------\u001b[0m",
            "\u001b[0;31mValueError\u001b[0m                                Traceback (most recent call last)",
            "\u001b[0;32m<ipython-input-127-e1b1f0422edb>\u001b[0m in \u001b[0;36m<module>\u001b[0;34m\u001b[0m\n\u001b[0;32m----> 1\u001b[0;31m \u001b[0mrfr\u001b[0m\u001b[0;34m.\u001b[0m\u001b[0mfit\u001b[0m\u001b[0;34m(\u001b[0m\u001b[0mX_train\u001b[0m\u001b[0;34m,\u001b[0m \u001b[0my_train\u001b[0m\u001b[0;34m)\u001b[0m\u001b[0;34m\u001b[0m\u001b[0;34m\u001b[0m\u001b[0m\n\u001b[0m",
            "\u001b[0;32m/usr/local/lib/python3.7/dist-packages/sklearn/ensemble/_forest.py\u001b[0m in \u001b[0;36mfit\u001b[0;34m(self, X, y, sample_weight)\u001b[0m\n\u001b[1;32m    326\u001b[0m             \u001b[0;32mraise\u001b[0m \u001b[0mValueError\u001b[0m\u001b[0;34m(\u001b[0m\u001b[0;34m\"sparse multilabel-indicator for y is not supported.\"\u001b[0m\u001b[0;34m)\u001b[0m\u001b[0;34m\u001b[0m\u001b[0;34m\u001b[0m\u001b[0m\n\u001b[1;32m    327\u001b[0m         X, y = self._validate_data(\n\u001b[0;32m--> 328\u001b[0;31m             \u001b[0mX\u001b[0m\u001b[0;34m,\u001b[0m \u001b[0my\u001b[0m\u001b[0;34m,\u001b[0m \u001b[0mmulti_output\u001b[0m\u001b[0;34m=\u001b[0m\u001b[0;32mTrue\u001b[0m\u001b[0;34m,\u001b[0m \u001b[0maccept_sparse\u001b[0m\u001b[0;34m=\u001b[0m\u001b[0;34m\"csc\"\u001b[0m\u001b[0;34m,\u001b[0m \u001b[0mdtype\u001b[0m\u001b[0;34m=\u001b[0m\u001b[0mDTYPE\u001b[0m\u001b[0;34m\u001b[0m\u001b[0;34m\u001b[0m\u001b[0m\n\u001b[0m\u001b[1;32m    329\u001b[0m         )\n\u001b[1;32m    330\u001b[0m         \u001b[0;32mif\u001b[0m \u001b[0msample_weight\u001b[0m \u001b[0;32mis\u001b[0m \u001b[0;32mnot\u001b[0m \u001b[0;32mNone\u001b[0m\u001b[0;34m:\u001b[0m\u001b[0;34m\u001b[0m\u001b[0;34m\u001b[0m\u001b[0m\n",
            "\u001b[0;32m/usr/local/lib/python3.7/dist-packages/sklearn/base.py\u001b[0m in \u001b[0;36m_validate_data\u001b[0;34m(self, X, y, reset, validate_separately, **check_params)\u001b[0m\n\u001b[1;32m    579\u001b[0m                 \u001b[0my\u001b[0m \u001b[0;34m=\u001b[0m \u001b[0mcheck_array\u001b[0m\u001b[0;34m(\u001b[0m\u001b[0my\u001b[0m\u001b[0;34m,\u001b[0m \u001b[0;34m**\u001b[0m\u001b[0mcheck_y_params\u001b[0m\u001b[0;34m)\u001b[0m\u001b[0;34m\u001b[0m\u001b[0;34m\u001b[0m\u001b[0m\n\u001b[1;32m    580\u001b[0m             \u001b[0;32melse\u001b[0m\u001b[0;34m:\u001b[0m\u001b[0;34m\u001b[0m\u001b[0;34m\u001b[0m\u001b[0m\n\u001b[0;32m--> 581\u001b[0;31m                 \u001b[0mX\u001b[0m\u001b[0;34m,\u001b[0m \u001b[0my\u001b[0m \u001b[0;34m=\u001b[0m \u001b[0mcheck_X_y\u001b[0m\u001b[0;34m(\u001b[0m\u001b[0mX\u001b[0m\u001b[0;34m,\u001b[0m \u001b[0my\u001b[0m\u001b[0;34m,\u001b[0m \u001b[0;34m**\u001b[0m\u001b[0mcheck_params\u001b[0m\u001b[0;34m)\u001b[0m\u001b[0;34m\u001b[0m\u001b[0;34m\u001b[0m\u001b[0m\n\u001b[0m\u001b[1;32m    582\u001b[0m             \u001b[0mout\u001b[0m \u001b[0;34m=\u001b[0m \u001b[0mX\u001b[0m\u001b[0;34m,\u001b[0m \u001b[0my\u001b[0m\u001b[0;34m\u001b[0m\u001b[0;34m\u001b[0m\u001b[0m\n\u001b[1;32m    583\u001b[0m \u001b[0;34m\u001b[0m\u001b[0m\n",
            "\u001b[0;32m/usr/local/lib/python3.7/dist-packages/sklearn/utils/validation.py\u001b[0m in \u001b[0;36mcheck_X_y\u001b[0;34m(X, y, accept_sparse, accept_large_sparse, dtype, order, copy, force_all_finite, ensure_2d, allow_nd, multi_output, ensure_min_samples, ensure_min_features, y_numeric, estimator)\u001b[0m\n\u001b[1;32m    979\u001b[0m     \u001b[0my\u001b[0m \u001b[0;34m=\u001b[0m \u001b[0m_check_y\u001b[0m\u001b[0;34m(\u001b[0m\u001b[0my\u001b[0m\u001b[0;34m,\u001b[0m \u001b[0mmulti_output\u001b[0m\u001b[0;34m=\u001b[0m\u001b[0mmulti_output\u001b[0m\u001b[0;34m,\u001b[0m \u001b[0my_numeric\u001b[0m\u001b[0;34m=\u001b[0m\u001b[0my_numeric\u001b[0m\u001b[0;34m)\u001b[0m\u001b[0;34m\u001b[0m\u001b[0;34m\u001b[0m\u001b[0m\n\u001b[1;32m    980\u001b[0m \u001b[0;34m\u001b[0m\u001b[0m\n\u001b[0;32m--> 981\u001b[0;31m     \u001b[0mcheck_consistent_length\u001b[0m\u001b[0;34m(\u001b[0m\u001b[0mX\u001b[0m\u001b[0;34m,\u001b[0m \u001b[0my\u001b[0m\u001b[0;34m)\u001b[0m\u001b[0;34m\u001b[0m\u001b[0;34m\u001b[0m\u001b[0m\n\u001b[0m\u001b[1;32m    982\u001b[0m \u001b[0;34m\u001b[0m\u001b[0m\n\u001b[1;32m    983\u001b[0m     \u001b[0;32mreturn\u001b[0m \u001b[0mX\u001b[0m\u001b[0;34m,\u001b[0m \u001b[0my\u001b[0m\u001b[0;34m\u001b[0m\u001b[0;34m\u001b[0m\u001b[0m\n",
            "\u001b[0;32m/usr/local/lib/python3.7/dist-packages/sklearn/utils/validation.py\u001b[0m in \u001b[0;36mcheck_consistent_length\u001b[0;34m(*arrays)\u001b[0m\n\u001b[1;32m    332\u001b[0m         raise ValueError(\n\u001b[1;32m    333\u001b[0m             \u001b[0;34m\"Found input variables with inconsistent numbers of samples: %r\"\u001b[0m\u001b[0;34m\u001b[0m\u001b[0;34m\u001b[0m\u001b[0m\n\u001b[0;32m--> 334\u001b[0;31m             \u001b[0;34m%\u001b[0m \u001b[0;34m[\u001b[0m\u001b[0mint\u001b[0m\u001b[0;34m(\u001b[0m\u001b[0ml\u001b[0m\u001b[0;34m)\u001b[0m \u001b[0;32mfor\u001b[0m \u001b[0ml\u001b[0m \u001b[0;32min\u001b[0m \u001b[0mlengths\u001b[0m\u001b[0;34m]\u001b[0m\u001b[0;34m\u001b[0m\u001b[0;34m\u001b[0m\u001b[0m\n\u001b[0m\u001b[1;32m    335\u001b[0m         )\n\u001b[1;32m    336\u001b[0m \u001b[0;34m\u001b[0m\u001b[0m\n",
            "\u001b[0;31mValueError\u001b[0m: Found input variables with inconsistent numbers of samples: [158, 164]"
          ]
        }
      ]
    }
  ]
}